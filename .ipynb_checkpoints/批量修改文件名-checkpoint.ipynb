{
 "cells": [
  {
   "cell_type": "code",
   "execution_count": 1,
   "metadata": {},
   "outputs": [],
   "source": [
    "dic1={ 1751545: '李庆涛',\n",
    "      1752804: '朱紫钰', 1850275: '刘岳朋', 1850580: '赵东虎',\n",
    "      1850588: '蔡晋书', 1850630: '樊庶', \n",
    "      1850702: '王思涵', 1850926: '金筱语', 1850927: '李振铭', \n",
    "      1850933: '梁星', 1851179: '李晟', 1851317: '蔡依林', \n",
    "      1851318: '汪芷瑶', 1851338: '何佳萌', 1851655: '余韵婧',\n",
    "      1851744: '叶倪瑄', 1851870: '丛诺', 1851872: '李兆祥', \n",
    "      1851878: '赵启晨', 1851923: '吕辰杰', 1852010: '戚美晨', \n",
    "      1852428: '刘旭东',  1852516: '简子涵', \n",
    "      1852544: '罗冠培', 1852823: '邓骞', 1852830: '王晨杨', \n",
    "      1852845: '孙颖聪', 1852885: '马旭', 1853234: '冷帅', \n",
    "      1853241: '李佳欣', 1853280: '胡雨辰',  \n",
    "      1853363: '周洋', 1853430: '孙乙月', 1853447: '苏浩文', \n",
    "      1853566: '袁弋鸿', 1853699: '胡佳炜', 1853804: '王思澄', \n",
    "      1853823: '王砚轩', 1853838: '徐子璇', 1853932: '刘佳琦', \n",
    "      1853937: '樊孟奇', 1854161: '张雪晨', 1854171: '孙思薇',\n",
    "     1851688:'施致远',1853527:'张佳伟',1853270:'马沅辰'}  #所有学生的学号+姓名构成的字典"
   ]
  },
  {
   "cell_type": "code",
   "execution_count": 2,
   "metadata": {},
   "outputs": [
    {
     "name": "stdout",
     "output_type": "stream",
     "text": [
      "['1751545+李庆涛+运筹学作业5.pdf', '1850588 蔡晋书 下（5）.pdf', '1850702王思涵第5次作业.pdf', '1850933梁星第五次作业.pdf', '1851317-蔡依林-运筹学下作业5.pdf', '1851655 余韵婧.pdf', '1851688 施致远.pdf', '1851744叶倪瑄5.pdf', '1851872李兆祥  作业5.pdf', '1851878 赵启晨 运筹学作业5.pdf', '1851923 吕辰杰.pdf', '1852010 戚美晨.pdf', '1852428 刘旭东.pdf', '1852516 简子涵 第五次作业.pdf', '1852544-罗冠培.pdf', '1852823 邓骞 第五次作业.pdf', '1852830 王晨杨 第五次作业.pdf', '1852845 孙颖聪 第5次作业 .pdf', '1852885-马旭-运筹学下第五次作业.pdf', '1853234 冷帅.pdf', '1853241李佳欣.pdf', '1853280胡雨辰-第五次作业.pdf', '1853430孙乙月作业五.pdf', '1853447 苏浩文.pdf', '1853527张佳伟运筹下5.pdf', '1853566袁弋鸿.pdf', '1853699 胡佳炜.pdf', '1853804 王思澄 运筹学第5次作业.pdf', '1853838徐子璇.pdf', '1853932 刘佳琦第五次作业.pdf', '1853937 樊孟奇 第5次作业.pdf', '1854161 张雪晨 运筹学（下）第五次作业.pdf', '1854171孙思薇.pdf', '朱紫钰1752804作业5.pdf', '第五次作业-1850927-李振铭.pdf', '第五次作业1850926金筱语.pdf', '运筹学下作业5 刘岳朋1850275.pdf', '运筹学下第5次作业-周洋-1853363.pdf', '运筹学作业第五次1853823王砚轩.pdf', '运筹学第五次作业1851318汪芷瑶.pdf', '马沅辰 1853270.pdf']\n"
     ]
    }
   ],
   "source": [
    "import os\n",
    "import re\n",
    "spath =r'C:\\Users\\刘佳琦\\Desktop\\运筹学第五次作业'\n",
    "\n",
    "lists_names=[]\n",
    "n=0#记录原文件数\n",
    "t1=0#记录修改文件数\n",
    "t2=0\n",
    "for list_name in os.listdir(spath):    #用os库查看该文件目录下所有的文件名称\n",
    "    lists_names.append(list_name)\n",
    "    n+=1\n",
    "print(lists_names)\n",
    "xiugai=[]"
   ]
  },
  {
   "cell_type": "code",
   "execution_count": 3,
   "metadata": {},
   "outputs": [
    {
     "name": "stdout",
     "output_type": "stream",
     "text": [
      "C:\\Users\\刘佳琦\\Desktop\\运筹学第五次作业\\1751545+李庆涛+运筹学作业5.pdf ======> C:\\Users\\刘佳琦\\Desktop\\运筹学第五次作业\\1751545李庆涛5.pdf\n",
      "C:\\Users\\刘佳琦\\Desktop\\运筹学第五次作业\\1850588 蔡晋书 下（5）.pdf ======> C:\\Users\\刘佳琦\\Desktop\\运筹学第五次作业\\1850588蔡晋书5.pdf\n",
      "C:\\Users\\刘佳琦\\Desktop\\运筹学第五次作业\\1850702王思涵第5次作业.pdf ======> C:\\Users\\刘佳琦\\Desktop\\运筹学第五次作业\\1850702王思涵5.pdf\n",
      "C:\\Users\\刘佳琦\\Desktop\\运筹学第五次作业\\1850933梁星第五次作业.pdf ======> C:\\Users\\刘佳琦\\Desktop\\运筹学第五次作业\\1850933梁星5.pdf\n",
      "C:\\Users\\刘佳琦\\Desktop\\运筹学第五次作业\\1851317-蔡依林-运筹学下作业5.pdf ======> C:\\Users\\刘佳琦\\Desktop\\运筹学第五次作业\\1851317蔡依林5.pdf\n",
      "C:\\Users\\刘佳琦\\Desktop\\运筹学第五次作业\\1851655 余韵婧.pdf ======> C:\\Users\\刘佳琦\\Desktop\\运筹学第五次作业\\1851655余韵婧5.pdf\n",
      "C:\\Users\\刘佳琦\\Desktop\\运筹学第五次作业\\1851688 施致远.pdf ======> C:\\Users\\刘佳琦\\Desktop\\运筹学第五次作业\\1851688施致远5.pdf\n",
      "C:\\Users\\刘佳琦\\Desktop\\运筹学第五次作业\\1851744叶倪瑄5.pdf ======> C:\\Users\\刘佳琦\\Desktop\\运筹学第五次作业\\1851744叶倪瑄5.pdf\n",
      "C:\\Users\\刘佳琦\\Desktop\\运筹学第五次作业\\1851872李兆祥  作业5.pdf ======> C:\\Users\\刘佳琦\\Desktop\\运筹学第五次作业\\1851872李兆祥5.pdf\n",
      "C:\\Users\\刘佳琦\\Desktop\\运筹学第五次作业\\1851878 赵启晨 运筹学作业5.pdf ======> C:\\Users\\刘佳琦\\Desktop\\运筹学第五次作业\\1851878赵启晨5.pdf\n",
      "C:\\Users\\刘佳琦\\Desktop\\运筹学第五次作业\\1851923 吕辰杰.pdf ======> C:\\Users\\刘佳琦\\Desktop\\运筹学第五次作业\\1851923吕辰杰5.pdf\n",
      "C:\\Users\\刘佳琦\\Desktop\\运筹学第五次作业\\1852010 戚美晨.pdf ======> C:\\Users\\刘佳琦\\Desktop\\运筹学第五次作业\\1852010戚美晨5.pdf\n",
      "C:\\Users\\刘佳琦\\Desktop\\运筹学第五次作业\\1852428 刘旭东.pdf ======> C:\\Users\\刘佳琦\\Desktop\\运筹学第五次作业\\1852428刘旭东5.pdf\n",
      "C:\\Users\\刘佳琦\\Desktop\\运筹学第五次作业\\1852516 简子涵 第五次作业.pdf ======> C:\\Users\\刘佳琦\\Desktop\\运筹学第五次作业\\1852516简子涵5.pdf\n",
      "C:\\Users\\刘佳琦\\Desktop\\运筹学第五次作业\\1852544-罗冠培.pdf ======> C:\\Users\\刘佳琦\\Desktop\\运筹学第五次作业\\1852544罗冠培5.pdf\n",
      "C:\\Users\\刘佳琦\\Desktop\\运筹学第五次作业\\1852823 邓骞 第五次作业.pdf ======> C:\\Users\\刘佳琦\\Desktop\\运筹学第五次作业\\1852823邓骞5.pdf\n",
      "C:\\Users\\刘佳琦\\Desktop\\运筹学第五次作业\\1852830 王晨杨 第五次作业.pdf ======> C:\\Users\\刘佳琦\\Desktop\\运筹学第五次作业\\1852830王晨杨5.pdf\n",
      "C:\\Users\\刘佳琦\\Desktop\\运筹学第五次作业\\1852845 孙颖聪 第5次作业 .pdf ======> C:\\Users\\刘佳琦\\Desktop\\运筹学第五次作业\\1852845孙颖聪5.pdf\n",
      "C:\\Users\\刘佳琦\\Desktop\\运筹学第五次作业\\1852885-马旭-运筹学下第五次作业.pdf ======> C:\\Users\\刘佳琦\\Desktop\\运筹学第五次作业\\1852885马旭5.pdf\n",
      "C:\\Users\\刘佳琦\\Desktop\\运筹学第五次作业\\1853234 冷帅.pdf ======> C:\\Users\\刘佳琦\\Desktop\\运筹学第五次作业\\1853234冷帅5.pdf\n",
      "C:\\Users\\刘佳琦\\Desktop\\运筹学第五次作业\\1853241李佳欣.pdf ======> C:\\Users\\刘佳琦\\Desktop\\运筹学第五次作业\\1853241李佳欣5.pdf\n",
      "C:\\Users\\刘佳琦\\Desktop\\运筹学第五次作业\\1853280胡雨辰-第五次作业.pdf ======> C:\\Users\\刘佳琦\\Desktop\\运筹学第五次作业\\1853280胡雨辰5.pdf\n",
      "C:\\Users\\刘佳琦\\Desktop\\运筹学第五次作业\\1853430孙乙月作业五.pdf ======> C:\\Users\\刘佳琦\\Desktop\\运筹学第五次作业\\1853430孙乙月5.pdf\n",
      "C:\\Users\\刘佳琦\\Desktop\\运筹学第五次作业\\1853447 苏浩文.pdf ======> C:\\Users\\刘佳琦\\Desktop\\运筹学第五次作业\\1853447苏浩文5.pdf\n",
      "C:\\Users\\刘佳琦\\Desktop\\运筹学第五次作业\\1853527张佳伟运筹下5.pdf ======> C:\\Users\\刘佳琦\\Desktop\\运筹学第五次作业\\1853527张佳伟5.pdf\n",
      "C:\\Users\\刘佳琦\\Desktop\\运筹学第五次作业\\1853566袁弋鸿.pdf ======> C:\\Users\\刘佳琦\\Desktop\\运筹学第五次作业\\1853566袁弋鸿5.pdf\n",
      "C:\\Users\\刘佳琦\\Desktop\\运筹学第五次作业\\1853699 胡佳炜.pdf ======> C:\\Users\\刘佳琦\\Desktop\\运筹学第五次作业\\1853699胡佳炜5.pdf\n",
      "C:\\Users\\刘佳琦\\Desktop\\运筹学第五次作业\\1853804 王思澄 运筹学第5次作业.pdf ======> C:\\Users\\刘佳琦\\Desktop\\运筹学第五次作业\\1853804王思澄5.pdf\n",
      "C:\\Users\\刘佳琦\\Desktop\\运筹学第五次作业\\1853838徐子璇.pdf ======> C:\\Users\\刘佳琦\\Desktop\\运筹学第五次作业\\1853838徐子璇5.pdf\n",
      "C:\\Users\\刘佳琦\\Desktop\\运筹学第五次作业\\1853932 刘佳琦第五次作业.pdf ======> C:\\Users\\刘佳琦\\Desktop\\运筹学第五次作业\\1853932刘佳琦5.pdf\n",
      "C:\\Users\\刘佳琦\\Desktop\\运筹学第五次作业\\1853937 樊孟奇 第5次作业.pdf ======> C:\\Users\\刘佳琦\\Desktop\\运筹学第五次作业\\1853937樊孟奇5.pdf\n",
      "C:\\Users\\刘佳琦\\Desktop\\运筹学第五次作业\\1854161 张雪晨 运筹学（下）第五次作业.pdf ======> C:\\Users\\刘佳琦\\Desktop\\运筹学第五次作业\\1854161张雪晨5.pdf\n",
      "C:\\Users\\刘佳琦\\Desktop\\运筹学第五次作业\\1854171孙思薇.pdf ======> C:\\Users\\刘佳琦\\Desktop\\运筹学第五次作业\\1854171孙思薇5.pdf\n",
      "C:\\Users\\刘佳琦\\Desktop\\运筹学第五次作业\\朱紫钰1752804作业5.pdf ======> C:\\Users\\刘佳琦\\Desktop\\运筹学第五次作业\\1752804朱紫钰5.pdf\n",
      "C:\\Users\\刘佳琦\\Desktop\\运筹学第五次作业\\第五次作业-1850927-李振铭.pdf ======> C:\\Users\\刘佳琦\\Desktop\\运筹学第五次作业\\1850927李振铭5.pdf\n",
      "C:\\Users\\刘佳琦\\Desktop\\运筹学第五次作业\\第五次作业1850926金筱语.pdf ======> C:\\Users\\刘佳琦\\Desktop\\运筹学第五次作业\\1850926金筱语5.pdf\n",
      "C:\\Users\\刘佳琦\\Desktop\\运筹学第五次作业\\运筹学下作业5 刘岳朋1850275.pdf ======> C:\\Users\\刘佳琦\\Desktop\\运筹学第五次作业\\1850275刘岳朋5.pdf\n",
      "C:\\Users\\刘佳琦\\Desktop\\运筹学第五次作业\\运筹学下第5次作业-周洋-1853363.pdf ======> C:\\Users\\刘佳琦\\Desktop\\运筹学第五次作业\\1853363周洋5.pdf\n",
      "C:\\Users\\刘佳琦\\Desktop\\运筹学第五次作业\\运筹学作业第五次1853823王砚轩.pdf ======> C:\\Users\\刘佳琦\\Desktop\\运筹学第五次作业\\1853823王砚轩5.pdf\n",
      "C:\\Users\\刘佳琦\\Desktop\\运筹学第五次作业\\运筹学第五次作业1851318汪芷瑶.pdf ======> C:\\Users\\刘佳琦\\Desktop\\运筹学第五次作业\\1851318汪芷瑶5.pdf\n",
      "C:\\Users\\刘佳琦\\Desktop\\运筹学第五次作业\\马沅辰 1853270.pdf ======> C:\\Users\\刘佳琦\\Desktop\\运筹学第五次作业\\1853270马沅辰5.pdf\n",
      "41 41 0\n"
     ]
    }
   ],
   "source": [
    "no=5\n",
    "for name in lists_names:   \n",
    "    l=re.findall(r\"\\d+\\.?\\d*\",name)\n",
    "    for i in l:\n",
    "        if float(i)>1000000:\n",
    "            xuehao=(int(float(i)))\n",
    "            if xuehao not in xiugai:\n",
    "                xiugai.append(xuehao)\n",
    "                try:\n",
    "\n",
    "                    #设置旧文件名（就是路径+文件名）\n",
    "                    oldname=spath+ os.sep + name  # os.sep添加系统分隔符\n",
    "                    xiugai.append(xuehao)\n",
    "\n",
    "                    #设置新文件名\n",
    "                    \n",
    "                    newname=spath+ os.sep +str(xuehao)+dic1[xuehao]+str(no)+'.pdf'\n",
    "\n",
    "                    os.rename(oldname,newname)   #用os模块中的rename方法对文件改名\n",
    "                    print(oldname,'======>',newname)\n",
    "\n",
    "                    t1+=1\n",
    "                except:\n",
    "                    print(\"%s修改失败\"%dic1[xuehao])\n",
    "                    continue\n",
    "            else:\n",
    "                try:\n",
    "\n",
    "                    #设置旧文件名（就是路径+文件名）\n",
    "                    oldname=spath+ os.sep + name  # os.sep添加系统分隔符\n",
    "                    xiugai.append(xuehao)\n",
    "\n",
    "                    #设置新文件名\n",
    "                    newname=spath+ os.sep +str(xuehao)+ dic1[xuehao]+'2'+'.pdf'\n",
    "\n",
    "                    os.rename(oldname,newname)   #用os模块中的rename方法对文件改名\n",
    "                    print(oldname,'======>',newname)\n",
    "\n",
    "                    t2+=1\n",
    "                except:\n",
    "                    continue\n",
    "            \n",
    "print(n,t1,t2)    "
   ]
  },
  {
   "cell_type": "code",
   "execution_count": null,
   "metadata": {},
   "outputs": [],
   "source": []
  }
 ],
 "metadata": {
  "kernelspec": {
   "display_name": "Python 3",
   "language": "python",
   "name": "python3"
  },
  "language_info": {
   "codemirror_mode": {
    "name": "ipython",
    "version": 3
   },
   "file_extension": ".py",
   "mimetype": "text/x-python",
   "name": "python",
   "nbconvert_exporter": "python",
   "pygments_lexer": "ipython3",
   "version": "3.7.1"
  }
 },
 "nbformat": 4,
 "nbformat_minor": 4
}
