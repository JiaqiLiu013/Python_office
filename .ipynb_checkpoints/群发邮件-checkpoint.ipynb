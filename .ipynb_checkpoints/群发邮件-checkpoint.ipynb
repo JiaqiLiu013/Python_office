{
 "cells": [
  {
   "cell_type": "code",
   "execution_count": 3,
   "metadata": {},
   "outputs": [],
   "source": [
    "#需要的两个库均为Python自带无需安装  smtplib,email\n",
    "import smtplib\n",
    "from smtplib import SMTP_SSL  #负责加密邮件\n",
    "from email.mime.multipart import MIMEMultipart  #将邮件的各部分装在一起\n",
    "from email.mime.text import MIMEText  #构建邮件的正文\n",
    "from email.header import Header #邮件头 包括收件人等信息\n",
    "from email.mime.application import MIMEApplication"
   ]
  },
  {
   "cell_type": "code",
   "execution_count": 2,
   "metadata": {},
   "outputs": [],
   "source": [
    "dic2={ 1751545: '李庆涛',\n",
    "      1752804: '朱紫钰', 1850275: '刘岳朋', 1850580: '赵东虎',\n",
    "      1850588: '蔡晋书', 1850630: '樊庶', \n",
    "      1850702: '王思涵', 1850926: '金筱语', 1850927: '李振铭', \n",
    "      1850933: '梁星', 1851179: '李晟', 1851317: '蔡依林', \n",
    "      1851318: '汪芷瑶', 1851338: '何佳萌', 1851655: '余韵婧',\n",
    "      1851744: '叶倪瑄', 1851870: '丛诺', 1851872: '李兆祥', \n",
    "      1851878: '赵启晨', 1851923: '吕辰杰', 1852010: '戚美晨', \n",
    "      1852428: '刘旭东',  1852516: '简子涵', \n",
    "      1852544: '罗冠培', 1852823: '邓骞', 1852830: '王晨杨', \n",
    "      1852845: '孙颖聪', 1852885: '马旭', 1853234: '冷帅', \n",
    "      1853241: '李佳欣', 1853280: '胡雨辰',  \n",
    "      1853363: '周洋', 1853430: '孙乙月', 1853447: '苏浩文', \n",
    "      1853566: '袁弋鸿', 1853699: '胡佳炜', 1853804: '王思澄', \n",
    "      1853823: '王砚轩', 1853838: '徐子璇', 1853932: '刘佳琦', \n",
    "      1853937: '樊孟奇', 1854161: '张雪晨', 1854171: '孙思薇',\n",
    "     1851688:'施致远',1853527:'张佳伟',1853270:'马沅辰'}  #所有学生的学号+姓名构成的字典"
   ]
  },
  {
   "cell_type": "code",
   "execution_count": 3,
   "metadata": {},
   "outputs": [],
   "source": [
    "dic3={}\n",
    "for i in dic2:\n",
    "    dic3[dic2[i]]=i\n"
   ]
  },
  {
   "cell_type": "code",
   "execution_count": 4,
   "metadata": {},
   "outputs": [],
   "source": [
    "#运筹学上班级同学邮件的字典\n",
    "dic0={'蔡晋书': '1790948593@qq.com', '蔡依林': 'jshmcyl@126.com', \n",
    " '丛诺': '812605535@qq.com', '邓骞': '2606223563@qq.com', \n",
    " '樊孟奇': '1853937@tongji.edu.cn', '樊庶': '1025267426@qq.com',\n",
    " '何佳萌': '402056444@qq.com', '胡佳炜': '1853699@tongji.edu.cn', \n",
    " '简子涵': '767000330@qq.com', '金筱语': '894411794@qq.com', \n",
    " '冷帅': '1095840692@qq.com', '李佳欣': '1243846523@qq.com', \n",
    " '李庆涛': 'lqt1751545@163.com', '李兆祥': '2735519224@qq.com', \n",
    " '李振铭': 'stevep.jobs@icloud.com', '李晟': '1403388753@qq.com', \n",
    " '刘李明': '1853328@tongji.edu.cn', '刘旭东': '1960441391@qq.com', \n",
    " '刘岳朋': '2260527882@qq.com', '吕辰杰': '1332977907@qq.com',\n",
    " '罗冠培': '1852544@tongji.edu.cn', '马旭': '1379266637@qq.com', \n",
    " '戚美晨': '1852010@tongji.edu.cn', '苏浩文': '17721258579@163.com',\n",
    " '孙思薇': '1854171@tongji.edu.cn', '孙乙月': 'sunyy2000@126.com', \n",
    " '孙颖聪': '1852845@tongji.edu.cn', '汪芷瑶': '1838364293@qq.com', \n",
    " '王晨杨': '1271759923@qq.com', '胡雨辰': '1853280@tongji.edu.cn', \n",
    " '王柯': '635363227@qq.com', '王思涵': '1335931178@qq.com', \n",
    " '王砚轩': '1853823@tongji.edu.cn', '徐子璇': 'xjf0216@126.com',\n",
    " '杨溥炎': '3565354044@qq.com', '叶倪瑄': '2674891087@qq.com', \n",
    " '余韵婧': '1851655@tongji.edu.cn', '袁弋鸿': '996378782@qq.com',\n",
    " '张雪晨': '764513897@qq.com', '张紫越': '1004949126@qq.com', \n",
    " '赵东虎': '1850580@tongji.edu.cn', '赵启晨': '979116524@qq.com', \n",
    " '周星宇': '1652127@tongji.edu.cn', '周洋': '2209146356@qq.com', \n",
    " '朱紫钰': '1196048276@qq.com','王思澄':'1853804@tongji.edu.cn',\n",
    " '梁星':'289243670@qq.com'}"
   ]
  },
  {
   "cell_type": "code",
   "execution_count": 5,
   "metadata": {},
   "outputs": [],
   "source": [
    "#运筹学下班级同学邮件的字典  还差2个\n",
    "dic1={'蔡晋书': '1790948593@qq.com', '蔡依林': 'jshmcyl@126.com', \n",
    " '丛诺': '812605535@qq.com', '邓骞': '2606223563@qq.com', \n",
    " '樊孟奇': '1853937@tongji.edu.cn', '樊庶': '1025267426@qq.com',\n",
    " '何佳萌': '402056444@qq.com', '胡佳炜': '1853699@tongji.edu.cn', \n",
    " '简子涵': '767000330@qq.com', '金筱语': '894411794@qq.com', \n",
    " '冷帅': '1095840692@qq.com', '李佳欣': '1243846523@qq.com', \n",
    " '李庆涛': 'lqt1751545@163.com', '李兆祥': '2735519224@qq.com', \n",
    " '李振铭': 'stevep.jobs@icloud.com', '李晟': '1403388753@qq.com', \n",
    " '刘旭东': '1960441391@qq.com', \n",
    " '刘岳朋': '2260527882@qq.com', '吕辰杰': '1332977907@qq.com',\n",
    " '罗冠培': '1852544@tongji.edu.cn', '马旭': '1379266637@qq.com', \n",
    " '戚美晨': '1852010@tongji.edu.cn', '苏浩文': '17721258579@163.com',\n",
    " '孙思薇': '1854171@tongji.edu.cn', '孙乙月': 'sunyy2000@126.com', \n",
    " '孙颖聪': '1852845@tongji.edu.cn', '汪芷瑶': '1838364293@qq.com', \n",
    " '王晨杨': '1271759923@qq.com', '胡雨辰': '1853280@tongji.edu.cn', \n",
    "  '王思涵': '1335931178@qq.com', \n",
    " '王砚轩': '1853823@tongji.edu.cn', '徐子璇': 'xjf0216@126.com',\n",
    "  '叶倪瑄': '2674891087@qq.com', \n",
    " '余韵婧': '1851655@tongji.edu.cn', '袁弋鸿': '996378782@qq.com',\n",
    " '张雪晨': '764513897@qq.com', \n",
    " '赵东虎': '1850580@tongji.edu.cn', '赵启晨': '979116524@qq.com', \n",
    "  '周洋': '2209146356@qq.com', \n",
    " '朱紫钰': '1196048276@qq.com','王思澄':'1853804@tongji.edu.cn',\n",
    " '梁星':'289243670@qq.com',\n",
    "     '张佳伟':'741711572@qq.com','施致远':'827186374@qq.com',\n",
    "     '马沅辰':'1439115876@qq.com'}"
   ]
  },
  {
   "cell_type": "code",
   "execution_count": 6,
   "metadata": {},
   "outputs": [],
   "source": [
    "def send_email(from_addr, to_addr, subject, password,xuehaoname,text):  #name为目标人的姓名  text 为文本信息 no为作业次数\n",
    "    fpath11=r'C:\\Users\\刘佳琦\\Desktop\\运筹学第七次作业-改\\\\'\n",
    "    fpath21=xuehaoname+'.pdf'\n",
    "    fpath22=xuehaoname+'2.pdf'\n",
    "    fpath_1=fpath11+fpath21\n",
    "    fpath_2=fpath11+fpath22\n",
    "    filename1=fpath21\n",
    "    filename2=fpath22\n",
    "    msg = MIMEMultipart()  #如名字所示Multipart就是分多个部分\n",
    "    msg['From'] = from_addr\n",
    "    msg['To'] = to_addr\n",
    "    msg['Subject'] = subject\n",
    "    #添加纯文本，text为需要输入的文本，字符串格式    \n",
    "    text_msg = MIMEText(text)\n",
    "    msg.attach(text_msg)\n",
    "    \n",
    "    part = MIMEApplication(open(fpath_1,'rb').read())\n",
    "    part.add_header('Content-Disposition', 'attachment', filename=filename1)\n",
    "    msg.attach(part)\n",
    "    \n",
    "    #part = MIMEApplication(open(fpath_2,'rb').read())\n",
    "    #part.add_header('Content-Disposition', 'attachment', filename=filename2)\n",
    "    #msg.attach(part)\n",
    "    \n",
    "    smtp_server = smtplib.SMTP('smtp.qq.com')\n",
    "    smtp_server.login(from_addr, password)\n",
    "    smtp_server.send_message(msg=msg)"
   ]
  },
  {
   "cell_type": "code",
   "execution_count": 7,
   "metadata": {},
   "outputs": [
    {
     "name": "stdout",
     "output_type": "stream",
     "text": [
      "蔡晋书 邮件已发送，这是第1封\n",
      "蔡依林 邮件已发送，这是第2封\n",
      "丛诺 邮件已发送，这是第3封\n",
      "邓骞 邮件已发送，这是第4封\n",
      "樊孟奇 邮件已发送，这是第5封\n",
      "樊庶 邮件已发送，这是第6封\n",
      "何佳萌 邮件已发送，这是第7封\n",
      "胡佳炜 邮件已发送，这是第8封\n",
      "简子涵 邮件已发送，这是第9封\n",
      "金筱语 邮件已发送，这是第10封\n",
      "冷帅 邮件已发送，这是第11封\n",
      "李佳欣 邮件已发送，这是第12封\n",
      "李庆涛 邮件已发送，这是第13封\n",
      "李兆祥 邮件已发送，这是第14封\n",
      "李振铭 邮件已发送，这是第15封\n",
      "李晟 邮件已发送，这是第16封\n",
      "刘旭东 邮件已发送，这是第17封\n",
      "刘岳朋 邮件已发送，这是第18封\n",
      "吕辰杰 邮件已发送，这是第19封\n",
      "罗冠培 邮件已发送，这是第20封\n",
      "马旭 邮件已发送，这是第21封\n",
      "戚美晨 邮件已发送，这是第22封\n",
      "苏浩文 邮件已发送，这是第23封\n",
      "孙思薇 邮件已发送，这是第24封\n",
      "孙乙月 邮件已发送，这是第25封\n",
      "孙颖聪 邮件已发送，这是第26封\n",
      "汪芷瑶 邮件已发送，这是第27封\n",
      "王晨杨 邮件已发送，这是第28封\n",
      "胡雨辰 邮件已发送，这是第29封\n",
      "王思涵 邮件已发送，这是第30封\n",
      "王砚轩 邮件已发送，这是第31封\n",
      "徐子璇 邮件已发送，这是第32封\n",
      "叶倪瑄 邮件已发送，这是第33封\n",
      "余韵婧 邮件已发送，这是第34封\n",
      "袁弋鸿 邮件已发送，这是第35封\n",
      "张雪晨 邮件已发送，这是第36封\n",
      "赵东虎 邮件已发送，这是第37封\n",
      "赵启晨 邮件已发送，这是第38封\n",
      "周洋 邮件已发送，这是第39封\n",
      "朱紫钰 邮件已发送，这是第40封\n",
      "王思澄 邮件已发送，这是第41封\n",
      "梁星 邮件已发送，这是第42封\n",
      "张佳伟 邮件已发送，这是第43封\n",
      "施致远 邮件已发送，这是第44封\n",
      "马沅辰 邮件已发送，这是第45封\n",
      "发送失败的有： []\n"
     ]
    }
   ],
   "source": [
    "#如果出现505 content denied的情况 可以先给非QQ邮箱发一封信 可解决非封问题 访问网址：https://service.exmail.qq.com/cgi-bin/help?subtype=1&&id=20022&&no=1000726\n",
    "no=7\n",
    "text='这是运筹学下第'+str(no)+'次作业的批改结果 请查收,如有问题，请联系助教，助教邮箱：1246262311@qq.com  from刘佳琦 by Python'  #该部分内容需要每次修改\n",
    "k=0\n",
    "t=[]\n",
    "shibai=[]\n",
    "if __name__ == \"__main__\":\n",
    "    #passwd填写认证密码，不是登录密码\n",
    "    mubiaoyouxiang=[\"1853932@tongji.edu.cn\",\"liu9222423@163.com\"]\n",
    "    for i in dic1:\n",
    "        try:\n",
    "            xh=dic3[i]\n",
    "            xhname=str(xh)+i+str(no)\n",
    "            send_email(\"1262497280@qq.com\",dic1[i],\"运筹学作业批改结果\", \"qmurctrbnqxajhhc\",xhname,text)\n",
    "            k+=1\n",
    "            t.append(dic1[i])\n",
    "            print(\"%s 邮件已发送，这是第%d封\"%(i,k))\n",
    "            #dic1[i] 为目标人邮件 i为目标人姓名\n",
    "        except:\n",
    "            shibai.append(i)\n",
    "            print(i,'的邮件发送失败')\n",
    "            continue\n",
    "print(\"发送失败的有：\",shibai)  "
   ]
  },
  {
   "cell_type": "code",
   "execution_count": 40,
   "metadata": {},
   "outputs": [
    {
     "name": "stdout",
     "output_type": "stream",
     "text": [
      "1196048276@qq.com\n"
     ]
    }
   ],
   "source": [
    "for i in dic1:\n",
    "    if dic1[i] not in t:\n",
    "        print(dic1[i])"
   ]
  },
  {
   "cell_type": "code",
   "execution_count": 8,
   "metadata": {
    "collapsed": true,
    "jupyter": {
     "outputs_hidden": true
    }
   },
   "outputs": [
    {
     "name": "stdout",
     "output_type": "stream",
     "text": [
      "1850588蔡晋书2\n",
      "1851317蔡依林2\n",
      "1851870丛诺2\n",
      "1852823邓骞2\n",
      "1853937樊孟奇2\n",
      "1850630樊庶2\n",
      "1851338何佳萌2\n",
      "1853699胡佳炜2\n",
      "1852516简子涵2\n",
      "1850926金筱语2\n",
      "1853234冷帅2\n",
      "1853241李佳欣2\n",
      "1751545李庆涛2\n",
      "1851872李兆祥2\n",
      "1850927李振铭2\n",
      "1851179李晟2\n",
      "1852428刘旭东2\n",
      "1850275刘岳朋2\n",
      "1851923吕辰杰2\n",
      "1852544罗冠培2\n",
      "1852885马旭2\n",
      "1852010戚美晨2\n",
      "1853447苏浩文2\n",
      "1854171孙思薇2\n",
      "1853430孙乙月2\n",
      "1852845孙颖聪2\n",
      "1851318汪芷瑶2\n",
      "1852830王晨杨2\n",
      "1853280胡雨辰2\n",
      "1850702王思涵2\n",
      "1853823王砚轩2\n",
      "1853838徐子璇2\n",
      "1851744叶倪瑄2\n",
      "1851655余韵婧2\n",
      "1853566袁弋鸿2\n",
      "1854161张雪晨2\n",
      "1850580赵东虎2\n",
      "1851878赵启晨2\n",
      "1853363周洋2\n",
      "1752804朱紫钰2\n",
      "1853804王思澄2\n",
      "1850933梁星2\n",
      "1853527张佳伟2\n",
      "1851688施致远2\n"
     ]
    }
   ],
   "source": [
    "no=2\n",
    "text='这是运筹学下第'+str(no)+'次作业的批改结果 请查收,如有问题，请联系助教，助教邮箱：1246262311@qq.com  from刘佳琦 by Python'  #该部分内容需要每次修改\n",
    "k=0\n",
    "t=[]\n",
    "if __name__ == \"__main__\":\n",
    "    #passwd填写认证密码，不是登录密码\n",
    "    mubiaoyouxiang=[\"1853932@tongji.edu.cn\",\"liu9222423@163.com\"]\n",
    "    for i in dic1:\n",
    "        xh=dic3[i]\n",
    "        xhname=str(xh)+i+str(no)\n",
    "        print(xhname)"
   ]
  },
  {
   "cell_type": "code",
   "execution_count": null,
   "metadata": {},
   "outputs": [],
   "source": []
  },
  {
   "cell_type": "code",
   "execution_count": null,
   "metadata": {},
   "outputs": [],
   "source": []
  },
  {
   "cell_type": "code",
   "execution_count": null,
   "metadata": {},
   "outputs": [],
   "source": [
    "text='这是运筹学第7次作业的批改结果 请查收 from刘佳琦 by Python sending automatically'  #该部分内容需要每次修改\n",
    "if __name__ == \"__main__\":\n",
    "    #passwd填写认证密码，不是登录密码\n",
    "    send_email(\"1262497280@qq.com\",\"1853932@tongji.edu.cn\",\"这是运筹学作业批改结果请查收 by Python sending automatically\", \"qmurctrbnqxajhhc\",'刘佳琦',text)\n",
    "    print('已发送')"
   ]
  }
 ],
 "metadata": {
  "kernelspec": {
   "display_name": "Python 3",
   "language": "python",
   "name": "python3"
  },
  "language_info": {
   "codemirror_mode": {
    "name": "ipython",
    "version": 3
   },
   "file_extension": ".py",
   "mimetype": "text/x-python",
   "name": "python",
   "nbconvert_exporter": "python",
   "pygments_lexer": "ipython3",
   "version": "3.7.1"
  }
 },
 "nbformat": 4,
 "nbformat_minor": 4
}
