{
 "cells": [
  {
   "cell_type": "code",
   "execution_count": 1,
   "metadata": {},
   "outputs": [],
   "source": [
    "import pandas as pd\n",
    "import numpy as py"
   ]
  },
  {
   "cell_type": "code",
   "execution_count": 105,
   "metadata": {},
   "outputs": [],
   "source": [
    "fpath1=r'C:\\Users\\刘佳琦\\Desktop\\交科初审评分表.xlsx'\n",
    "fpath2=r'C:\\Users\\刘佳琦\\Desktop\\交科网络评审汇总表0924-1023.xlsx'\n",
    "df_1 = pd.read_excel(fpath1)\n",
    "df_2 = pd.read_excel(fpath2)"
   ]
  },
  {
   "cell_type": "code",
   "execution_count": 106,
   "metadata": {},
   "outputs": [
    {
     "data": {
      "text/html": [
       "<div>\n",
       "<style scoped>\n",
       "    .dataframe tbody tr th:only-of-type {\n",
       "        vertical-align: middle;\n",
       "    }\n",
       "\n",
       "    .dataframe tbody tr th {\n",
       "        vertical-align: top;\n",
       "    }\n",
       "\n",
       "    .dataframe thead th {\n",
       "        text-align: right;\n",
       "    }\n",
       "</style>\n",
       "<table border=\"1\" class=\"dataframe\">\n",
       "  <thead>\n",
       "    <tr style=\"text-align: right;\">\n",
       "      <th></th>\n",
       "      <th>第十八届“同路人”交通科技大赛初审评分表</th>\n",
       "      <th>Unnamed: 1</th>\n",
       "      <th>Unnamed: 2</th>\n",
       "      <th>Unnamed: 3</th>\n",
       "      <th>Unnamed: 4</th>\n",
       "      <th>Unnamed: 5</th>\n",
       "      <th>Unnamed: 6</th>\n",
       "      <th>Unnamed: 7</th>\n",
       "    </tr>\n",
       "  </thead>\n",
       "  <tbody>\n",
       "    <tr>\n",
       "      <th>0</th>\n",
       "      <td>题目</td>\n",
       "      <td>专业知识运用（15分）</td>\n",
       "      <td>作品可实施性/理论水平及论文难度（10分）</td>\n",
       "      <td>论文逻辑性结构（5分）</td>\n",
       "      <td>创新性（10分）</td>\n",
       "      <td>工作量（5分）</td>\n",
       "      <td>附加分（5分）</td>\n",
       "      <td>总分（50分)</td>\n",
       "    </tr>\n",
       "  </tbody>\n",
       "</table>\n",
       "</div>"
      ],
      "text/plain": [
       "  第十八届“同路人”交通科技大赛初审评分表   Unnamed: 1             Unnamed: 2   Unnamed: 3  \\\n",
       "0                   题目  专业知识运用（15分）  作品可实施性/理论水平及论文难度（10分）  论文逻辑性结构（5分）   \n",
       "\n",
       "  Unnamed: 4 Unnamed: 5 Unnamed: 6 Unnamed: 7  \n",
       "0   创新性（10分）    工作量（5分）    附加分（5分）    总分（50分)  "
      ]
     },
     "execution_count": 106,
     "metadata": {},
     "output_type": "execute_result"
    }
   ],
   "source": [
    "df_1"
   ]
  },
  {
   "cell_type": "code",
   "execution_count": 107,
   "metadata": {},
   "outputs": [
    {
     "data": {
      "text/html": [
       "<div>\n",
       "<style scoped>\n",
       "    .dataframe tbody tr th:only-of-type {\n",
       "        vertical-align: middle;\n",
       "    }\n",
       "\n",
       "    .dataframe tbody tr th {\n",
       "        vertical-align: top;\n",
       "    }\n",
       "\n",
       "    .dataframe thead th {\n",
       "        text-align: right;\n",
       "    }\n",
       "</style>\n",
       "<table border=\"1\" class=\"dataframe\">\n",
       "  <thead>\n",
       "    <tr style=\"text-align: right;\">\n",
       "      <th></th>\n",
       "      <th>第十九届交通科技大赛</th>\n",
       "      <th>Unnamed: 1</th>\n",
       "      <th>Unnamed: 2</th>\n",
       "      <th>Unnamed: 3</th>\n",
       "      <th>Unnamed: 4</th>\n",
       "      <th>Unnamed: 5</th>\n",
       "      <th>Unnamed: 6</th>\n",
       "      <th>Unnamed: 7</th>\n",
       "      <th>Unnamed: 8</th>\n",
       "      <th>Unnamed: 9</th>\n",
       "    </tr>\n",
       "  </thead>\n",
       "  <tbody>\n",
       "    <tr>\n",
       "      <th>0</th>\n",
       "      <td>NaN</td>\n",
       "      <td>NaN</td>\n",
       "      <td>NaN</td>\n",
       "      <td>NaN</td>\n",
       "      <td>网评评委</td>\n",
       "      <td>NaN</td>\n",
       "      <td>NaN</td>\n",
       "      <td>NaN</td>\n",
       "      <td>NaN</td>\n",
       "      <td>NaN</td>\n",
       "    </tr>\n",
       "    <tr>\n",
       "      <th>1</th>\n",
       "      <td>编号</td>\n",
       "      <td>课题名称</td>\n",
       "      <td>组长</td>\n",
       "      <td>指导老师</td>\n",
       "      <td>评委1</td>\n",
       "      <td>评委2</td>\n",
       "      <td>评委3</td>\n",
       "      <td>NaN</td>\n",
       "      <td>NaN</td>\n",
       "      <td>NaN</td>\n",
       "    </tr>\n",
       "    <tr>\n",
       "      <th>2</th>\n",
       "      <td>交通规划</td>\n",
       "      <td>NaN</td>\n",
       "      <td>NaN</td>\n",
       "      <td>NaN</td>\n",
       "      <td>NaN</td>\n",
       "      <td>NaN</td>\n",
       "      <td>NaN</td>\n",
       "      <td>NaN</td>\n",
       "      <td>NaN</td>\n",
       "      <td>NaN</td>\n",
       "    </tr>\n",
       "    <tr>\n",
       "      <th>3</th>\n",
       "      <td>1</td>\n",
       "      <td>基于情景意识模型的智能车运行风险预警</td>\n",
       "      <td>王卓非</td>\n",
       "      <td>余荣杰</td>\n",
       "      <td>李健</td>\n",
       "      <td>柴晨</td>\n",
       "      <td>孙海浩</td>\n",
       "      <td>NaN</td>\n",
       "      <td>余荣杰</td>\n",
       "      <td>yurongjie@tongji.edu.cn</td>\n",
       "    </tr>\n",
       "    <tr>\n",
       "      <th>4</th>\n",
       "      <td>2</td>\n",
       "      <td>基于知识图谱技术的异常驾驶行为智能辨识方法研究</td>\n",
       "      <td>李兆祥</td>\n",
       "      <td>余荣杰</td>\n",
       "      <td>李健</td>\n",
       "      <td>孙剑</td>\n",
       "      <td>段征宇</td>\n",
       "      <td>NaN</td>\n",
       "      <td>柴晨</td>\n",
       "      <td>chaichen@tongji.edu.cn</td>\n",
       "    </tr>\n",
       "    <tr>\n",
       "      <th>...</th>\n",
       "      <td>...</td>\n",
       "      <td>...</td>\n",
       "      <td>...</td>\n",
       "      <td>...</td>\n",
       "      <td>...</td>\n",
       "      <td>...</td>\n",
       "      <td>...</td>\n",
       "      <td>...</td>\n",
       "      <td>...</td>\n",
       "      <td>...</td>\n",
       "    </tr>\n",
       "    <tr>\n",
       "      <th>71</th>\n",
       "      <td>2</td>\n",
       "      <td>高铁成网条件下铁路旅客行前规划系统</td>\n",
       "      <td>黄子函</td>\n",
       "      <td>朱炜</td>\n",
       "      <td>洪玲</td>\n",
       "      <td>江志彬</td>\n",
       "      <td>滕靖</td>\n",
       "      <td>NaN</td>\n",
       "      <td>洪玲</td>\n",
       "      <td>ss980308@tongji.edu.cn</td>\n",
       "    </tr>\n",
       "    <tr>\n",
       "      <th>72</th>\n",
       "      <td>3</td>\n",
       "      <td>城市轨道交通非常态大客流管控方法研究</td>\n",
       "      <td>杨帆</td>\n",
       "      <td>朱炜</td>\n",
       "      <td>洪玲</td>\n",
       "      <td>江志彬</td>\n",
       "      <td>滕靖</td>\n",
       "      <td>NaN</td>\n",
       "      <td>江志彬</td>\n",
       "      <td>jzb@tongji.edu.cn</td>\n",
       "    </tr>\n",
       "    <tr>\n",
       "      <th>73</th>\n",
       "      <td>4</td>\n",
       "      <td>基于wifi嗅探数据的地铁异常乘客识别</td>\n",
       "      <td>龚帅宇</td>\n",
       "      <td>江志彬</td>\n",
       "      <td>朱炜</td>\n",
       "      <td>洪玲</td>\n",
       "      <td>滕靖</td>\n",
       "      <td>NaN</td>\n",
       "      <td>滕靖</td>\n",
       "      <td>tengjing@tongji.edu.cn</td>\n",
       "    </tr>\n",
       "    <tr>\n",
       "      <th>74</th>\n",
       "      <td>5</td>\n",
       "      <td>公交大站快车停站优化设计</td>\n",
       "      <td>吴寅昇</td>\n",
       "      <td>滕靖</td>\n",
       "      <td>朱炜</td>\n",
       "      <td>洪玲</td>\n",
       "      <td>江志彬</td>\n",
       "      <td>NaN</td>\n",
       "      <td>NaN</td>\n",
       "      <td>NaN</td>\n",
       "    </tr>\n",
       "    <tr>\n",
       "      <th>75</th>\n",
       "      <td>6</td>\n",
       "      <td>依托城市轨道交通网络发展同城快递辅助系统的模式与方法研究</td>\n",
       "      <td>吴暐奇</td>\n",
       "      <td>朱炜</td>\n",
       "      <td>滕靖</td>\n",
       "      <td>洪玲</td>\n",
       "      <td>江志彬</td>\n",
       "      <td>NaN</td>\n",
       "      <td>NaN</td>\n",
       "      <td>NaN</td>\n",
       "    </tr>\n",
       "  </tbody>\n",
       "</table>\n",
       "<p>76 rows × 10 columns</p>\n",
       "</div>"
      ],
      "text/plain": [
       "   第十九届交通科技大赛                    Unnamed: 1 Unnamed: 2 Unnamed: 3 Unnamed: 4  \\\n",
       "0         NaN                           NaN        NaN        NaN       网评评委   \n",
       "1          编号                          课题名称         组长       指导老师        评委1   \n",
       "2        交通规划                           NaN        NaN        NaN        NaN   \n",
       "3           1            基于情景意识模型的智能车运行风险预警        王卓非        余荣杰         李健   \n",
       "4           2       基于知识图谱技术的异常驾驶行为智能辨识方法研究        李兆祥        余荣杰         李健   \n",
       "..        ...                           ...        ...        ...        ...   \n",
       "71          2             高铁成网条件下铁路旅客行前规划系统        黄子函         朱炜         洪玲   \n",
       "72          3            城市轨道交通非常态大客流管控方法研究         杨帆         朱炜         洪玲   \n",
       "73          4           基于wifi嗅探数据的地铁异常乘客识别        龚帅宇        江志彬         朱炜   \n",
       "74          5                  公交大站快车停站优化设计        吴寅昇         滕靖         朱炜   \n",
       "75          6  依托城市轨道交通网络发展同城快递辅助系统的模式与方法研究        吴暐奇         朱炜         滕靖   \n",
       "\n",
       "   Unnamed: 5 Unnamed: 6  Unnamed: 7 Unnamed: 8               Unnamed: 9  \n",
       "0         NaN        NaN         NaN        NaN                      NaN  \n",
       "1         评委2        评委3         NaN        NaN                      NaN  \n",
       "2         NaN        NaN         NaN        NaN                      NaN  \n",
       "3          柴晨        孙海浩         NaN        余荣杰  yurongjie@tongji.edu.cn  \n",
       "4          孙剑        段征宇         NaN         柴晨   chaichen@tongji.edu.cn  \n",
       "..        ...        ...         ...        ...                      ...  \n",
       "71        江志彬         滕靖         NaN         洪玲   ss980308@tongji.edu.cn  \n",
       "72        江志彬         滕靖         NaN        江志彬        jzb@tongji.edu.cn  \n",
       "73         洪玲         滕靖         NaN         滕靖   tengjing@tongji.edu.cn  \n",
       "74         洪玲        江志彬         NaN        NaN                      NaN  \n",
       "75         洪玲        江志彬         NaN        NaN                      NaN  \n",
       "\n",
       "[76 rows x 10 columns]"
      ]
     },
     "execution_count": 107,
     "metadata": {},
     "output_type": "execute_result"
    }
   ],
   "source": [
    "df_2"
   ]
  },
  {
   "cell_type": "code",
   "execution_count": 112,
   "metadata": {},
   "outputs": [],
   "source": [
    "df_daolu=df_2.iloc[52:61]\n",
    "df_guidao=df_2.iloc[63:68]\n",
    "df_yunshu=df_2.iloc[70:76]\n",
    "df_guihua=df_2.iloc[3:23]\n",
    "df_xinxi=df_2.iloc[25:48]"
   ]
  },
  {
   "cell_type": "code",
   "execution_count": 125,
   "metadata": {},
   "outputs": [
    {
     "data": {
      "text/html": [
       "<div>\n",
       "<style scoped>\n",
       "    .dataframe tbody tr th:only-of-type {\n",
       "        vertical-align: middle;\n",
       "    }\n",
       "\n",
       "    .dataframe tbody tr th {\n",
       "        vertical-align: top;\n",
       "    }\n",
       "\n",
       "    .dataframe thead th {\n",
       "        text-align: right;\n",
       "    }\n",
       "</style>\n",
       "<table border=\"1\" class=\"dataframe\">\n",
       "  <thead>\n",
       "    <tr style=\"text-align: right;\">\n",
       "      <th></th>\n",
       "      <th>第十九届交通科技大赛</th>\n",
       "      <th>Unnamed: 1</th>\n",
       "      <th>Unnamed: 2</th>\n",
       "      <th>Unnamed: 3</th>\n",
       "      <th>Unnamed: 4</th>\n",
       "      <th>Unnamed: 5</th>\n",
       "      <th>Unnamed: 6</th>\n",
       "      <th>Unnamed: 7</th>\n",
       "      <th>Unnamed: 8</th>\n",
       "      <th>Unnamed: 9</th>\n",
       "    </tr>\n",
       "  </thead>\n",
       "  <tbody>\n",
       "    <tr>\n",
       "      <th>63</th>\n",
       "      <td>1</td>\n",
       "      <td>地铁车内噪声与钢轨短波不平顺关系研究</td>\n",
       "      <td>张英杰</td>\n",
       "      <td>杨新文</td>\n",
       "      <td>王治</td>\n",
       "      <td>叶霞飞</td>\n",
       "      <td>李新国</td>\n",
       "      <td>NaN</td>\n",
       "      <td>王治</td>\n",
       "      <td>zhiwang@tongji.edu.cn</td>\n",
       "    </tr>\n",
       "    <tr>\n",
       "      <th>64</th>\n",
       "      <td>2</td>\n",
       "      <td>宽频式钢轨吸振器降噪研究</td>\n",
       "      <td>王皓月</td>\n",
       "      <td>杨新文</td>\n",
       "      <td>王治</td>\n",
       "      <td>李新国</td>\n",
       "      <td>叶霞飞</td>\n",
       "      <td>NaN</td>\n",
       "      <td>杨新文</td>\n",
       "      <td>yangxinwen0603@163.com</td>\n",
       "    </tr>\n",
       "    <tr>\n",
       "      <th>65</th>\n",
       "      <td>3</td>\n",
       "      <td>上海轨道交通换乘 APP 开发方案</td>\n",
       "      <td>廖怡伶</td>\n",
       "      <td>王治</td>\n",
       "      <td>杨新文</td>\n",
       "      <td>叶霞飞</td>\n",
       "      <td>李新国</td>\n",
       "      <td>NaN</td>\n",
       "      <td>叶霞飞</td>\n",
       "      <td>yxf@tongji.edu.cn</td>\n",
       "    </tr>\n",
       "    <tr>\n",
       "      <th>66</th>\n",
       "      <td>4</td>\n",
       "      <td>轨道交通车厢拉手优化设计</td>\n",
       "      <td>赵冠华</td>\n",
       "      <td>王治</td>\n",
       "      <td>杨新文</td>\n",
       "      <td>叶霞飞</td>\n",
       "      <td>李新国</td>\n",
       "      <td>NaN</td>\n",
       "      <td>李新国</td>\n",
       "      <td>Lixinguo04@163.com</td>\n",
       "    </tr>\n",
       "    <tr>\n",
       "      <th>67</th>\n",
       "      <td>5</td>\n",
       "      <td>高铁车站商业开发业态研究</td>\n",
       "      <td>赵泽瑞</td>\n",
       "      <td>王治</td>\n",
       "      <td>杨新文</td>\n",
       "      <td>叶霞飞</td>\n",
       "      <td>李新国</td>\n",
       "      <td>NaN</td>\n",
       "      <td>NaN</td>\n",
       "      <td>NaN</td>\n",
       "    </tr>\n",
       "  </tbody>\n",
       "</table>\n",
       "</div>"
      ],
      "text/plain": [
       "   第十九届交通科技大赛          Unnamed: 1 Unnamed: 2 Unnamed: 3 Unnamed: 4 Unnamed: 5  \\\n",
       "63          1  地铁车内噪声与钢轨短波不平顺关系研究        张英杰        杨新文         王治        叶霞飞   \n",
       "64          2        宽频式钢轨吸振器降噪研究        王皓月        杨新文         王治        李新国   \n",
       "65          3   上海轨道交通换乘 APP 开发方案        廖怡伶         王治        杨新文        叶霞飞   \n",
       "66          4        轨道交通车厢拉手优化设计        赵冠华         王治        杨新文        叶霞飞   \n",
       "67          5        高铁车站商业开发业态研究        赵泽瑞         王治        杨新文        叶霞飞   \n",
       "\n",
       "   Unnamed: 6  Unnamed: 7 Unnamed: 8              Unnamed: 9  \n",
       "63        李新国         NaN         王治   zhiwang@tongji.edu.cn  \n",
       "64        叶霞飞         NaN        杨新文  yangxinwen0603@163.com  \n",
       "65        李新国         NaN        叶霞飞       yxf@tongji.edu.cn  \n",
       "66        李新国         NaN        李新国      Lixinguo04@163.com  \n",
       "67        李新国         NaN        NaN                     NaN  "
      ]
     },
     "execution_count": 125,
     "metadata": {},
     "output_type": "execute_result"
    }
   ],
   "source": [
    "df_guidao"
   ]
  },
  {
   "cell_type": "code",
   "execution_count": 6,
   "metadata": {},
   "outputs": [],
   "source": [
    "a=df_guidao['Unnamed: 4']\n",
    "b=df_guidao['Unnamed: 5']\n",
    "c=df_guidao['Unnamed: 6']\n",
    "d=df_guidao"
   ]
  },
  {
   "cell_type": "code",
   "execution_count": 55,
   "metadata": {},
   "outputs": [
    {
     "data": {
      "text/plain": [
       "'宽频式钢轨吸振器降噪研究'"
      ]
     },
     "execution_count": 55,
     "metadata": {},
     "output_type": "execute_result"
    }
   ],
   "source": [
    "d.iloc[1]['Unnamed: 1']"
   ]
  },
  {
   "cell_type": "code",
   "execution_count": 71,
   "metadata": {},
   "outputs": [],
   "source": [
    "xx=d.loc[(d['Unnamed: 4']=='王治') | (d['Unnamed: 5']=='王治') | (d['Unnamed: 6']=='王治')]['Unnamed: 1'].tolist()"
   ]
  },
  {
   "cell_type": "code",
   "execution_count": 72,
   "metadata": {},
   "outputs": [
    {
     "data": {
      "text/plain": [
       "['地铁车内噪声与钢轨短波不平顺关系研究', '宽频式钢轨吸振器降噪研究']"
      ]
     },
     "execution_count": 72,
     "metadata": {},
     "output_type": "execute_result"
    }
   ],
   "source": [
    "xx"
   ]
  },
  {
   "cell_type": "code",
   "execution_count": 99,
   "metadata": {},
   "outputs": [],
   "source": [
    "import xlrd\n",
    "import xlwt\n",
    "from openpyxl import load_workbook"
   ]
  },
  {
   "cell_type": "code",
   "execution_count": 122,
   "metadata": {},
   "outputs": [],
   "source": [
    "yy=d.loc[(d['Unnamed: 4']=='王治') | (d['Unnamed: 5']=='王治') | (d['Unnamed: 6']=='王治')]['第十九届交通科技大赛'].tolist()"
   ]
  },
  {
   "cell_type": "code",
   "execution_count": 123,
   "metadata": {},
   "outputs": [
    {
     "data": {
      "text/plain": [
       "[1, 2]"
      ]
     },
     "execution_count": 123,
     "metadata": {},
     "output_type": "execute_result"
    }
   ],
   "source": [
    "yy"
   ]
  },
  {
   "cell_type": "code",
   "execution_count": 132,
   "metadata": {},
   "outputs": [
    {
     "data": {
      "text/plain": [
       "['编号',\n",
       " '题目',\n",
       " '专业知识运用（15分）',\n",
       " '作品可实施性/理论水平及论文难度（10分）',\n",
       " '论文逻辑性结构（5分）',\n",
       " '创新性（10分）',\n",
       " '工作量（5分）',\n",
       " '附加分（5分）',\n",
       " '总分（50分)']"
      ]
     },
     "execution_count": 132,
     "metadata": {},
     "output_type": "execute_result"
    }
   ],
   "source": [
    "col_name"
   ]
  },
  {
   "cell_type": "code",
   "execution_count": 143,
   "metadata": {
    "collapsed": true,
    "jupyter": {
     "outputs_hidden": true
    }
   },
   "outputs": [
    {
     "name": "stdout",
     "output_type": "stream",
     "text": [
      "                   题目 专业知识运用（15分） 作品可实施性/理论水平及论文难度（10分） 论文逻辑性结构（5分） 创新性（10分）  \\\n",
      "0  地铁车内噪声与钢轨短波不平顺关系研究         NaN                   NaN         NaN      NaN   \n",
      "1        宽频式钢轨吸振器降噪研究         NaN                   NaN         NaN      NaN   \n",
      "\n",
      "  工作量（5分） 附加分（5分） 总分（50分)  编号  \n",
      "0     NaN     NaN     NaN   1  \n",
      "1     NaN     NaN     NaN   2  \n",
      "                  题目 专业知识运用（15分） 作品可实施性/理论水平及论文难度（10分） 论文逻辑性结构（5分） 创新性（10分）  \\\n",
      "0  上海轨道交通换乘 APP 开发方案         NaN                   NaN         NaN      NaN   \n",
      "1       轨道交通车厢拉手优化设计         NaN                   NaN         NaN      NaN   \n",
      "2       高铁车站商业开发业态研究         NaN                   NaN         NaN      NaN   \n",
      "\n",
      "  工作量（5分） 附加分（5分） 总分（50分)  编号  \n",
      "0     NaN     NaN     NaN   3  \n",
      "1     NaN     NaN     NaN   4  \n",
      "2     NaN     NaN     NaN   5  \n",
      "                   题目 专业知识运用（15分） 作品可实施性/理论水平及论文难度（10分） 论文逻辑性结构（5分） 创新性（10分）  \\\n",
      "0  地铁车内噪声与钢轨短波不平顺关系研究         NaN                   NaN         NaN      NaN   \n",
      "1        宽频式钢轨吸振器降噪研究         NaN                   NaN         NaN      NaN   \n",
      "2   上海轨道交通换乘 APP 开发方案         NaN                   NaN         NaN      NaN   \n",
      "3        轨道交通车厢拉手优化设计         NaN                   NaN         NaN      NaN   \n",
      "4        高铁车站商业开发业态研究         NaN                   NaN         NaN      NaN   \n",
      "\n",
      "  工作量（5分） 附加分（5分） 总分（50分)  编号  \n",
      "0     NaN     NaN     NaN   1  \n",
      "1     NaN     NaN     NaN   2  \n",
      "2     NaN     NaN     NaN   3  \n",
      "3     NaN     NaN     NaN   4  \n",
      "4     NaN     NaN     NaN   5  \n",
      "                   题目 专业知识运用（15分） 作品可实施性/理论水平及论文难度（10分） 论文逻辑性结构（5分） 创新性（10分）  \\\n",
      "0  地铁车内噪声与钢轨短波不平顺关系研究         NaN                   NaN         NaN      NaN   \n",
      "1        宽频式钢轨吸振器降噪研究         NaN                   NaN         NaN      NaN   \n",
      "2   上海轨道交通换乘 APP 开发方案         NaN                   NaN         NaN      NaN   \n",
      "3        轨道交通车厢拉手优化设计         NaN                   NaN         NaN      NaN   \n",
      "4        高铁车站商业开发业态研究         NaN                   NaN         NaN      NaN   \n",
      "\n",
      "  工作量（5分） 附加分（5分） 总分（50分)  编号  \n",
      "0     NaN     NaN     NaN   1  \n",
      "1     NaN     NaN     NaN   2  \n",
      "2     NaN     NaN     NaN   3  \n",
      "3     NaN     NaN     NaN   4  \n",
      "4     NaN     NaN     NaN   5  \n"
     ]
    }
   ],
   "source": [
    "name=['王治','杨新文','叶霞飞','李新国']#需要对每个方向更新  轨道系\n",
    "su=[]\n",
    "d=df_guidao\n",
    "for i in name:\n",
    "    fpath2=r'C:\\Users\\刘佳琦\\Desktop\\道路-轨道-交通 交科网络评审汇总表09232226-2240.xlsx'\n",
    "    df_1 = pd.read_excel(fpath1,skiprows=[0])\n",
    "    dic1={}\n",
    "    list1=[]\n",
    "    xx=d.loc[(d['Unnamed: 4']==i) | (d['Unnamed: 5']==i) | (d['Unnamed: 6']==i)]['Unnamed: 1'].tolist()\n",
    "    yy=d.loc[(d['Unnamed: 4']==i) | (d['Unnamed: 5']==i) | (d['Unnamed: 6']==i)]['第十九届交通科技大赛'].tolist()\n",
    "    #dic1={'题目':xx}\n",
    "    #df_sum=pd.DataFrame(dic1)\n",
    "    \n",
    "    col_name = df_1.columns.tolist()\n",
    "    col_name.insert(0,'编号')# 在 B 列前面插入\n",
    "    \n",
    "    df_1.reindex(columns=col_name)\n",
    "    \n",
    "    df_1['编号']=yy\n",
    "    df_1['题目']=xx\n",
    "    print(df_1)\n",
    "    s1=r'C:\\Users\\刘佳琦\\Desktop\\评分表\\交科初审评分表-'\n",
    "    s2=i\n",
    "    s3='.xlsx'\n",
    "    tpath=s1+s2+s3\n",
    "    df_1.to_excel(tpath,index=None)\n",
    "\n",
    "   "
   ]
  },
  {
   "cell_type": "code",
   "execution_count": 140,
   "metadata": {},
   "outputs": [
    {
     "data": {
      "text/plain": [
       "['编号',\n",
       " '题目',\n",
       " '专业知识运用（15分）',\n",
       " '作品可实施性/理论水平及论文难度（10分）',\n",
       " '论文逻辑性结构（5分）',\n",
       " '创新性（10分）',\n",
       " '工作量（5分）',\n",
       " '附加分（5分）',\n",
       " '总分（50分)']"
      ]
     },
     "execution_count": 140,
     "metadata": {},
     "output_type": "execute_result"
    }
   ],
   "source": [
    "col_name"
   ]
  },
  {
   "cell_type": "code",
   "execution_count": 144,
   "metadata": {
    "collapsed": true,
    "jupyter": {
     "outputs_hidden": true
    }
   },
   "outputs": [
    {
     "name": "stdout",
     "output_type": "stream",
     "text": [
      "                    题目 专业知识运用（15分） 作品可实施性/理论水平及论文难度（10分） 论文逻辑性结构（5分） 创新性（10分）  \\\n",
      "0     轨道交通乘客应急疏散预警体系研究         NaN                   NaN         NaN      NaN   \n",
      "1  基于wifi嗅探数据的地铁异常乘客识别         NaN                   NaN         NaN      NaN   \n",
      "2         公交大站快车停站优化设计         NaN                   NaN         NaN      NaN   \n",
      "\n",
      "  工作量（5分） 附加分（5分） 总分（50分)  编号  \n",
      "0     NaN     NaN     NaN   1  \n",
      "1     NaN     NaN     NaN   4  \n",
      "2     NaN     NaN     NaN   5  \n",
      "                             题目 专业知识运用（15分） 作品可实施性/理论水平及论文难度（10分） 论文逻辑性结构（5分）  \\\n",
      "0             高铁成网条件下铁路旅客行前规划系统         NaN                   NaN         NaN   \n",
      "1            城市轨道交通非常态大客流管控方法研究         NaN                   NaN         NaN   \n",
      "2           基于wifi嗅探数据的地铁异常乘客识别         NaN                   NaN         NaN   \n",
      "3                  公交大站快车停站优化设计         NaN                   NaN         NaN   \n",
      "4  依托城市轨道交通网络发展同城快递辅助系统的模式与方法研究         NaN                   NaN         NaN   \n",
      "\n",
      "  创新性（10分） 工作量（5分） 附加分（5分） 总分（50分)  编号  \n",
      "0      NaN     NaN     NaN     NaN   2  \n",
      "1      NaN     NaN     NaN     NaN   3  \n",
      "2      NaN     NaN     NaN     NaN   4  \n",
      "3      NaN     NaN     NaN     NaN   5  \n",
      "4      NaN     NaN     NaN     NaN   6  \n",
      "                             题目 专业知识运用（15分） 作品可实施性/理论水平及论文难度（10分） 论文逻辑性结构（5分）  \\\n",
      "0              轨道交通乘客应急疏散预警体系研究         NaN                   NaN         NaN   \n",
      "1             高铁成网条件下铁路旅客行前规划系统         NaN                   NaN         NaN   \n",
      "2            城市轨道交通非常态大客流管控方法研究         NaN                   NaN         NaN   \n",
      "3                  公交大站快车停站优化设计         NaN                   NaN         NaN   \n",
      "4  依托城市轨道交通网络发展同城快递辅助系统的模式与方法研究         NaN                   NaN         NaN   \n",
      "\n",
      "  创新性（10分） 工作量（5分） 附加分（5分） 总分（50分)  编号  \n",
      "0      NaN     NaN     NaN     NaN   1  \n",
      "1      NaN     NaN     NaN     NaN   2  \n",
      "2      NaN     NaN     NaN     NaN   3  \n",
      "3      NaN     NaN     NaN     NaN   5  \n",
      "4      NaN     NaN     NaN     NaN   6  \n",
      "                             题目 专业知识运用（15分） 作品可实施性/理论水平及论文难度（10分） 论文逻辑性结构（5分）  \\\n",
      "0              轨道交通乘客应急疏散预警体系研究         NaN                   NaN         NaN   \n",
      "1             高铁成网条件下铁路旅客行前规划系统         NaN                   NaN         NaN   \n",
      "2            城市轨道交通非常态大客流管控方法研究         NaN                   NaN         NaN   \n",
      "3           基于wifi嗅探数据的地铁异常乘客识别         NaN                   NaN         NaN   \n",
      "4  依托城市轨道交通网络发展同城快递辅助系统的模式与方法研究         NaN                   NaN         NaN   \n",
      "\n",
      "  创新性（10分） 工作量（5分） 附加分（5分） 总分（50分)  编号  \n",
      "0      NaN     NaN     NaN     NaN   1  \n",
      "1      NaN     NaN     NaN     NaN   2  \n",
      "2      NaN     NaN     NaN     NaN   3  \n",
      "3      NaN     NaN     NaN     NaN   4  \n",
      "4      NaN     NaN     NaN     NaN   6  \n"
     ]
    }
   ],
   "source": [
    "name=['朱炜','洪玲','江志彬','滕靖']  #运输系老师\n",
    "su=[]\n",
    "d=df_yunshu\n",
    "for i in name:\n",
    "    fpath2=r'C:\\Users\\刘佳琦\\Desktop\\道路-轨道-交通 交科网络评审汇总表09232226-2240.xlsx'\n",
    "    df_1 = pd.read_excel(fpath1,skiprows=[0])\n",
    "    dic1={}\n",
    "    list1=[]\n",
    "    xx=d.loc[(d['Unnamed: 4']==i) | (d['Unnamed: 5']==i) | (d['Unnamed: 6']==i)]['Unnamed: 1'].tolist()\n",
    "    yy=d.loc[(d['Unnamed: 4']==i) | (d['Unnamed: 5']==i) | (d['Unnamed: 6']==i)]['第十九届交通科技大赛'].tolist()\n",
    "    #dic1={'题目':xx}\n",
    "    #df_sum=pd.DataFrame(dic1)\n",
    "    \n",
    "    col_name = df_1.columns.tolist()\n",
    "    col_name.insert(0,'编号')# 在 B 列前面插入\n",
    "    \n",
    "    df_1.reindex(columns=col_name)\n",
    "    \n",
    "    df_1['编号']=yy\n",
    "    df_1['题目']=xx\n",
    "\n",
    "    s1=r'C:\\Users\\刘佳琦\\Desktop\\评分表\\交科初审评分表-'\n",
    "    s2=i\n",
    "    s3='.xlsx'\n",
    "    tpath=s1+s2+s3\n",
    "    df_1.to_excel(tpath,index=None)"
   ]
  },
  {
   "cell_type": "code",
   "execution_count": 145,
   "metadata": {},
   "outputs": [],
   "source": [
    "name=['杨群','赵鸿铎','黄卫东','肖飞鹏']  #道路系老师\n",
    "su=[]\n",
    "d=df_daolu\n",
    "for i in name:\n",
    "    fpath2=r'C:\\Users\\刘佳琦\\Desktop\\道路-轨道-交通 交科网络评审汇总表09232226-2240.xlsx'\n",
    "    df_1 = pd.read_excel(fpath1,skiprows=[0])\n",
    "    dic1={}\n",
    "    list1=[]\n",
    "    xx=d.loc[(d['Unnamed: 4']==i) | (d['Unnamed: 5']==i) | (d['Unnamed: 6']==i)]['Unnamed: 1'].tolist()\n",
    "    yy=d.loc[(d['Unnamed: 4']==i) | (d['Unnamed: 5']==i) | (d['Unnamed: 6']==i)]['第十九届交通科技大赛'].tolist()\n",
    "    #dic1={'题目':xx}\n",
    "    #df_sum=pd.DataFrame(dic1)\n",
    "    \n",
    "    col_name = df_1.columns.tolist()\n",
    "    col_name.insert(0,'编号')# 在 B 列前面插入\n",
    "    \n",
    "    df_1.reindex(columns=col_name)\n",
    "    \n",
    "    df_1['编号']=yy\n",
    "    df_1['题目']=xx\n",
    "\n",
    "    s1=r'C:\\Users\\刘佳琦\\Desktop\\评分表\\交科初审评分表-'\n",
    "    s2=i\n",
    "    s3='.xlsx'\n",
    "    tpath=s1+s2+s3\n",
    "    df_1.to_excel(tpath,index=None)"
   ]
  },
  {
   "cell_type": "code",
   "execution_count": 149,
   "metadata": {},
   "outputs": [
    {
     "data": {
      "text/plain": [
       "[]"
      ]
     },
     "execution_count": 149,
     "metadata": {},
     "output_type": "execute_result"
    }
   ],
   "source": [
    "d.loc[(d['Unnamed: 4']=='杨群') | (d['Unnamed: 5']=='杨群') | (d['Unnamed: 6']=='杨群')]['Unnamed: 1'].tolist()"
   ]
  },
  {
   "cell_type": "code",
   "execution_count": 146,
   "metadata": {},
   "outputs": [],
   "source": [
    "name=['杜豫川','倪颖','马万经','黄世泽','施莉娟','沈煜']  #信息方向老师\n",
    "su=[]\n",
    "d=df_xinxi\n",
    "for i in name:\n",
    "    fpath2=r'C:\\Users\\刘佳琦\\Desktop\\道路-轨道-交通 交科网络评审汇总表09232226-2240.xlsx'\n",
    "    df_1 = pd.read_excel(fpath1,skiprows=[0])\n",
    "    dic1={}\n",
    "    list1=[]\n",
    "    xx=d.loc[(d['Unnamed: 4']==i) | (d['Unnamed: 5']==i) | (d['Unnamed: 6']==i)]['Unnamed: 1'].tolist()\n",
    "    yy=d.loc[(d['Unnamed: 4']==i) | (d['Unnamed: 5']==i) | (d['Unnamed: 6']==i)]['第十九届交通科技大赛'].tolist()\n",
    "    #dic1={'题目':xx}\n",
    "    #df_sum=pd.DataFrame(dic1)\n",
    "    \n",
    "    col_name = df_1.columns.tolist()\n",
    "    col_name.insert(0,'编号')# 在 B 列前面插入\n",
    "    \n",
    "    df_1.reindex(columns=col_name)\n",
    "    \n",
    "    df_1['编号']=yy\n",
    "    df_1['题目']=xx\n",
    "\n",
    "    s1=r'C:\\Users\\刘佳琦\\Desktop\\评分表\\交科初审评分表-'\n",
    "    s2=i\n",
    "    s3='.xlsx'\n",
    "    tpath=s1+s2+s3\n",
    "    df_1.to_excel(tpath,index=None)"
   ]
  },
  {
   "cell_type": "code",
   "execution_count": 147,
   "metadata": {},
   "outputs": [],
   "source": [
    "name=['余荣杰','柴晨','李健','孙剑','孙海浩','段征宇']  #规划方向老师\n",
    "su=[]\n",
    "d=df_guihua\n",
    "for i in name:\n",
    "    fpath2=r'C:\\Users\\刘佳琦\\Desktop\\道路-轨道-交通 交科网络评审汇总表09232226-2240.xlsx'\n",
    "    df_1 = pd.read_excel(fpath1,skiprows=[0])\n",
    "    dic1={}\n",
    "    list1=[]\n",
    "    xx=d.loc[(d['Unnamed: 4']==i) | (d['Unnamed: 5']==i) | (d['Unnamed: 6']==i)]['Unnamed: 1'].tolist()\n",
    "    yy=d.loc[(d['Unnamed: 4']==i) | (d['Unnamed: 5']==i) | (d['Unnamed: 6']==i)]['第十九届交通科技大赛'].tolist()\n",
    "    #dic1={'题目':xx}\n",
    "    #df_sum=pd.DataFrame(dic1)\n",
    "    \n",
    "    col_name = df_1.columns.tolist()\n",
    "    col_name.insert(0,'编号')# 在 B 列前面插入\n",
    "    \n",
    "    df_1.reindex(columns=col_name)\n",
    "    \n",
    "    df_1['编号']=yy\n",
    "    df_1['题目']=xx\n",
    "\n",
    "    s1=r'C:\\Users\\刘佳琦\\Desktop\\评分表\\交科初审评分表-'\n",
    "    s2=i\n",
    "    s3='.xlsx'\n",
    "    tpath=s1+s2+s3\n",
    "    df_1.to_excel(tpath,index=None)"
   ]
  },
  {
   "cell_type": "code",
   "execution_count": null,
   "metadata": {},
   "outputs": [],
   "source": [
    "name=['朱炜','洪玲','江志彬','滕靖']  #运输系老师\n",
    "name=['杨群','赵鸿铎','黄卫东','肖飞鹏']  #道路系老师\n",
    "name=['杜豫川','倪颖','马万经','黄世泽','施莉娟','沈煜']  #信息方向老师\n",
    "name=['余荣杰','柴晨','李健','孙剑','孙海浩','段征宇']  #规划方向老师\n",
    "name=['王治']"
   ]
  },
  {
   "cell_type": "code",
   "execution_count": null,
   "metadata": {},
   "outputs": [],
   "source": []
  },
  {
   "cell_type": "code",
   "execution_count": 121,
   "metadata": {
    "collapsed": true,
    "jupyter": {
     "outputs_hidden": true
    }
   },
   "outputs": [
    {
     "ename": "AttributeError",
     "evalue": "'Worksheet' object has no attribute 'save'",
     "output_type": "error",
     "traceback": [
      "\u001b[1;31m---------------------------------------------------------------------------\u001b[0m",
      "\u001b[1;31mAttributeError\u001b[0m                            Traceback (most recent call last)",
      "\u001b[1;32m<ipython-input-121-726e224241e4>\u001b[0m in \u001b[0;36m<module>\u001b[1;34m\u001b[0m\n\u001b[0;32m     11\u001b[0m \u001b[0mws\u001b[0m\u001b[1;33m.\u001b[0m\u001b[0mcolumn_dimensions\u001b[0m\u001b[1;33m[\u001b[0m\u001b[1;34m'总分（50分)'\u001b[0m\u001b[1;33m]\u001b[0m\u001b[1;33m.\u001b[0m\u001b[0mwidth\u001b[0m \u001b[1;33m=\u001b[0m \u001b[1;36m20\u001b[0m   \u001b[1;31m# 调整列A宽\u001b[0m\u001b[1;33m\u001b[0m\u001b[1;33m\u001b[0m\u001b[0m\n\u001b[0;32m     12\u001b[0m \u001b[1;31m#ws.row_dimensions[1].height = 40       # 调整行1高\u001b[0m\u001b[1;33m\u001b[0m\u001b[1;33m\u001b[0m\u001b[1;33m\u001b[0m\u001b[0m\n\u001b[1;32m---> 13\u001b[1;33m \u001b[0mws\u001b[0m\u001b[1;33m.\u001b[0m\u001b[0msave\u001b[0m\u001b[1;33m(\u001b[0m\u001b[0mtpath\u001b[0m\u001b[1;33m)\u001b[0m\u001b[1;33m\u001b[0m\u001b[1;33m\u001b[0m\u001b[0m\n\u001b[0m",
      "\u001b[1;31mAttributeError\u001b[0m: 'Worksheet' object has no attribute 'save'"
     ]
    }
   ],
   "source": [
    "from openpyxl import load_workbook\n",
    "wb = load_workbook(tpath)\n",
    "ws = wb[wb.sheetnames[0]]                  # 打开第一个sheet\n",
    "ws.column_dimensions['题目'].width = 45    # 调整列A宽\n",
    "ws.column_dimensions['专业知识运用（15分）'].width = 45     # 调整列A宽\n",
    "ws.column_dimensions['作品可实施性/理论水平及论文难度（10分）'].width = 45     # 调整列A宽\n",
    "ws.column_dimensions['论文逻辑性结构（5分）'].width = 30    # 调整列A宽\n",
    "ws.column_dimensions['创新性（10分）'].width = 20     # 调整列A宽\n",
    "ws.column_dimensions['工作量（5分）'].width = 20    # 调整列A宽\n",
    "ws.column_dimensions['附加分（5分）'].width = 20   # 调整列A宽\n",
    "ws.column_dimensions['总分（50分)'].width = 20   # 调整列A宽\n",
    "#ws.row_dimensions[1].height = 40       # 调整行1高\n",
    "ws.save(tpath)"
   ]
  },
  {
   "cell_type": "code",
   "execution_count": null,
   "metadata": {},
   "outputs": [],
   "source": []
  },
  {
   "cell_type": "code",
   "execution_count": null,
   "metadata": {},
   "outputs": [],
   "source": []
  },
  {
   "cell_type": "code",
   "execution_count": null,
   "metadata": {},
   "outputs": [],
   "source": []
  },
  {
   "cell_type": "code",
   "execution_count": 51,
   "metadata": {},
   "outputs": [
    {
     "data": {
      "text/plain": [
       "list"
      ]
     },
     "execution_count": 51,
     "metadata": {},
     "output_type": "execute_result"
    }
   ],
   "source": [
    "type(dic['叶霞飞'])"
   ]
  },
  {
   "cell_type": "code",
   "execution_count": null,
   "metadata": {},
   "outputs": [],
   "source": []
  },
  {
   "cell_type": "code",
   "execution_count": 36,
   "metadata": {},
   "outputs": [
    {
     "data": {
      "text/html": [
       "<div>\n",
       "<style scoped>\n",
       "    .dataframe tbody tr th:only-of-type {\n",
       "        vertical-align: middle;\n",
       "    }\n",
       "\n",
       "    .dataframe tbody tr th {\n",
       "        vertical-align: top;\n",
       "    }\n",
       "\n",
       "    .dataframe thead th {\n",
       "        text-align: right;\n",
       "    }\n",
       "</style>\n",
       "<table border=\"1\" class=\"dataframe\">\n",
       "  <thead>\n",
       "    <tr style=\"text-align: right;\">\n",
       "      <th></th>\n",
       "      <th>题目</th>\n",
       "      <th>专业知识运用（15分）</th>\n",
       "      <th>作品可实施性/理论水平及论文难度（10分）</th>\n",
       "      <th>论文逻辑性结构（5分）</th>\n",
       "      <th>创新性（10分）</th>\n",
       "      <th>工作量（5分）</th>\n",
       "      <th>附加分（5分）</th>\n",
       "      <th>总分（50分)</th>\n",
       "    </tr>\n",
       "  </thead>\n",
       "  <tbody>\n",
       "    <tr>\n",
       "      <th>0</th>\n",
       "      <td>63    地铁车内噪声与钢轨短波不平顺关系研究\n",
       "64          宽频式钢轨吸振器降...</td>\n",
       "      <td>NaN</td>\n",
       "      <td>NaN</td>\n",
       "      <td>NaN</td>\n",
       "      <td>NaN</td>\n",
       "      <td>NaN</td>\n",
       "      <td>NaN</td>\n",
       "      <td>NaN</td>\n",
       "    </tr>\n",
       "    <tr>\n",
       "      <th>1</th>\n",
       "      <td>63    地铁车内噪声与钢轨短波不平顺关系研究\n",
       "64          宽频式钢轨吸振器降...</td>\n",
       "      <td>NaN</td>\n",
       "      <td>NaN</td>\n",
       "      <td>NaN</td>\n",
       "      <td>NaN</td>\n",
       "      <td>NaN</td>\n",
       "      <td>NaN</td>\n",
       "      <td>NaN</td>\n",
       "    </tr>\n",
       "    <tr>\n",
       "      <th>2</th>\n",
       "      <td>63    地铁车内噪声与钢轨短波不平顺关系研究\n",
       "64          宽频式钢轨吸振器降...</td>\n",
       "      <td>NaN</td>\n",
       "      <td>NaN</td>\n",
       "      <td>NaN</td>\n",
       "      <td>NaN</td>\n",
       "      <td>NaN</td>\n",
       "      <td>NaN</td>\n",
       "      <td>NaN</td>\n",
       "    </tr>\n",
       "    <tr>\n",
       "      <th>3</th>\n",
       "      <td>63    地铁车内噪声与钢轨短波不平顺关系研究\n",
       "64          宽频式钢轨吸振器降...</td>\n",
       "      <td>NaN</td>\n",
       "      <td>NaN</td>\n",
       "      <td>NaN</td>\n",
       "      <td>NaN</td>\n",
       "      <td>NaN</td>\n",
       "      <td>NaN</td>\n",
       "      <td>NaN</td>\n",
       "    </tr>\n",
       "  </tbody>\n",
       "</table>\n",
       "</div>"
      ],
      "text/plain": [
       "                                                  题目 专业知识运用（15分）  \\\n",
       "0  63    地铁车内噪声与钢轨短波不平顺关系研究\n",
       "64          宽频式钢轨吸振器降...         NaN   \n",
       "1  63    地铁车内噪声与钢轨短波不平顺关系研究\n",
       "64          宽频式钢轨吸振器降...         NaN   \n",
       "2  63    地铁车内噪声与钢轨短波不平顺关系研究\n",
       "64          宽频式钢轨吸振器降...         NaN   \n",
       "3  63    地铁车内噪声与钢轨短波不平顺关系研究\n",
       "64          宽频式钢轨吸振器降...         NaN   \n",
       "\n",
       "  作品可实施性/理论水平及论文难度（10分） 论文逻辑性结构（5分） 创新性（10分） 工作量（5分） 附加分（5分） 总分（50分)  \n",
       "0                   NaN         NaN      NaN     NaN     NaN     NaN  \n",
       "1                   NaN         NaN      NaN     NaN     NaN     NaN  \n",
       "2                   NaN         NaN      NaN     NaN     NaN     NaN  \n",
       "3                   NaN         NaN      NaN     NaN     NaN     NaN  "
      ]
     },
     "execution_count": 36,
     "metadata": {},
     "output_type": "execute_result"
    }
   ],
   "source": [
    "df_1"
   ]
  },
  {
   "cell_type": "code",
   "execution_count": 20,
   "metadata": {},
   "outputs": [
    {
     "data": {
      "text/html": [
       "<div>\n",
       "<style scoped>\n",
       "    .dataframe tbody tr th:only-of-type {\n",
       "        vertical-align: middle;\n",
       "    }\n",
       "\n",
       "    .dataframe tbody tr th {\n",
       "        vertical-align: top;\n",
       "    }\n",
       "\n",
       "    .dataframe thead th {\n",
       "        text-align: right;\n",
       "    }\n",
       "</style>\n",
       "<table border=\"1\" class=\"dataframe\">\n",
       "  <thead>\n",
       "    <tr style=\"text-align: right;\">\n",
       "      <th></th>\n",
       "      <th>第十八届“同路人”交通科技大赛初审评分表</th>\n",
       "      <th>Unnamed: 1</th>\n",
       "      <th>Unnamed: 2</th>\n",
       "      <th>Unnamed: 3</th>\n",
       "      <th>Unnamed: 4</th>\n",
       "      <th>Unnamed: 5</th>\n",
       "      <th>Unnamed: 6</th>\n",
       "      <th>Unnamed: 7</th>\n",
       "    </tr>\n",
       "  </thead>\n",
       "  <tbody>\n",
       "    <tr>\n",
       "      <th>0</th>\n",
       "      <td>题目</td>\n",
       "      <td>专业知识运用（15分）</td>\n",
       "      <td>作品可实施性/理论水平及论文难度（10分）</td>\n",
       "      <td>论文逻辑性结构（5分）</td>\n",
       "      <td>创新性（10分）</td>\n",
       "      <td>工作量（5分）</td>\n",
       "      <td>附加分（5分）</td>\n",
       "      <td>总分（50分)</td>\n",
       "    </tr>\n",
       "  </tbody>\n",
       "</table>\n",
       "</div>"
      ],
      "text/plain": [
       "  第十八届“同路人”交通科技大赛初审评分表   Unnamed: 1             Unnamed: 2   Unnamed: 3  \\\n",
       "0                   题目  专业知识运用（15分）  作品可实施性/理论水平及论文难度（10分）  论文逻辑性结构（5分）   \n",
       "\n",
       "  Unnamed: 4 Unnamed: 5 Unnamed: 6 Unnamed: 7  \n",
       "0   创新性（10分）    工作量（5分）    附加分（5分）    总分（50分)  "
      ]
     },
     "execution_count": 20,
     "metadata": {},
     "output_type": "execute_result"
    }
   ],
   "source": [
    "df_1"
   ]
  },
  {
   "cell_type": "code",
   "execution_count": 19,
   "metadata": {},
   "outputs": [],
   "source": [
    "name=['朱炜','洪玲','江志彬','滕靖']  #运输系老师\n",
    "name=['杨群','赵鸿铎','黄卫东','肖飞鹏']  #道路系老师\n",
    "name=['杜豫川','倪颖','马万经','黄世泽','施莉娟','沈煜']  #信息方向老师\n",
    "name=['余荣杰','柴晨','李健','孙剑','孙海浩','段征宇']  #规划方向老师"
   ]
  },
  {
   "cell_type": "code",
   "execution_count": null,
   "metadata": {},
   "outputs": [],
   "source": []
  }
 ],
 "metadata": {
  "kernelspec": {
   "display_name": "Python 3",
   "language": "python",
   "name": "python3"
  },
  "language_info": {
   "codemirror_mode": {
    "name": "ipython",
    "version": 3
   },
   "file_extension": ".py",
   "mimetype": "text/x-python",
   "name": "python",
   "nbconvert_exporter": "python",
   "pygments_lexer": "ipython3",
   "version": "3.8.3"
  }
 },
 "nbformat": 4,
 "nbformat_minor": 4
}
