{
 "cells": [
  {
   "cell_type": "code",
   "execution_count": 5,
   "metadata": {},
   "outputs": [],
   "source": [
    "#需要的两个库均为Python自带无需安装  smtplib,email\n",
    "import smtplib\n",
    "from smtplib import SMTP_SSL  #负责加密邮件\n",
    "from email.mime.multipart import MIMEMultipart  #将邮件的各部分装在一起\n",
    "from email.mime.text import MIMEText  #构建邮件的正文\n",
    "from email.header import Header #邮件头 包括收件人等信息\n",
    "from email.mime.application import MIMEApplication"
   ]
  },
  {
   "cell_type": "code",
   "execution_count": 4,
   "metadata": {
    "collapsed": true,
    "jupyter": {
     "outputs_hidden": true
    }
   },
   "outputs": [
    {
     "data": {
      "text/html": [
       "<div>\n",
       "<style scoped>\n",
       "    .dataframe tbody tr th:only-of-type {\n",
       "        vertical-align: middle;\n",
       "    }\n",
       "\n",
       "    .dataframe tbody tr th {\n",
       "        vertical-align: top;\n",
       "    }\n",
       "\n",
       "    .dataframe thead th {\n",
       "        text-align: right;\n",
       "    }\n",
       "</style>\n",
       "<table border=\"1\" class=\"dataframe\">\n",
       "  <thead>\n",
       "    <tr style=\"text-align: right;\">\n",
       "      <th></th>\n",
       "      <th>姓名</th>\n",
       "      <th>邮件</th>\n",
       "    </tr>\n",
       "  </thead>\n",
       "  <tbody>\n",
       "    <tr>\n",
       "      <th>0</th>\n",
       "      <td>余荣杰</td>\n",
       "      <td>yurongjie@tongji.edu.cn</td>\n",
       "    </tr>\n",
       "    <tr>\n",
       "      <th>1</th>\n",
       "      <td>柴晨</td>\n",
       "      <td>chaichen@tongji.edu.cn</td>\n",
       "    </tr>\n",
       "    <tr>\n",
       "      <th>2</th>\n",
       "      <td>李健</td>\n",
       "      <td>jianli@tongji.edu.cn</td>\n",
       "    </tr>\n",
       "    <tr>\n",
       "      <th>3</th>\n",
       "      <td>孙剑</td>\n",
       "      <td>sunjian@126.com</td>\n",
       "    </tr>\n",
       "    <tr>\n",
       "      <th>4</th>\n",
       "      <td>孙海浩</td>\n",
       "      <td>sunhaihao@tongji.edu.cn</td>\n",
       "    </tr>\n",
       "    <tr>\n",
       "      <th>5</th>\n",
       "      <td>段征宇</td>\n",
       "      <td>d_zy@163.com</td>\n",
       "    </tr>\n",
       "    <tr>\n",
       "      <th>6</th>\n",
       "      <td>杜豫川</td>\n",
       "      <td>duyuchuantj@126.com</td>\n",
       "    </tr>\n",
       "    <tr>\n",
       "      <th>7</th>\n",
       "      <td>倪颖</td>\n",
       "      <td>ni1111ying@163.com</td>\n",
       "    </tr>\n",
       "    <tr>\n",
       "      <th>8</th>\n",
       "      <td>马万经</td>\n",
       "      <td>mawanjing@tongji.edu.cn</td>\n",
       "    </tr>\n",
       "    <tr>\n",
       "      <th>9</th>\n",
       "      <td>黄世泽</td>\n",
       "      <td>fans8302@163.com</td>\n",
       "    </tr>\n",
       "    <tr>\n",
       "      <th>10</th>\n",
       "      <td>施莉娟</td>\n",
       "      <td>shilijuan150@163.com</td>\n",
       "    </tr>\n",
       "    <tr>\n",
       "      <th>11</th>\n",
       "      <td>沈煜</td>\n",
       "      <td>yshen@tongji.edu.cn</td>\n",
       "    </tr>\n",
       "    <tr>\n",
       "      <th>12</th>\n",
       "      <td>杨群</td>\n",
       "      <td>qunyang.w@tongji.edu.cn</td>\n",
       "    </tr>\n",
       "    <tr>\n",
       "      <th>13</th>\n",
       "      <td>赵鸿铎</td>\n",
       "      <td>hdzhao@tongji.edu.cn</td>\n",
       "    </tr>\n",
       "    <tr>\n",
       "      <th>14</th>\n",
       "      <td>黄卫东</td>\n",
       "      <td>hwd@tongji.edu.cn</td>\n",
       "    </tr>\n",
       "    <tr>\n",
       "      <th>15</th>\n",
       "      <td>肖飞鹏</td>\n",
       "      <td>fpxiao@tongji.edu.cn</td>\n",
       "    </tr>\n",
       "    <tr>\n",
       "      <th>16</th>\n",
       "      <td>王治</td>\n",
       "      <td>zhiwang@tongji.edu.cn</td>\n",
       "    </tr>\n",
       "    <tr>\n",
       "      <th>17</th>\n",
       "      <td>杨新文</td>\n",
       "      <td>yangxinwen0603@163.com</td>\n",
       "    </tr>\n",
       "    <tr>\n",
       "      <th>18</th>\n",
       "      <td>叶霞飞</td>\n",
       "      <td>yxf@tongji.edu.cn</td>\n",
       "    </tr>\n",
       "    <tr>\n",
       "      <th>19</th>\n",
       "      <td>李新国</td>\n",
       "      <td>Lixinguo04@163.com</td>\n",
       "    </tr>\n",
       "    <tr>\n",
       "      <th>20</th>\n",
       "      <td>朱炜</td>\n",
       "      <td>zhuweimail@tongji.edu.cn</td>\n",
       "    </tr>\n",
       "    <tr>\n",
       "      <th>21</th>\n",
       "      <td>洪玲</td>\n",
       "      <td>ss980308@tongji.edu.cn</td>\n",
       "    </tr>\n",
       "    <tr>\n",
       "      <th>22</th>\n",
       "      <td>江志彬</td>\n",
       "      <td>jzb@tongji.edu.cn</td>\n",
       "    </tr>\n",
       "    <tr>\n",
       "      <th>23</th>\n",
       "      <td>滕靖</td>\n",
       "      <td>tengjing@tongji.edu.cn</td>\n",
       "    </tr>\n",
       "  </tbody>\n",
       "</table>\n",
       "</div>"
      ],
      "text/plain": [
       "     姓名                        邮件\n",
       "0   余荣杰   yurongjie@tongji.edu.cn\n",
       "1    柴晨    chaichen@tongji.edu.cn\n",
       "2    李健      jianli@tongji.edu.cn\n",
       "3    孙剑           sunjian@126.com\n",
       "4   孙海浩   sunhaihao@tongji.edu.cn\n",
       "5   段征宇              d_zy@163.com\n",
       "6   杜豫川       duyuchuantj@126.com\n",
       "7    倪颖        ni1111ying@163.com\n",
       "8   马万经   mawanjing@tongji.edu.cn\n",
       "9   黄世泽          fans8302@163.com\n",
       "10  施莉娟      shilijuan150@163.com\n",
       "11   沈煜       yshen@tongji.edu.cn\n",
       "12  杨群    qunyang.w@tongji.edu.cn\n",
       "13  赵鸿铎      hdzhao@tongji.edu.cn\n",
       "14  黄卫东         hwd@tongji.edu.cn\n",
       "15  肖飞鹏      fpxiao@tongji.edu.cn\n",
       "16   王治     zhiwang@tongji.edu.cn\n",
       "17  杨新文    yangxinwen0603@163.com\n",
       "18  叶霞飞         yxf@tongji.edu.cn\n",
       "19  李新国        Lixinguo04@163.com\n",
       "20   朱炜  zhuweimail@tongji.edu.cn\n",
       "21   洪玲    ss980308@tongji.edu.cn\n",
       "22  江志彬         jzb@tongji.edu.cn\n",
       "23   滕靖    tengjing@tongji.edu.cn"
      ]
     },
     "execution_count": 4,
     "metadata": {},
     "output_type": "execute_result"
    }
   ],
   "source": [
    "import pandas as pd\n",
    "fpath2=r'C:\\Users\\刘佳琦\\Desktop\\老师邮箱.xlsx'\n",
    "\n",
    "df_2 = pd.read_excel(fpath2)\n",
    "df_2"
   ]
  },
  {
   "cell_type": "code",
   "execution_count": 13,
   "metadata": {},
   "outputs": [
    {
     "data": {
      "text/plain": [
       "'柴晨'"
      ]
     },
     "execution_count": 13,
     "metadata": {},
     "output_type": "execute_result"
    }
   ],
   "source": [
    "a=df_2.iloc[1]\n",
    "a['姓名']"
   ]
  },
  {
   "cell_type": "code",
   "execution_count": 14,
   "metadata": {},
   "outputs": [],
   "source": [
    "dic={}\n",
    "for i in range(len(df_2)):\n",
    "    a=df_2.iloc[i]\n",
    "    \n",
    "    dic[a['姓名']]=a['邮件']"
   ]
  },
  {
   "cell_type": "code",
   "execution_count": 15,
   "metadata": {
    "collapsed": true,
    "jupyter": {
     "outputs_hidden": true
    }
   },
   "outputs": [
    {
     "data": {
      "text/plain": [
       "{'余荣杰': 'yurongjie@tongji.edu.cn',\n",
       " '柴晨': 'chaichen@tongji.edu.cn',\n",
       " '李健': 'jianli@tongji.edu.cn',\n",
       " '孙剑': 'sunjian@126.com',\n",
       " '孙海浩': 'sunhaihao@tongji.edu.cn',\n",
       " '段征宇': 'd_zy@163.com',\n",
       " '杜豫川': 'duyuchuantj@126.com',\n",
       " '倪颖': 'ni1111ying@163.com',\n",
       " '马万经': 'mawanjing@tongji.edu.cn',\n",
       " '黄世泽': 'fans8302@163.com',\n",
       " '施莉娟': 'shilijuan150@163.com',\n",
       " '沈煜': 'yshen@tongji.edu.cn',\n",
       " '杨群 ': 'qunyang.w@tongji.edu.cn',\n",
       " '赵鸿铎': 'hdzhao@tongji.edu.cn',\n",
       " '黄卫东': 'hwd@tongji.edu.cn',\n",
       " '肖飞鹏': 'fpxiao@tongji.edu.cn',\n",
       " '王治': 'zhiwang@tongji.edu.cn',\n",
       " '杨新文': 'yangxinwen0603@163.com',\n",
       " '叶霞飞': 'yxf@tongji.edu.cn',\n",
       " '李新国': 'Lixinguo04@163.com',\n",
       " '朱炜': 'zhuweimail@tongji.edu.cn',\n",
       " '洪玲': 'ss980308@tongji.edu.cn',\n",
       " '江志彬': 'jzb@tongji.edu.cn',\n",
       " '滕靖': 'tengjing@tongji.edu.cn'}"
      ]
     },
     "execution_count": 15,
     "metadata": {},
     "output_type": "execute_result"
    }
   ],
   "source": [
    "dic"
   ]
  },
  {
   "cell_type": "code",
   "execution_count": 6,
   "metadata": {},
   "outputs": [],
   "source": [
    "def send_email(from_addr, to_addr, subject, password,xuehaoname,text):  #name为目标人的姓名  text 为文本信息 no为作业次数\n",
    "    fpath11=r'C:\\Users\\刘佳琦\\Desktop\\运筹学第七次作业-改\\\\'\n",
    "    fpath21=xuehaoname+'.pdf'\n",
    "    fpath22=xuehaoname+'2.pdf'\n",
    "    fpath_1=fpath11+fpath21\n",
    "    fpath_2=fpath11+fpath22\n",
    "    filename1=fpath21\n",
    "    filename2=fpath22\n",
    "    msg = MIMEMultipart()  #初始化邮件主体，创建一个实例   如名字所示Multipart就是分多个部分 \n",
    "    msg['From'] = from_addr  #发件人\n",
    "    msg['To'] = to_addr      #收件人\n",
    "    msg['Subject'] = subject  #邮件主题\n",
    "    #添加纯文本，text为需要输入的文本，字符串格式    \n",
    "    text_msg = MIMEText(text)\n",
    "    msg.attach(text_msg)   #增加邮件正文内容\n",
    "    \n",
    "    #part = MIMEApplication(open(fpath_1,'rb').read())\n",
    "    #part.add_header('Content-Disposition', 'attachment', filename=filename1)\n",
    "    #msg.attach(part)\n",
    "    \n",
    "    #part = MIMEApplication(open(fpath_2,'rb').read())\n",
    "    #part.add_header('Content-Disposition', 'attachment', filename=filename2)\n",
    "    #msg.attach(part)\n",
    "    \n",
    "    smtp_server = smtplib.SMTP('smtp.qq.com')  #登录邮箱服务器，这里是QQ邮箱\n",
    "    smtp_server.login(from_addr, password)  #登录账号\n",
    "    smtp_server.send_message(msg=msg)  #发送"
   ]
  },
  {
   "cell_type": "code",
   "execution_count": 8,
   "metadata": {},
   "outputs": [
    {
     "name": "stdout",
     "output_type": "stream",
     "text": [
      "1853932@tongji.edu.cn 的邮件发送失败\n",
      "发送失败的有： ['1853932@tongji.edu.cn']\n"
     ]
    }
   ],
   "source": [
    "#如果出现505 content denied的情况 可以先给非QQ邮箱发一封信 可解决非封问题 访问网址：https://service.exmail.qq.com/cgi-bin/help?subtype=1&&id=20022&&no=1000726\n",
    "\n",
    "no=7\n",
    "text='这是运筹学下第'+str(no)+'次作业的批改结果 请查收,如有问题，请联系助教，助教邮箱：1246262311@qq.com  from刘佳琦 by Python'  #该部分内容需要每次修改\n",
    "k=0\n",
    "t=[]\n",
    "shibai=[]\n",
    "if __name__ == \"__main__\":\n",
    "    #passwd填写认证密码，不是登录密码\n",
    "    mubiaoyouxiang=[\"1853932@tongji.edu.cn\"]\n",
    "    for i in mubiaoyouxiang:\n",
    "        try:\n",
    "            send_email(\"1262497280@qq.com\",dic1[i],\"运筹学作业批改结果\", \"qmurctrbnqxajhhc\",i,text)\n",
    "            k+=1\n",
    "            t.append(dic1[i])\n",
    "            print(\"%s 邮件已发送，这是第%d封\"%(i,k))\n",
    "            #dic1[i] 为目标人邮件 i为目标人姓名\n",
    "        except:\n",
    "            shibai.append(i)\n",
    "            print(i,'的邮件发送失败')\n",
    "            continue\n",
    "print(\"发送失败的有：\",shibai)  "
   ]
  },
  {
   "cell_type": "code",
   "execution_count": 9,
   "metadata": {},
   "outputs": [],
   "source": [
    "smtp_server = smtplib.SMTP('smtp.qq.com')  #登录邮箱服务器，这里是QQ邮箱\n"
   ]
  },
  {
   "cell_type": "code",
   "execution_count": null,
   "metadata": {},
   "outputs": [],
   "source": [
    "smtp_server.login(from_addr, password)  #登录账号\n",
    "smtp_server.send_message(msg=msg)  #发送"
   ]
  },
  {
   "cell_type": "code",
   "execution_count": null,
   "metadata": {},
   "outputs": [],
   "source": []
  },
  {
   "cell_type": "code",
   "execution_count": null,
   "metadata": {},
   "outputs": [],
   "source": []
  },
  {
   "cell_type": "code",
   "execution_count": 10,
   "metadata": {},
   "outputs": [
    {
     "ename": "SMTPAuthenticationError",
     "evalue": "(550, b'User has no permission')",
     "output_type": "error",
     "traceback": [
      "\u001b[1;31m---------------------------------------------------------------------------\u001b[0m",
      "\u001b[1;31mSMTPAuthenticationError\u001b[0m                   Traceback (most recent call last)",
      "\u001b[1;32m<ipython-input-10-3e0eb5cba445>\u001b[0m in \u001b[0;36m<module>\u001b[1;34m\u001b[0m\n\u001b[0;32m     17\u001b[0m \u001b[1;33m\u001b[0m\u001b[0m\n\u001b[0;32m     18\u001b[0m \u001b[0msmtp\u001b[0m \u001b[1;33m=\u001b[0m \u001b[0msmtplib\u001b[0m\u001b[1;33m.\u001b[0m\u001b[0mSMTP_SSL\u001b[0m\u001b[1;33m(\u001b[0m\u001b[1;34m\"smtp.163.com\"\u001b[0m\u001b[1;33m,\u001b[0m\u001b[1;36m994\u001b[0m\u001b[1;33m)\u001b[0m \u001b[1;31m#实例化smtp服务器\u001b[0m\u001b[1;33m\u001b[0m\u001b[1;33m\u001b[0m\u001b[0m\n\u001b[1;32m---> 19\u001b[1;33m \u001b[0msmtp\u001b[0m\u001b[1;33m.\u001b[0m\u001b[0mlogin\u001b[0m\u001b[1;33m(\u001b[0m\u001b[0msender\u001b[0m\u001b[1;33m,\u001b[0m\u001b[0mpassword\u001b[0m\u001b[1;33m)\u001b[0m\u001b[1;31m#发件人登录\u001b[0m\u001b[1;33m\u001b[0m\u001b[1;33m\u001b[0m\u001b[0m\n\u001b[0m\u001b[0;32m     20\u001b[0m \u001b[0msmtp\u001b[0m\u001b[1;33m.\u001b[0m\u001b[0msendmail\u001b[0m\u001b[1;33m(\u001b[0m\u001b[0msender\u001b[0m\u001b[1;33m,\u001b[0m\u001b[1;33m[\u001b[0m\u001b[0mrecver\u001b[0m\u001b[1;33m]\u001b[0m\u001b[1;33m,\u001b[0m\u001b[0mmessage\u001b[0m\u001b[1;33m.\u001b[0m\u001b[0mas_string\u001b[0m\u001b[1;33m(\u001b[0m\u001b[1;33m)\u001b[0m\u001b[1;33m)\u001b[0m \u001b[1;31m#as_string 对 message 的消息进行了封装\u001b[0m\u001b[1;33m\u001b[0m\u001b[1;33m\u001b[0m\u001b[0m\n\u001b[0;32m     21\u001b[0m \u001b[0msmtp\u001b[0m\u001b[1;33m.\u001b[0m\u001b[0mclose\u001b[0m\u001b[1;33m(\u001b[0m\u001b[1;33m)\u001b[0m\u001b[1;33m\u001b[0m\u001b[1;33m\u001b[0m\u001b[0m\n",
      "\u001b[1;32mD:\\anaconda3\\lib\\smtplib.py\u001b[0m in \u001b[0;36mlogin\u001b[1;34m(self, user, password, initial_response_ok)\u001b[0m\n\u001b[0;32m    732\u001b[0m \u001b[1;33m\u001b[0m\u001b[0m\n\u001b[0;32m    733\u001b[0m         \u001b[1;31m# We could not login successfully.  Return result of last attempt.\u001b[0m\u001b[1;33m\u001b[0m\u001b[1;33m\u001b[0m\u001b[1;33m\u001b[0m\u001b[0m\n\u001b[1;32m--> 734\u001b[1;33m         \u001b[1;32mraise\u001b[0m \u001b[0mlast_exception\u001b[0m\u001b[1;33m\u001b[0m\u001b[1;33m\u001b[0m\u001b[0m\n\u001b[0m\u001b[0;32m    735\u001b[0m \u001b[1;33m\u001b[0m\u001b[0m\n\u001b[0;32m    736\u001b[0m     \u001b[1;32mdef\u001b[0m \u001b[0mstarttls\u001b[0m\u001b[1;33m(\u001b[0m\u001b[0mself\u001b[0m\u001b[1;33m,\u001b[0m \u001b[0mkeyfile\u001b[0m\u001b[1;33m=\u001b[0m\u001b[1;32mNone\u001b[0m\u001b[1;33m,\u001b[0m \u001b[0mcertfile\u001b[0m\u001b[1;33m=\u001b[0m\u001b[1;32mNone\u001b[0m\u001b[1;33m,\u001b[0m \u001b[0mcontext\u001b[0m\u001b[1;33m=\u001b[0m\u001b[1;32mNone\u001b[0m\u001b[1;33m)\u001b[0m\u001b[1;33m:\u001b[0m\u001b[1;33m\u001b[0m\u001b[1;33m\u001b[0m\u001b[0m\n",
      "\u001b[1;32mD:\\anaconda3\\lib\\smtplib.py\u001b[0m in \u001b[0;36mlogin\u001b[1;34m(self, user, password, initial_response_ok)\u001b[0m\n\u001b[0;32m    721\u001b[0m             \u001b[0mmethod_name\u001b[0m \u001b[1;33m=\u001b[0m \u001b[1;34m'auth_'\u001b[0m \u001b[1;33m+\u001b[0m \u001b[0mauthmethod\u001b[0m\u001b[1;33m.\u001b[0m\u001b[0mlower\u001b[0m\u001b[1;33m(\u001b[0m\u001b[1;33m)\u001b[0m\u001b[1;33m.\u001b[0m\u001b[0mreplace\u001b[0m\u001b[1;33m(\u001b[0m\u001b[1;34m'-'\u001b[0m\u001b[1;33m,\u001b[0m \u001b[1;34m'_'\u001b[0m\u001b[1;33m)\u001b[0m\u001b[1;33m\u001b[0m\u001b[1;33m\u001b[0m\u001b[0m\n\u001b[0;32m    722\u001b[0m             \u001b[1;32mtry\u001b[0m\u001b[1;33m:\u001b[0m\u001b[1;33m\u001b[0m\u001b[1;33m\u001b[0m\u001b[0m\n\u001b[1;32m--> 723\u001b[1;33m                 (code, resp) = self.auth(\n\u001b[0m\u001b[0;32m    724\u001b[0m                     \u001b[0mauthmethod\u001b[0m\u001b[1;33m,\u001b[0m \u001b[0mgetattr\u001b[0m\u001b[1;33m(\u001b[0m\u001b[0mself\u001b[0m\u001b[1;33m,\u001b[0m \u001b[0mmethod_name\u001b[0m\u001b[1;33m)\u001b[0m\u001b[1;33m,\u001b[0m\u001b[1;33m\u001b[0m\u001b[1;33m\u001b[0m\u001b[0m\n\u001b[0;32m    725\u001b[0m                     initial_response_ok=initial_response_ok)\n",
      "\u001b[1;32mD:\\anaconda3\\lib\\smtplib.py\u001b[0m in \u001b[0;36mauth\u001b[1;34m(self, mechanism, authobject, initial_response_ok)\u001b[0m\n\u001b[0;32m    644\u001b[0m         \u001b[1;32mif\u001b[0m \u001b[0mcode\u001b[0m \u001b[1;32min\u001b[0m \u001b[1;33m(\u001b[0m\u001b[1;36m235\u001b[0m\u001b[1;33m,\u001b[0m \u001b[1;36m503\u001b[0m\u001b[1;33m)\u001b[0m\u001b[1;33m:\u001b[0m\u001b[1;33m\u001b[0m\u001b[1;33m\u001b[0m\u001b[0m\n\u001b[0;32m    645\u001b[0m             \u001b[1;32mreturn\u001b[0m \u001b[1;33m(\u001b[0m\u001b[0mcode\u001b[0m\u001b[1;33m,\u001b[0m \u001b[0mresp\u001b[0m\u001b[1;33m)\u001b[0m\u001b[1;33m\u001b[0m\u001b[1;33m\u001b[0m\u001b[0m\n\u001b[1;32m--> 646\u001b[1;33m         \u001b[1;32mraise\u001b[0m \u001b[0mSMTPAuthenticationError\u001b[0m\u001b[1;33m(\u001b[0m\u001b[0mcode\u001b[0m\u001b[1;33m,\u001b[0m \u001b[0mresp\u001b[0m\u001b[1;33m)\u001b[0m\u001b[1;33m\u001b[0m\u001b[1;33m\u001b[0m\u001b[0m\n\u001b[0m\u001b[0;32m    647\u001b[0m \u001b[1;33m\u001b[0m\u001b[0m\n\u001b[0;32m    648\u001b[0m     \u001b[1;32mdef\u001b[0m \u001b[0mauth_cram_md5\u001b[0m\u001b[1;33m(\u001b[0m\u001b[0mself\u001b[0m\u001b[1;33m,\u001b[0m \u001b[0mchallenge\u001b[0m\u001b[1;33m=\u001b[0m\u001b[1;32mNone\u001b[0m\u001b[1;33m)\u001b[0m\u001b[1;33m:\u001b[0m\u001b[1;33m\u001b[0m\u001b[1;33m\u001b[0m\u001b[0m\n",
      "\u001b[1;31mSMTPAuthenticationError\u001b[0m: (550, b'User has no permission')"
     ]
    }
   ],
   "source": [
    "\n",
    "import smtplib #smtp服务器\n",
    "from email.mime.text import MIMEText #邮件文本\n",
    " \n",
    "#邮件构建\n",
    " \n",
    "subject = \"滴滴答答\"#邮件标题\n",
    "sender = \"tjjiaoke@163.com\"#发送方\n",
    "content = \"新年快乐！\"\n",
    "recver = \"1853932@tongji.edu.cn\"#接收方\n",
    "password = \"jiaoke520tjjy\"\n",
    "message = MIMEText(content,\"plain\",\"utf-8\")\n",
    "#content 发送内容     \"plain\"文本格式   utf-8 编码格式\n",
    " \n",
    "message['Subject'] = subject #邮件标题\n",
    "message['To'] = recver #收件人\n",
    "message['From'] = sender #发件人\n",
    " \n",
    "smtp = smtplib.SMTP_SSL(\"smtp.163.com\",994) #实例化smtp服务器\n",
    "smtp.login(sender,password)#发件人登录\n",
    "smtp.sendmail(sender,[recver],message.as_string()) #as_string 对 message 的消息进行了封装\n",
    "smtp.close()"
   ]
  },
  {
   "cell_type": "code",
   "execution_count": null,
   "metadata": {},
   "outputs": [],
   "source": []
  }
 ],
 "metadata": {
  "kernelspec": {
   "display_name": "Python 3",
   "language": "python",
   "name": "python3"
  },
  "language_info": {
   "codemirror_mode": {
    "name": "ipython",
    "version": 3
   },
   "file_extension": ".py",
   "mimetype": "text/x-python",
   "name": "python",
   "nbconvert_exporter": "python",
   "pygments_lexer": "ipython3",
   "version": "3.8.3"
  }
 },
 "nbformat": 4,
 "nbformat_minor": 4
}
