{
 "cells": [
  {
   "cell_type": "code",
   "execution_count": 2,
   "metadata": {},
   "outputs": [],
   "source": [
    "#需要的两个库均为Python自带无需安装  smtplib,email\n",
    "import smtplib\n",
    "from smtplib import SMTP_SSL  #负责加密邮件\n",
    "from email.mime.multipart import MIMEMultipart  #将邮件的各部分装在一起\n",
    "from email.mime.text import MIMEText  #构建邮件的正文\n",
    "from email.header import Header #邮件头 包括收件人等信息\n",
    "from email.mime.application import MIMEApplication  #专门用来添加附件"
   ]
  },
  {
   "cell_type": "code",
   "execution_count": 19,
   "metadata": {},
   "outputs": [],
   "source": [
    "#发送邮件的函数，简易版，不带格式\n",
    "def send_email(from_addr, to_addr, subject, password,text):  #name为目标人的姓名  text 为文本信息 no为作业次数\n",
    "    host_sever='smtp.qq.com'  #邮箱服务器\n",
    "    msg = MIMEMultipart()  #初始化邮件主体，创建一个实例   如名字所示Multipart就是分多个部分 \n",
    "    msg['From'] = from_addr  #发件人\n",
    "    msg['To'] = to_addr      #收件人\n",
    "    msg['Subject'] = Header(subject,'utf-8')  #邮件主题\n",
    "    #添加纯文本，text为需要输入的文本，字符串格式    \n",
    "    text_msg = MIMEText(text,'plain','utf-8')  #plain 代表无格式，若改为“html”，则格式变为HTML格式\n",
    "    msg.attach(text_msg)   #增加邮件正文内容，无格式\n",
    "    try:\n",
    "        smtp_server = smtplib.SMTP(host_sever)  #登录邮箱服务器，这里是QQ邮箱\n",
    "        #smtp_server.set_debuglevel(1)\n",
    "        #smtp_server.ehlo(host_sever)   #跟服务器打招呼\n",
    "        smtp_server.login(from_addr, password)  #登录账号\n",
    "        smtp_server.send_message(msg=msg)  #发送\n",
    "        smtp_server.quit()\n",
    "        print('给%s的邮件发送成功'%to_addr)\n",
    "    except smtplib.SMTPException:\n",
    "        print('无法发送邮件')"
   ]
  },
  {
   "cell_type": "code",
   "execution_count": 20,
   "metadata": {},
   "outputs": [
    {
     "name": "stdout",
     "output_type": "stream",
     "text": [
      "给1853932@tongji.edu.cn的邮件发送成功\n"
     ]
    }
   ],
   "source": [
    "text='这是一封Python的测试邮件'\n",
    "send_email(\"1262497280@qq.com\",\"1853932@tongji.edu.cn\",\"python_test_email\", \"qmurctrbnqxajhhc\",text)"
   ]
  },
  {
   "cell_type": "code",
   "execution_count": null,
   "metadata": {},
   "outputs": [],
   "source": [
    "#发送邮件的函数\n",
    "def send_email(from_addr, to_addr, subject, password,xuehaoname,text):  #name为目标人的姓名  text 为文本信息 no为作业次数\n",
    "    fpath11=r'C:\\Users\\刘佳琦\\Desktop\\运筹学第七次作业-改\\\\'\n",
    "    fpath21=xuehaoname+'.pdf'\n",
    "    fpath22=xuehaoname+'2.pdf'\n",
    "    fpath_1=fpath11+fpath21\n",
    "    fpath_2=fpath11+fpath22\n",
    "    filename1=fpath21\n",
    "    filename2=fpath22\n",
    "    msg = MIMEMultipart()  #初始化邮件主体，创建一个实例   如名字所示Multipart就是分多个部分 \n",
    "    msg['From'] = from_addr  #发件人\n",
    "    msg['To'] = to_addr      #收件人\n",
    "    msg['Subject'] = subject  #邮件主题\n",
    "    #添加纯文本，text为需要输入的文本，字符串格式    \n",
    "    text_msg = MIMEText(text)\n",
    "    msg.attach(text_msg)   #增加邮件正文内容\n",
    "    \n",
    "    part = MIMEApplication(open(fpath_1,'rb').read())\n",
    "    part.add_header('Content-Disposition', 'attachment', filename=filename1)\n",
    "    msg.attach(part)\n",
    "    \n",
    "    #part = MIMEApplication(open(fpath_2,'rb').read())\n",
    "    #part.add_header('Content-Disposition', 'attachment', filename=filename2)\n",
    "    #msg.attach(part)\n",
    "    \n",
    "    smtp_server = smtplib.SMTP('smtp.qq.com')  #登录邮箱服务器，这里是QQ邮箱\n",
    "    smtp_server.login(from_addr, password)  #登录账号\n",
    "    smtp_server.send_message(msg=msg)  #发送"
   ]
  },
  {
   "cell_type": "code",
   "execution_count": null,
   "metadata": {},
   "outputs": [],
   "source": []
  }
 ],
 "metadata": {
  "kernelspec": {
   "display_name": "Python 3",
   "language": "python",
   "name": "python3"
  },
  "language_info": {
   "codemirror_mode": {
    "name": "ipython",
    "version": 3
   },
   "file_extension": ".py",
   "mimetype": "text/x-python",
   "name": "python",
   "nbconvert_exporter": "python",
   "pygments_lexer": "ipython3",
   "version": "3.7.1"
  }
 },
 "nbformat": 4,
 "nbformat_minor": 4
}
