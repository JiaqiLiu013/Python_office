{
 "cells": [
  {
   "cell_type": "code",
   "execution_count": 51,
   "metadata": {},
   "outputs": [],
   "source": [
    "from docx import Document\n",
    "from docx.enum.text import WD_ALIGN_PARAGRAPH\n",
    "from docx.shared import Pt\n",
    "from docx.oxml.ns import qn"
   ]
  },
  {
   "cell_type": "code",
   "execution_count": 85,
   "metadata": {},
   "outputs": [
    {
     "name": "stdout",
     "output_type": "stream",
     "text": [
      "尊\n"
     ]
    }
   ],
   "source": [
    "document =Document(r\"C:\\Users\\刘佳琦\\Desktop\\第十九届交科初审邀请函模板.docx\")\n",
    "\n",
    "all_paragraphs=document.paragraphs\n",
    "paragraph0=all_paragraphs[2]\n",
    "print(paragraph0.text)"
   ]
  },
  {
   "cell_type": "code",
   "execution_count": 75,
   "metadata": {},
   "outputs": [
    {
     "name": "stdout",
     "output_type": "stream",
     "text": [
      "尊\n"
     ]
    }
   ],
   "source": []
  },
  {
   "cell_type": "code",
   "execution_count": 19,
   "metadata": {},
   "outputs": [],
   "source": [
    "def chang_text_01(old_text,new_text):\n",
    "    all_paragraphs=document.paragraphs\n",
    "    for paragraph in all_paragraphs:\n",
    "        for run in paragraph.runs:\n",
    "            run_text = run.text.replace(old_text,new_text)   #需要在run这个层面进行改变，在paragraph改变会丢失格式\n",
    "            run.text =run_text\n",
    "    all_tables = document.tables\n",
    "    for table in all_tables:\n",
    "        for row in table.rows:\n",
    "            for cell in row.cells:\n",
    "                cell_text=cell.text.replace(old_text,new_text)\n",
    "                cell.text=cell_text"
   ]
  },
  {
   "cell_type": "code",
   "execution_count": 81,
   "metadata": {},
   "outputs": [],
   "source": [
    "#针对交科大赛文本的改变\n",
    "def chang_text(old_text,new_text):\n",
    "    #print(new_text)\n",
    "    all_paragraphs=document.paragraphs\n",
    "    paragraph1=all_paragraphs[2]\n",
    "    print(paragraph1.text)\n",
    "    for run in paragraph1.runs:\n",
    "        \n",
    "        run_text = run.text.replace(old_text,new_text)   #需要在run这个层面进行改变，在paragraph改变会丢失格式\n",
    "        print(run.text.replace(old_text,new_text))\n",
    "        run.text =run_text\n",
    "    print(paragraph1.text)   \n",
    "    #print(paragraph1.text)"
   ]
  },
  {
   "cell_type": "code",
   "execution_count": 45,
   "metadata": {},
   "outputs": [],
   "source": [
    "def add_text(context):\n",
    "    p=document.add_paragraph()\n",
    "    p.alignment=WD_ALIGN_PARAGRAPH.RIGHT   #左对齐/右对齐/居中\n",
    "    r=p.add_run(str(context))\n",
    "    r.font.size=Pt(12)\n",
    "    p.space_after=Pt(5)  #段前5磅\n",
    "    p.space_before=Pt(5) #段后5磅"
   ]
  },
  {
   "cell_type": "code",
   "execution_count": 86,
   "metadata": {},
   "outputs": [
    {
     "name": "stdout",
     "output_type": "stream",
     "text": [
      "尊敬的杨群老师：\n",
      "尊敬的杨群老师：\n",
      "尊敬的赵鸿铎老师：\n",
      "尊敬的赵鸿铎老师：\n",
      "尊敬的黄卫东老师：\n",
      "尊敬的黄卫东老师：\n",
      "尊敬的肖飞鹏老师：\n",
      "尊敬的肖飞鹏老师：\n",
      "尊敬的朱炜老师：\n",
      "尊敬的朱炜老师：\n",
      "尊敬的洪玲老师：\n",
      "尊敬的洪玲老师：\n",
      "尊敬的江志彬老师：\n",
      "尊敬的江志彬老师：\n",
      "尊敬的滕靖老师：\n",
      "尊敬的滕靖老师：\n",
      "尊敬的王治老师：\n",
      "尊敬的王治老师：\n",
      "尊敬的杨新文老师：\n",
      "尊敬的杨新文老师：\n",
      "尊敬的叶霞飞老师：\n",
      "尊敬的叶霞飞老师：\n",
      "尊敬的李新国老师：\n",
      "尊敬的李新国老师：\n",
      "尊敬的杜豫川老师：\n",
      "尊敬的杜豫川老师：\n",
      "尊敬的倪颖老师：\n",
      "尊敬的倪颖老师：\n",
      "尊敬的马万经老师：\n",
      "尊敬的马万经老师：\n",
      "尊敬的黄世泽老师：\n",
      "尊敬的黄世泽老师：\n",
      "尊敬的施莉娟老师：\n",
      "尊敬的施莉娟老师：\n",
      "尊敬的沈煜老师：\n",
      "尊敬的沈煜老师：\n",
      "尊敬的余荣杰老师：\n",
      "尊敬的余荣杰老师：\n",
      "尊敬的柴晨老师：\n",
      "尊敬的柴晨老师：\n",
      "尊敬的李健老师：\n",
      "尊敬的李健老师：\n",
      "尊敬的孙剑老师：\n",
      "尊敬的孙剑老师：\n",
      "尊敬的孙海浩老师：\n",
      "尊敬的孙海浩老师：\n",
      "尊敬的段征宇老师：\n",
      "尊敬的段征宇老师：\n"
     ]
    }
   ],
   "source": [
    "name_list=['杨群','赵鸿铎','黄卫东','肖飞鹏','朱炜','洪玲','江志彬','滕靖','王治','杨新文','叶霞飞','李新国','杜豫川','倪颖','马万经','黄世泽','施莉娟','沈煜','余荣杰','柴晨','李健','孙剑','孙海浩','段征宇']\n",
    "for name in name_list:\n",
    "    document =Document(r\"C:\\Users\\刘佳琦\\Desktop\\第十九届交科初审邀请函模板.docx\")\n",
    "    new_text='尊敬的'+name+'老师：'\n",
    "    old_text='尊'\n",
    "    chang_text(old_text,new_text)\n",
    "    \n",
    "\n",
    "    #add_text('联系人：刘佳琦')\n",
    "    #add_text('联系邮箱：1853932@tongji.edu.cn')\n",
    "    document.save(r\"C:\\Users\\刘佳琦\\Desktop\\第十九届“同路人”交通科技大赛邀请函-%s.docx\"%name)"
   ]
  },
  {
   "cell_type": "code",
   "execution_count": 57,
   "metadata": {},
   "outputs": [
    {
     "data": {
      "text/plain": [
       "'尊敬的余荣杰老师：'"
      ]
     },
     "execution_count": 57,
     "metadata": {},
     "output_type": "execute_result"
    }
   ],
   "source": [
    "new_text"
   ]
  },
  {
   "cell_type": "code",
   "execution_count": null,
   "metadata": {},
   "outputs": [],
   "source": [
    "    all_paragraphs=document.paragraphs\n",
    "    paragraph1=all_paragraphs[2]\n",
    "    print(paragraph1.text)\n",
    "    #run=paragraph1.runs\n",
    "    paragraph1.text=paragraph1.text.replace(old_text,new_text)"
   ]
  },
  {
   "cell_type": "code",
   "execution_count": 28,
   "metadata": {},
   "outputs": [
    {
     "data": {
      "text/plain": [
       "'尊敬的余荣杰老师：'"
      ]
     },
     "execution_count": 28,
     "metadata": {},
     "output_type": "execute_result"
    }
   ],
   "source": [
    "new_text"
   ]
  },
  {
   "cell_type": "code",
   "execution_count": 34,
   "metadata": {},
   "outputs": [
    {
     "name": "stdout",
     "output_type": "stream",
     "text": [
      "尊敬的\n",
      "X\n",
      "XX\n",
      "老师：\n"
     ]
    }
   ],
   "source": [
    "for run in paragraph1.runs:\n",
    "    print(run.text)"
   ]
  },
  {
   "cell_type": "code",
   "execution_count": 39,
   "metadata": {},
   "outputs": [
    {
     "data": {
      "text/plain": [
       "'尊敬的XXX老师：'"
      ]
     },
     "execution_count": 39,
     "metadata": {},
     "output_type": "execute_result"
    }
   ],
   "source": [
    "paragraph1.text"
   ]
  },
  {
   "cell_type": "code",
   "execution_count": 40,
   "metadata": {},
   "outputs": [
    {
     "data": {
      "text/plain": [
       "'尊敬的余荣杰老师：'"
      ]
     },
     "execution_count": 40,
     "metadata": {},
     "output_type": "execute_result"
    }
   ],
   "source": [
    " paragraph1.text.replace(old_text,new_text)"
   ]
  },
  {
   "cell_type": "code",
   "execution_count": null,
   "metadata": {},
   "outputs": [],
   "source": []
  }
 ],
 "metadata": {
  "kernelspec": {
   "display_name": "Python 3",
   "language": "python",
   "name": "python3"
  },
  "language_info": {
   "codemirror_mode": {
    "name": "ipython",
    "version": 3
   },
   "file_extension": ".py",
   "mimetype": "text/x-python",
   "name": "python",
   "nbconvert_exporter": "python",
   "pygments_lexer": "ipython3",
   "version": "3.8.3"
  }
 },
 "nbformat": 4,
 "nbformat_minor": 4
}
