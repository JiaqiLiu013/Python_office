{
 "cells": [
  {
   "cell_type": "code",
   "execution_count": 2,
   "metadata": {},
   "outputs": [],
   "source": [
    "#需要的两个库均为Python自带无需安装  smtplib,email\n",
    "import smtplib\n",
    "from smtplib import SMTP_SSL  #负责加密邮件\n",
    "from email.mime.multipart import MIMEMultipart  #将邮件的各部分装在一起\n",
    "from email.mime.text import MIMEText  #构建邮件的正文\n",
    "from email.header import Header #邮件头 包括收件人等信息\n",
    "from email.mime.application import MIMEApplication  #专门用来添加附件"
   ]
  },
  {
   "cell_type": "code",
   "execution_count": 19,
   "metadata": {},
   "outputs": [],
   "source": [
    "#发送邮件的函数，简易版，不带格式\n",
    "def send_email(from_addr, to_addr, subject, password,text):  #name为目标人的姓名  text 为文本信息 no为作业次数\n",
    "    host_sever='smtp.qq.com'  #邮箱服务器\n",
    "    msg = MIMEMultipart()  #初始化邮件主体，创建一个实例   如名字所示Multipart就是分多个部分 \n",
    "    msg['From'] = from_addr  #发件人\n",
    "    msg['To'] = to_addr      #收件人\n",
    "    msg['Subject'] = Header(subject,'utf-8')  #邮件主题\n",
    "    #添加纯文本，text为需要输入的文本，字符串格式    \n",
    "    text_msg = MIMEText(text,'plain','utf-8')  #plain 代表无格式，若改为“html”，则格式变为HTML格式\n",
    "    msg.attach(text_msg)   #增加邮件正文内容，无格式\n",
    "    try:\n",
    "        smtp_server = smtplib.SMTP(host_sever)  #登录邮箱服务器，这里是QQ邮箱\n",
    "        #smtp_server.set_debuglevel(1)\n",
    "        #smtp_server.ehlo(host_sever)   #跟服务器打招呼\n",
    "        smtp_server.login(from_addr, password)  #登录账号\n",
    "        smtp_server.send_message(msg=msg)  #发送\n",
    "        smtp_server.quit()\n",
    "        print('给%s的邮件发送成功'%to_addr)\n",
    "    except smtplib.SMTPException:\n",
    "        print('无法发送邮件')"
   ]
  },
  {
   "cell_type": "code",
   "execution_count": 20,
   "metadata": {},
   "outputs": [
    {
     "name": "stdout",
     "output_type": "stream",
     "text": [
      "给1853932@tongji.edu.cn的邮件发送成功\n"
     ]
    }
   ],
   "source": [
    "text='这是一封Python的测试邮件'\n",
    "send_email(\"1262497280@qq.com\",\"1853932@tongji.edu.cn\",\"python_test_email\", \"qmurctrbnqxajhhc\",text)"
   ]
  },
  {
   "cell_type": "code",
   "execution_count": null,
   "metadata": {},
   "outputs": [],
   "source": [
    "#发送邮件的函数\n",
    "def send_email(from_addr, to_addr, subject, password,xuehaoname,text):  #name为目标人的姓名  text 为文本信息 no为作业次数\n",
    "    host_sever='smtp.qq.com'  #邮箱服务器\n",
    "    fpath11=r'C:\\Users\\刘佳琦\\Desktop\\运筹学第七次作业-改\\\\'\n",
    "    fpath21=xuehaoname+'.pdf'\n",
    "    fpath_1=fpath11+fpath21\n",
    "    filename1=fpath21\n",
    "    \n",
    "    \n",
    "    msg = MIMEMultipart()  #初始化邮件主体，创建一个实例   如名字所示Multipart就是分多个部分 \n",
    "    msg['From'] = from_addr  #发件人\n",
    "    msg['To'] = to_addr      #收件人\n",
    "    msg['Subject'] = subject  #邮件主题\n",
    "    #添加纯文本，text为需要输入的文本，字符串格式    \n",
    "    text_msg = MIMEText(text)\n",
    "    msg.attach(text_msg)   #增加邮件正文内容\n",
    "    \n",
    "    part = MIMEApplication(open(fpath_1,'rb').read())  #rb 以二进制形式打开附件\n",
    "    part.add_header('Content-Disposition', 'attachment', filename=filename1)  \n",
    "    #此处的filename1为重命名部分，自己可以任意为附件命名，不过要注意文件后缀名\n",
    "    msg.attach(part)  #添加附件\n",
    "\n",
    "    try:\n",
    "        smtp_server = smtplib.SMTP(host_sever)  #登录邮箱服务器，这里是QQ邮箱\n",
    "        #smtp_server.set_debuglevel(1)\n",
    "        #smtp_server.ehlo(host_sever)   #跟服务器打招呼\n",
    "        smtp_server.login(from_addr, password)  #登录账号\n",
    "        smtp_server.send_message(msg=msg)  #发送\n",
    "        smtp_server.quit()\n",
    "        print('给%s的邮件发送成功'%to_addr)\n",
    "    except smtplib.SMTPException:\n",
    "        print('无法发送邮件')"
   ]
  },
  {
   "cell_type": "code",
   "execution_count": 30,
   "metadata": {},
   "outputs": [
    {
     "name": "stdout",
     "output_type": "stream",
     "text": [
      "当前ID为： 1\n",
      "邮件主题为： 会员服务到期提醒\n",
      "当前ID为： 2\n",
      "邮件主题为： 自动回复:运筹学作业批改结果\n",
      "当前ID为： 3\n",
      "邮件主题为： 回复：运筹学作业批改结果\n",
      "当前ID为： 4\n",
      "邮件主题为： 运筹学下期末大作业 1853937 樊孟奇\n",
      "当前ID为： 5\n",
      "邮件主题为： 1853932 自动回复: python_test_email\n"
     ]
    }
   ],
   "source": [
    "#使用zmail收取邮件\n",
    "import zmail\n",
    "sender = '1262497280@qq.com'\n",
    "sender_password = 'qmurctrbnqxajhhc'\n",
    "\n",
    "server = zmail.server(sender,sender_password)  #直接输入对应的邮箱号和密码（或者授权码，避免密码泄露）即可\n",
    "#mail=server.get_latest() #get最新的一封邮件\n",
    "#zmail.show(mail) #显示邮件\n",
    "#print(mail['subject'])\n",
    "#print(mail['id'])\n",
    "#zmail.save_attachment(mail,target_path=None,overwrite=True)  #保存附件，target_path为保存路径\n",
    "\n",
    "mails = server.get_mails()\n",
    "\n",
    "for mail in mails:\n",
    "    print(\"当前ID为：\",mail['id'])\n",
    "    print(\"邮件主题为：\",mail['subject'])\n",
    "    #print(\"邮件内容为：\",mail['content_text'][0])"
   ]
  },
  {
   "cell_type": "code",
   "execution_count": 27,
   "metadata": {},
   "outputs": [
    {
     "data": {
      "text/plain": [
       "(5, 199513)"
      ]
     },
     "execution_count": 27,
     "metadata": {},
     "output_type": "execute_result"
    }
   ],
   "source": [
    "server.stat()"
   ]
  },
  {
   "cell_type": "markdown",
   "metadata": {},
   "source": [
    "server.get_latest()：获取邮箱中最新的一封邮件\n",
    "get_mail：根据ID取回邮件。邮件中最新的一份邮件ID最大。id的最小值为1\n",
    "server.stat()：获取邮箱的信息，返回的结果是包含两个整型的元祖：(邮件的数量，邮件的大小)\n",
    "zmail.show(mail)：打印邮件\n",
    "send_mail  :发送邮件\n",
    "get_latest:获取最新邮件\n",
    "get_mail：依据id获取邮件\n",
    "get_mails：根据条件获取邮件列表\n",
    "get_headers：获取所有邮件头信息\n",
    "stat：获取收件箱信息\n",
    "zmail.show：展示邮件消息"
   ]
  }
 ],
 "metadata": {
  "kernelspec": {
   "display_name": "Python 3",
   "language": "python",
   "name": "python3"
  },
  "language_info": {
   "codemirror_mode": {
    "name": "ipython",
    "version": 3
   },
   "file_extension": ".py",
   "mimetype": "text/x-python",
   "name": "python",
   "nbconvert_exporter": "python",
   "pygments_lexer": "ipython3",
   "version": "3.7.1"
  }
 },
 "nbformat": 4,
 "nbformat_minor": 4
}
