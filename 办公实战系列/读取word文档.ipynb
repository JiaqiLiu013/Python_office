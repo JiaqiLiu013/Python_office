{
 "cells": [
  {
   "cell_type": "code",
   "execution_count": 1,
   "metadata": {},
   "outputs": [],
   "source": [
    "from docx import Document"
   ]
  },
  {
   "cell_type": "code",
   "execution_count": 3,
   "metadata": {},
   "outputs": [
    {
     "name": "stdout",
     "output_type": "stream",
     "text": [
      "关于下达2020年07月16日产品价格的通知\n",
      "客户1：\n",
      "    根据公司安排，为提供优质客户服务，我单位拟定了今日价格为300元，特此通知。\n",
      "（联系人：小杨    电话：18888888888）\n"
     ]
    }
   ],
   "source": [
    "document=Document(r'C:\\Users\\刘佳琦\\Desktop\\实验\\客户1-价格通知.docx')\n",
    "all_paragraphs=document.paragraphs  #读取所有段落\n",
    "for paragraph in all_paragraphs:\n",
    "    print(paragraph.text)"
   ]
  },
  {
   "cell_type": "code",
   "execution_count": 4,
   "metadata": {},
   "outputs": [],
   "source": [
    "import zipfile"
   ]
  },
  {
   "cell_type": "code",
   "execution_count": 10,
   "metadata": {},
   "outputs": [
    {
     "name": "stdout",
     "output_type": "stream",
     "text": [
      "['同济大学2019-2020学年第二学期教学进度表', '材料力学实验（12513108）', '学院：航空航天与力学学院  系：     实验室：力学实验中心    实验指导教师和工号：', '课程编号：12513108   课程名称：材料力学实验  课程性质：专业基础   授课教师和工号：朱金龙82742', '学生所属系专业：交通工程,建筑环境与能源应用工程,能源与动力工程 班级：18级本科   人数:  42', '次序', '教学内容', '开设时间', '时间', '）', '备注', '1', '材料力学实验绪论', '7.24，星期五', '下午13:00-17:00', '线上授课', '2', '拉伸、压缩', '3', '弹性模量实验', '4', '扭转2', '5', '应变电测原理介绍', '7.26，星期日', '下午13:00-17:00', '6', '梁弯曲2', '7', '疲劳演示和冲击实验', '8', '弯扭组合变形2', '7.28，星期二', '下午13:00-17:00', '9', '应变', '片接桥方法', '10', '压', '杆稳定']\n",
      "同济大学2019-2020学年第二学期教学进度表材料力学实验（12513108）学院：航空航天与力学学院  系：     实验室：力学实验中心    实验指导教师和工号：课程编号：12513108   课程名称：材料力学实验  课程性质：专业基础   授课教师和工号：朱金龙82742学生所属系专业：交通工程,建筑环境与能源应用工程,能源与动力工程 班级：18级本科   人数:  42次序教学内容开设时间时间）备注1材料力学实验绪论7.24，星期五下午13:00-17:00线上授课2拉伸、压缩3弹性模量实验4扭转25应变电测原理介绍7.26，星期日下午13:00-17:006梁弯曲27疲劳演示和冲击实验8弯扭组合变形27.28，星期二下午13:00-17:009应变片接桥方法10压杆稳定\n"
     ]
    }
   ],
   "source": [
    "word=zipfile.ZipFile(r'C:\\Users\\刘佳琦\\Desktop\\材料力学实验\\同济大学2019-2020学年第二学期教学进度表_材料力学实验（12513108）.docx')\n",
    "xml=word.read('word/document.xml').decode('utf-8')  #注意编码格式\n",
    "#print(xml)\n",
    "\n",
    "xml_list=xml.split('<w:t>')\n",
    "text_list=[]\n",
    "for i in xml_list:\n",
    "    if i.find('</w:t>')+1:\n",
    "        text_list.append(i[:i.find('</w:t>')])\n",
    "    else:\n",
    "        pass\n",
    "print(text_list)    这种方式方法对于既有文本又有表格的word文档可以统一提取\n",
    "text=\"\".join(text_list)   #将整个列表整合成一个字符串\n",
    "print(text)"
   ]
  },
  {
   "cell_type": "code",
   "execution_count": null,
   "metadata": {},
   "outputs": [],
   "source": []
  }
 ],
 "metadata": {
  "kernelspec": {
   "display_name": "Python 3",
   "language": "python",
   "name": "python3"
  },
  "language_info": {
   "codemirror_mode": {
    "name": "ipython",
    "version": 3
   },
   "file_extension": ".py",
   "mimetype": "text/x-python",
   "name": "python",
   "nbconvert_exporter": "python",
   "pygments_lexer": "ipython3",
   "version": "3.7.1"
  }
 },
 "nbformat": 4,
 "nbformat_minor": 4
}
