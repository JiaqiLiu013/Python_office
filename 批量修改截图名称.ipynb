{
 "cells": [
  {
   "cell_type": "code",
   "execution_count": 26,
   "id": "c84b6b3a-07ca-4738-bce3-8c3a13b3c26b",
   "metadata": {},
   "outputs": [],
   "source": [
    "import pandas as pd\n",
    "import glob\n",
    "import os\n",
    "import zipfile\n",
    "import shutil"
   ]
  },
  {
   "cell_type": "code",
   "execution_count": 43,
   "id": "6eed87d6-06ff-477e-9732-2da885edc469",
   "metadata": {},
   "outputs": [],
   "source": [
    "#18级同学信息\n",
    "dic1={1853932: '刘佳琦', 1853280: '胡雨辰', 1853447: '苏浩文', 1851872: '李兆祥',\n",
    " 1850927: '李振铭', 1853804: '王思澄', 1852428: '刘旭东', 1850580: '赵东虎', \n",
    " 1851317: '蔡依林', 1854161: '张雪晨', 1853241: '李佳欣', 1751545: '李庆涛', \n",
    " 1852885: '马旭', 1852516: '简子涵', 1850933: '梁星', 1851923: '吕辰杰', \n",
    " 1853823: '王砚轩', 1850702: '王思涵', 1853363: '周洋', 1852544: '罗冠培', \n",
    " 1851878: '赵启晨', 1853937: '樊孟奇', 1850926: '金筱语', 1752804: '朱紫钰', \n",
    " 1853430: '孙乙月', 1852845: '孙颖聪', 1850275: '刘岳朋', 1853838: '徐子璇', \n",
    " 1850588: '蔡晋书', 1854171: '孙思薇', 1853566: '袁弋鸿', 1851179: '李晟', \n",
    " 1853699: '胡佳炜', 1851744: '叶倪瑄', 1853234: '冷帅', 1850630: '樊庶', \n",
    " 1852010: '戚美晨', 1852830: '王晨杨', 1851318: '汪芷瑶', 1851870: '丛诺', \n",
    " 1851655: '余韵婧', 1851338: '何佳萌', 1852823: '邓骞', 1750485: '马保贵'} #18级规划班全班同学信息建立字典\n",
    "name_list = list(dic1.values()) #获得所有姓名\n",
    "xuehao_list = list(dic1.keys()) #获得所有学号\n",
    "dic2 = {i:j for j, i in dic1.items()}#18级规划班全班同学信息建立反向字典\n",
    "dic_gender = {1750485: '男',1751545: '男',1752804: '女',1850275: '男',1850580: '男',\n",
    " 1850588: '男',1850630: '女',1850702: '女',1850926: '女',1850927: '男',1850933: '男',\n",
    " 1851179: '男',1851317: '女',1851318: '女',1851338: '女',1851655: '女',1851744: '女',\n",
    " 1851870: '女',1851872: '男',1851878: '男',1851923: '男',1852010: '女',1852428: '男',1852516: '男',1852544: '男',1852823: '男',1852830: '女',1852845: '女',1852885: '男',\n",
    " 1853234: '男',1853241: '女',1853280: '女',1853363: '男',1853430: '女',1853447: '男',1853566: '女',1853699: '男',1853804: '男',1853823: '男',\n",
    " 1853838: '女',1853932: '男',1853937: '男',1854161: '女',1854171: '女'}#性别信息"
   ]
  },
  {
   "cell_type": "code",
   "execution_count": 28,
   "id": "f48f1bab-7630-4700-9cd2-aff02d973f82",
   "metadata": {
    "tags": []
   },
   "outputs": [],
   "source": [
    "def un_zip(file_name):  #解压zip文件\n",
    "    \"\"\"unzip zip file\"\"\"\n",
    "    zip_file = zipfile.ZipFile(file_name)\n",
    "    if os.path.isdir(file_name + \"_files\"):\n",
    "        pass\n",
    "    else:\n",
    "        os.mkdir(file_name + \"_files\")\n",
    "    for names in zip_file.namelist():\n",
    "        zip_file.extract(names,file_name + \"_files/\")\n",
    "    zip_file.close()\n",
    "def class_create(filepath):#对男女截图进行分类，按照性别创建文件夹\n",
    "    #男生\n",
    "    if os.path.isdir(os.path.join(filepath ,\"男生\")):\n",
    "        pass\n",
    "    else:\n",
    "        os.mkdir(os.path.join(filepath ,\"男生\"))\n",
    "    #女生\n",
    "    if os.path.isdir(os.path.join(filepath ,\"女生\")):\n",
    "        pass\n",
    "    else:\n",
    "        os.mkdir(os.path.join(filepath ,\"女生\"))"
   ]
  },
  {
   "cell_type": "code",
   "execution_count": 29,
   "id": "5ce56846-9f74-4a58-a46e-f0d8707c5dd4",
   "metadata": {},
   "outputs": [],
   "source": [
    "def get_name(list_name):\n",
    "    m = -1\n",
    "    for i in range(len(list_name)):\n",
    "        if list_name[i] == '_':\n",
    "            m = i\n",
    "            break\n",
    "    return list_name[:m]"
   ]
  },
  {
   "cell_type": "code",
   "execution_count": 34,
   "id": "4cef067d-5bd1-44ff-8963-35996dc42992",
   "metadata": {},
   "outputs": [],
   "source": [
    "date = '0405'\n",
    "filepath = r'C:\\Users\\刘佳琦\\Desktop\\18交规班'+date+'核酸检测\\采样截图'\n",
    "filepath2 = r'C:\\Users\\刘佳琦\\Desktop\\18交规班'+date+'核酸检测\\核酸检测结果截图'"
   ]
  },
  {
   "cell_type": "code",
   "execution_count": 31,
   "id": "bef00a6e-1504-4cea-ad0b-1ba939c479e6",
   "metadata": {},
   "outputs": [],
   "source": [
    "status = 'caiyang'\n",
    "if status == 'caiyang':\n",
    "    filepath = filepath\n",
    "else:\n",
    "    filepath = filepath2"
   ]
  },
  {
   "cell_type": "code",
   "execution_count": 35,
   "id": "06189230-b60b-4152-b085-08d38a742b89",
   "metadata": {
    "tags": []
   },
   "outputs": [],
   "source": [
    "#step1 解压文件\n",
    "\n",
    "zip_list = []  #压缩包路径\n",
    "useless_floder = []\n",
    "for zip_name in os.listdir(filepath):\n",
    "    zip_path = filepath + os.sep + zip_name\n",
    "    zip_list.append(zip_path)\n",
    "    useless_floder.append(zip_path)\n",
    "    un_zip(zip_path)#解压压缩包\n",
    "# for zip_path in zip_list:\n",
    "#     os.remove(zip_path)#删除压缩包\n",
    "# print(os.listdir(filepath))\n",
    "#step2 获得所有照片的路径，并将无用文件夹记录\n",
    "pic_list = []\n",
    "for file_a in os.listdir(filepath):\n",
    "    file_a_all = filepath + os.sep +file_a\n",
    "    if file_a_all not in zip_list:\n",
    "        useless_floder.append(file_a_all)\n",
    "        for file_b in os.listdir(file_a_all):\n",
    "            file_b_all = file_a_all + os.sep +file_b\n",
    "            for file_pic in os.listdir(file_b_all):\n",
    "                file_pic_all = file_b_all + os.sep + file_pic\n",
    "                # print(file_pic_all)\n",
    "                pic_list.append(file_pic_all)\n",
    "for pic_ori in pic_list:\n",
    "    des_path = filepath\n",
    "    shutil.move(pic_ori,des_path)  #移动文件到目标路径\n",
    "#删除无用文件夹\n",
    "# for useless_file in useless_floder:\n",
    "#     os.remove(useless_file)"
   ]
  },
  {
   "cell_type": "code",
   "execution_count": 36,
   "id": "71f970ce-f3e6-49d5-a784-194bcdf414cd",
   "metadata": {
    "tags": []
   },
   "outputs": [],
   "source": [
    "#采样结果重命名\n",
    "list_names = []\n",
    "for list_name in os.listdir(filepath):    #用os库查看该文件目录下所有的文件名称\n",
    "    file_path_all = filepath + os.sep + list_name\n",
    "    if file_path_all not in useless_floder:\n",
    "        list_names.append(list_name)\n",
    "        name = get_name(list_name)\n",
    "        xuehao = str(dic2[name])\n",
    "        # print(name,xuehao)\n",
    "        # print(list_name)\n",
    "        path_pic = os.listdir(filepath+ os.sep + list_name)[0]  #获得图片路径\n",
    "        #设置旧文件名（就是路径+文件名）\n",
    "        oldname =  filepath + os.sep + list_name + os.sep + path_pic # os.sep添加系统分隔符\n",
    "\n",
    "        #设置新文件名\n",
    "        file_caiyang = filepath + os.sep + xuehao+name+'采样截图.jpg'\n",
    "        # file_result = filepath + os.sep + xuehao+name+'核酸检测阴性截图.jpg'\n",
    "\n",
    "        # print(oldname,file_caiyang)\n",
    "        os.rename(oldname,file_caiyang)   #用os模块中的rename方法对文件改名  对采样截图重新命名\n",
    "    "
   ]
  },
  {
   "cell_type": "code",
   "execution_count": 22,
   "id": "49a3c05c-ebc2-4d8d-b30c-92aa7b4bf53a",
   "metadata": {},
   "outputs": [
    {
     "data": {
      "text/plain": [
       "'C:\\\\Users\\\\刘佳琦\\\\Desktop\\\\18交规班0406核酸检测\\\\采样截图\\\\男生'"
      ]
     },
     "execution_count": 22,
     "metadata": {},
     "output_type": "execute_result"
    }
   ],
   "source": [
    "os.path.join(filepath ,\"男生\")"
   ]
  },
  {
   "cell_type": "code",
   "execution_count": 47,
   "id": "3882111e-500a-46f0-a57b-9cb8649bb7e2",
   "metadata": {},
   "outputs": [],
   "source": [
    "filepath = r'C:\\Users\\刘佳琦\\Desktop\\18交规班'+date+'核酸检测\\采样截图'\n",
    "class_create(filepath)\n",
    "#将截图按照性别移动至对应文件夹\n",
    "for file in os.listdir(filepath):\n",
    "    if file[0] == '1':\n",
    "        file_all = os.path.join(filepath,file)\n",
    "        if dic_gender[int(file[0:7])] == '男':\n",
    "            des_path = os.path.join(filepath,\"男生\")\n",
    "        elif dic_gender[int(file[0:7])] == '女':\n",
    "            des_path = os.path.join(filepath,\"女生\")\n",
    "        shutil.move(file_all,des_path)"
   ]
  },
  {
   "cell_type": "code",
   "execution_count": 41,
   "id": "d0d647d0-d2ef-4531-831d-2af3556473fa",
   "metadata": {},
   "outputs": [
    {
     "data": {
      "text/plain": [
       "175048"
      ]
     },
     "execution_count": 41,
     "metadata": {},
     "output_type": "execute_result"
    }
   ],
   "source": []
  },
  {
   "cell_type": "code",
   "execution_count": 46,
   "id": "d1a4b24b-6aa0-43d7-b25b-cffeb366feb0",
   "metadata": {},
   "outputs": [
    {
     "data": {
      "text/plain": [
       "'男'"
      ]
     },
     "execution_count": 46,
     "metadata": {},
     "output_type": "execute_result"
    }
   ],
   "source": [
    "dic_gender[int('1750485')]"
   ]
  },
  {
   "cell_type": "code",
   "execution_count": 55,
   "id": "b4cfa5f8-4cb1-45b9-972d-f1f45b1f2477",
   "metadata": {},
   "outputs": [],
   "source": [
    "#核酸检测结果重命名\n",
    "list_names = []\n",
    "for list_name in os.listdir(filepath2):    #用os库查看该文件目录下所有的文件名称\n",
    "    file_path_all = filepath + os.sep + list_name\n",
    "    if file_path_all not in useless_floder:\n",
    "        list_names.append(list_name)\n",
    "        name = get_name(list_name)\n",
    "        xuehao = str(dic2[name])\n",
    "        # print(name,xuehao)\n",
    "        # print(list_name)\n",
    "        path_pic = os.listdir(filepath2+ os.sep + list_name)[0]  #获得图片路径\n",
    "        #设置旧文件名（就是路径+文件名）\n",
    "        oldname =  filepath2 + os.sep + list_name + os.sep + path_pic # os.sep添加系统分隔符\n",
    "\n",
    "        #设置新文件名\n",
    "        file_result = filepath2 + os.sep + xuehao+'_'+name+'_'+'核酸检测阴性截图.jpg'\n",
    "\n",
    "        # print(oldname,file_result)\n",
    "        os.rename(oldname,file_result)   #用os模块中的rename方法对文件改名  对核酸检测结果重新命名\n",
    "    "
   ]
  },
  {
   "cell_type": "code",
   "execution_count": null,
   "id": "9792fe6d-83f8-409b-8588-c6cb1490eb43",
   "metadata": {},
   "outputs": [],
   "source": [
    "#需要加入自动解压缩包、自动删除多余文件夹的功能"
   ]
  },
  {
   "cell_type": "code",
   "execution_count": 3,
   "id": "96f87946-14fe-4222-940c-8feca9bcd873",
   "metadata": {},
   "outputs": [],
   "source": []
  },
  {
   "cell_type": "code",
   "execution_count": 41,
   "id": "1d657a55-e847-4141-bcba-7e1835b45bf3",
   "metadata": {
    "collapsed": true,
    "jupyter": {
     "outputs_hidden": true
    },
    "tags": []
   },
   "outputs": [
    {
     "name": "stdout",
     "output_type": "stream",
     "text": [
      "C:\\Users\\刘佳琦\\Desktop\\18交规班0405核酸检测\\核酸检测结果截图\\62373f5e63426d7fcda4a9b6_1_1.zip_files\\任务14_0405核酸检测结果截图上传\\何佳萌_29_odVL41Bi7zpc38kdEasw2Zgc0skk\n",
      "C:\\Users\\刘佳琦\\Desktop\\18交规班0405核酸检测\\核酸检测结果截图\\62373f5e63426d7fcda4a9b6_1_1.zip_files\\任务14_0405核酸检测结果截图上传\\刘旭东_38_odVL41NuuvvGZHkQDMnWLWh-bOhA\n",
      "C:\\Users\\刘佳琦\\Desktop\\18交规班0405核酸检测\\核酸检测结果截图\\62373f5e63426d7fcda4a9b6_1_1.zip_files\\任务14_0405核酸检测结果截图上传\\吕辰杰_5_odVL41Addi3LlRmxg0BhT4LfCMMk\n",
      "C:\\Users\\刘佳琦\\Desktop\\18交规班0405核酸检测\\核酸检测结果截图\\62373f5e63426d7fcda4a9b6_1_1.zip_files\\任务14_0405核酸检测结果截图上传\\孙思薇_20_odVL41OA23NTpxEcT3TMqivRE_18\n",
      "C:\\Users\\刘佳琦\\Desktop\\18交规班0405核酸检测\\核酸检测结果截图\\62373f5e63426d7fcda4a9b6_1_1.zip_files\\任务14_0405核酸检测结果截图上传\\孙颖聪_13_odVL41BEZLOyQErQNx2EhAW3ltq0\n",
      "C:\\Users\\刘佳琦\\Desktop\\18交规班0405核酸检测\\核酸检测结果截图\\62373f5e63426d7fcda4a9b6_1_1.zip_files\\任务14_0405核酸检测结果截图上传\\张雪晨_39_odVL41OCipiLH6Xjro1Jhrofzk0E\n",
      "C:\\Users\\刘佳琦\\Desktop\\18交规班0405核酸检测\\核酸检测结果截图\\62373f5e63426d7fcda4a9b6_1_1.zip_files\\任务14_0405核酸检测结果截图上传\\徐子璇_40_odVL41ICELI_1DO02rVT-CtLk12U\n",
      "C:\\Users\\刘佳琦\\Desktop\\18交规班0405核酸检测\\核酸检测结果截图\\62373f5e63426d7fcda4a9b6_1_1.zip_files\\任务14_0405核酸检测结果截图上传\\戚美晨_12_odVL41Go_90pLy-55WLGuQyvZ7hY\n",
      "C:\\Users\\刘佳琦\\Desktop\\18交规班0405核酸检测\\核酸检测结果截图\\62373f5e63426d7fcda4a9b6_1_1.zip_files\\任务14_0405核酸检测结果截图上传\\李兆祥_24_odVL41H9S1a7JkLabCuZRB_epwlU\n",
      "C:\\Users\\刘佳琦\\Desktop\\18交规班0405核酸检测\\核酸检测结果截图\\62373f5e63426d7fcda4a9b6_1_1.zip_files\\任务14_0405核酸检测结果截图上传\\李振铭_23_odVL41Gh28rjk-AVYQRJ5tzEPdN8\n",
      "C:\\Users\\刘佳琦\\Desktop\\18交规班0405核酸检测\\核酸检测结果截图\\62373f5e63426d7fcda4a9b6_1_1.zip_files\\任务14_0405核酸检测结果截图上传\\李晟_43_odVL41Gf_Yl8HoUE3EtdSc4FlqZk\n",
      "C:\\Users\\刘佳琦\\Desktop\\18交规班0405核酸检测\\核酸检测结果截图\\62373f5e63426d7fcda4a9b6_1_1.zip_files\\任务14_0405核酸检测结果截图上传\\樊庶_19_odVL41Ciq8twIIxNNYhSXnPq6vzU\n",
      "C:\\Users\\刘佳琦\\Desktop\\18交规班0405核酸检测\\核酸检测结果截图\\62373f5e63426d7fcda4a9b6_1_1.zip_files\\任务14_0405核酸检测结果截图上传\\罗冠培_22_odVL41FoRc6NjpDvrB-i6Jo0Tf0U\n",
      "C:\\Users\\刘佳琦\\Desktop\\18交规班0405核酸检测\\核酸检测结果截图\\62373f5e63426d7fcda4a9b6_1_1.zip_files\\任务14_0405核酸检测结果截图上传\\苏浩文_27_odVL41KYie-hyneYroA3hUZ3uMmA\n",
      "C:\\Users\\刘佳琦\\Desktop\\18交规班0405核酸检测\\核酸检测结果截图\\62373f5e63426d7fcda4a9b6_1_1.zip_files\\任务14_0405核酸检测结果截图上传\\蔡依林_8_odVL41BbxXP9NR-6mnEt56nnq9QQ\n",
      "C:\\Users\\刘佳琦\\Desktop\\18交规班0405核酸检测\\核酸检测结果截图\\62373f5e63426d7fcda4a9b6_1_1.zip_files\\任务14_0405核酸检测结果截图上传\\蔡晋书_32_odVL41ACfslUBptlKmSSumZiRaIA\n",
      "C:\\Users\\刘佳琦\\Desktop\\18交规班0405核酸检测\\核酸检测结果截图\\62373f5e63426d7fcda4a9b6_1_1.zip_files\\任务14_0405核酸检测结果截图上传\\赵东虎_37_odVL41AcaRgmVq4TSvBtfCkXVY3o\n",
      "C:\\Users\\刘佳琦\\Desktop\\18交规班0405核酸检测\\核酸检测结果截图\\62373f5e63426d7fcda4a9b6_1_1.zip_files\\任务14_0405核酸检测结果截图上传\\金筱语_10_odVL41DM9Fnqx8ZxDEsawVl_YgVI\n",
      "C:\\Users\\刘佳琦\\Desktop\\18交规班0405核酸检测\\核酸检测结果截图\\62373f5e63426d7fcda4a9b6_1_1.zip_files\\任务14_0405核酸检测结果截图上传\\马保贵_36_odVL41MoGlNtenEqoNX_d70yLBG8\n",
      "C:\\Users\\刘佳琦\\Desktop\\18交规班0405核酸检测\\核酸检测结果截图\\62373f5e63426d7fcda4a9b6_1_1.zip_files\\任务14_0405核酸检测结果截图上传\\马旭_21_odVL41ErsUCH85MK159D4fsMlyOE\n",
      "C:\\Users\\刘佳琦\\Desktop\\18交规班0405核酸检测\\核酸检测结果截图\\62373f5e63426d7fcda4a9b6_1_2.zip_files\\任务14_0405核酸检测结果截图上传\\丛诺_28_odVL41LAEWy7I06cUgqiyiHzqrY0\n",
      "C:\\Users\\刘佳琦\\Desktop\\18交规班0405核酸检测\\核酸检测结果截图\\62373f5e63426d7fcda4a9b6_1_2.zip_files\\任务14_0405核酸检测结果截图上传\\余韵婧_33_odVL41Ieu1j-GNSRboPX74MldWDo\n",
      "C:\\Users\\刘佳琦\\Desktop\\18交规班0405核酸检测\\核酸检测结果截图\\62373f5e63426d7fcda4a9b6_1_2.zip_files\\任务14_0405核酸检测结果截图上传\\冷帅_14_odVL41J2Zy30PuW9n9Wyr4d5Jce4\n",
      "C:\\Users\\刘佳琦\\Desktop\\18交规班0405核酸检测\\核酸检测结果截图\\62373f5e63426d7fcda4a9b6_1_2.zip_files\\任务14_0405核酸检测结果截图上传\\刘佳琦_2_odVL41MRcusZfle1KbSVq452cEiw\n",
      "C:\\Users\\刘佳琦\\Desktop\\18交规班0405核酸检测\\核酸检测结果截图\\62373f5e63426d7fcda4a9b6_1_2.zip_files\\任务14_0405核酸检测结果截图上传\\刘岳朋_7_odVL41IoM1UKGvIKloRc2e29EOLY\n",
      "C:\\Users\\刘佳琦\\Desktop\\18交规班0405核酸检测\\核酸检测结果截图\\62373f5e63426d7fcda4a9b6_1_2.zip_files\\任务14_0405核酸检测结果截图上传\\叶倪瑄_15_odVL41F7WwFxOtRKt_c7gmeCtIU4\n",
      "C:\\Users\\刘佳琦\\Desktop\\18交规班0405核酸检测\\核酸检测结果截图\\62373f5e63426d7fcda4a9b6_1_2.zip_files\\任务14_0405核酸检测结果截图上传\\周洋_42_odVL41GpBUM2Bu2A2LQgQxzqvVa4\n",
      "C:\\Users\\刘佳琦\\Desktop\\18交规班0405核酸检测\\核酸检测结果截图\\62373f5e63426d7fcda4a9b6_1_2.zip_files\\任务14_0405核酸检测结果截图上传\\朱紫钰_41_odVL41H_30u7zttNXAIoQ1x2ypmQ\n",
      "C:\\Users\\刘佳琦\\Desktop\\18交规班0405核酸检测\\核酸检测结果截图\\62373f5e63426d7fcda4a9b6_1_2.zip_files\\任务14_0405核酸检测结果截图上传\\李佳欣_9_odVL41EnmbM0mEP9cpngeOgdyw7A\n",
      "C:\\Users\\刘佳琦\\Desktop\\18交规班0405核酸检测\\核酸检测结果截图\\62373f5e63426d7fcda4a9b6_1_2.zip_files\\任务14_0405核酸检测结果截图上传\\李庆涛_3_odVL41HrZJ-k2RocUrXR2C3omBX0\n",
      "C:\\Users\\刘佳琦\\Desktop\\18交规班0405核酸检测\\核酸检测结果截图\\62373f5e63426d7fcda4a9b6_1_2.zip_files\\任务14_0405核酸检测结果截图上传\\樊孟奇_17_odVL41A245SjJjNXjq-88_6xIRtQ\n",
      "C:\\Users\\刘佳琦\\Desktop\\18交规班0405核酸检测\\核酸检测结果截图\\62373f5e63426d7fcda4a9b6_1_2.zip_files\\任务14_0405核酸检测结果截图上传\\王思涵_25_odVL41KokPNE1dM0C2saGHGkRURU\n",
      "C:\\Users\\刘佳琦\\Desktop\\18交规班0405核酸检测\\核酸检测结果截图\\62373f5e63426d7fcda4a9b6_1_2.zip_files\\任务14_0405核酸检测结果截图上传\\王思澄_6_odVL41A7DxKeVCCe8iMPztWwpH-g\n",
      "C:\\Users\\刘佳琦\\Desktop\\18交规班0405核酸检测\\核酸检测结果截图\\62373f5e63426d7fcda4a9b6_1_2.zip_files\\任务14_0405核酸检测结果截图上传\\王晨杨_16_odVL41GW8K4gFeCREbFrz8cAUojg\n",
      "C:\\Users\\刘佳琦\\Desktop\\18交规班0405核酸检测\\核酸检测结果截图\\62373f5e63426d7fcda4a9b6_1_2.zip_files\\任务14_0405核酸检测结果截图上传\\简子涵_31_odVL41AIu3CyqCqgBOcmOrr38PVw\n",
      "C:\\Users\\刘佳琦\\Desktop\\18交规班0405核酸检测\\核酸检测结果截图\\62373f5e63426d7fcda4a9b6_1_2.zip_files\\任务14_0405核酸检测结果截图上传\\胡佳炜_18_odVL41LBZjy6VmORHJSVL3PalFdk\n",
      "C:\\Users\\刘佳琦\\Desktop\\18交规班0405核酸检测\\核酸检测结果截图\\62373f5e63426d7fcda4a9b6_1_2.zip_files\\任务14_0405核酸检测结果截图上传\\胡雨辰_11_odVL41MSGpnyWOhMP7te1ooFznc0\n",
      "C:\\Users\\刘佳琦\\Desktop\\18交规班0405核酸检测\\核酸检测结果截图\\62373f5e63426d7fcda4a9b6_1_2.zip_files\\任务14_0405核酸检测结果截图上传\\袁弋鸿_30_odVL41D7_u4r81HaiSsjeHvftZgk\n",
      "C:\\Users\\刘佳琦\\Desktop\\18交规班0405核酸检测\\核酸检测结果截图\\62373f5e63426d7fcda4a9b6_1_2.zip_files\\任务14_0405核酸检测结果截图上传\\赵启晨_34_odVL41BRZNer00ZudE2GxEE5MIoI\n",
      "C:\\Users\\刘佳琦\\Desktop\\18交规班0405核酸检测\\核酸检测结果截图\\62373f5e63426d7fcda4a9b6_1_2.zip_files\\任务14_0405核酸检测结果截图上传\\邓骞_35_odVL41AHhSDmEjQGwysQYNL1giI4\n",
      "C:\\Users\\刘佳琦\\Desktop\\18交规班0405核酸检测\\核酸检测结果截图\\62373f5e63426d7fcda4a9b6_1_3.zip_files\\任务14_0405核酸检测结果截图上传\\梁星_4_odVL41M5f3oGKPF9wKVMotVYBPnU\n",
      "C:\\Users\\刘佳琦\\Desktop\\18交规班0405核酸检测\\核酸检测结果截图\\62373f5e63426d7fcda4a9b6_1_3.zip_files\\任务14_0405核酸检测结果截图上传\\王砚轩_26_odVL41NY_Y2f2XhtqrW-ERNk5m9M\n"
     ]
    }
   ],
   "source": []
  },
  {
   "cell_type": "code",
   "execution_count": 42,
   "id": "4d130723-939a-46dc-a179-c5bf7959b9bc",
   "metadata": {
    "collapsed": true,
    "jupyter": {
     "outputs_hidden": true
    },
    "tags": []
   },
   "outputs": [
    {
     "data": {
      "text/plain": [
       "['C:\\\\Users\\\\刘佳琦\\\\Desktop\\\\18交规班0405核酸检测\\\\核酸检测结果截图\\\\62373f5e63426d7fcda4a9b6_1_1.zip_files\\\\任务14_0405核酸检测结果截图上传\\\\何佳萌_29_odVL41Bi7zpc38kdEasw2Zgc0skk',\n",
       " 'C:\\\\Users\\\\刘佳琦\\\\Desktop\\\\18交规班0405核酸检测\\\\核酸检测结果截图\\\\62373f5e63426d7fcda4a9b6_1_1.zip_files\\\\任务14_0405核酸检测结果截图上传\\\\刘旭东_38_odVL41NuuvvGZHkQDMnWLWh-bOhA',\n",
       " 'C:\\\\Users\\\\刘佳琦\\\\Desktop\\\\18交规班0405核酸检测\\\\核酸检测结果截图\\\\62373f5e63426d7fcda4a9b6_1_1.zip_files\\\\任务14_0405核酸检测结果截图上传\\\\吕辰杰_5_odVL41Addi3LlRmxg0BhT4LfCMMk',\n",
       " 'C:\\\\Users\\\\刘佳琦\\\\Desktop\\\\18交规班0405核酸检测\\\\核酸检测结果截图\\\\62373f5e63426d7fcda4a9b6_1_1.zip_files\\\\任务14_0405核酸检测结果截图上传\\\\孙思薇_20_odVL41OA23NTpxEcT3TMqivRE_18',\n",
       " 'C:\\\\Users\\\\刘佳琦\\\\Desktop\\\\18交规班0405核酸检测\\\\核酸检测结果截图\\\\62373f5e63426d7fcda4a9b6_1_1.zip_files\\\\任务14_0405核酸检测结果截图上传\\\\孙颖聪_13_odVL41BEZLOyQErQNx2EhAW3ltq0',\n",
       " 'C:\\\\Users\\\\刘佳琦\\\\Desktop\\\\18交规班0405核酸检测\\\\核酸检测结果截图\\\\62373f5e63426d7fcda4a9b6_1_1.zip_files\\\\任务14_0405核酸检测结果截图上传\\\\张雪晨_39_odVL41OCipiLH6Xjro1Jhrofzk0E',\n",
       " 'C:\\\\Users\\\\刘佳琦\\\\Desktop\\\\18交规班0405核酸检测\\\\核酸检测结果截图\\\\62373f5e63426d7fcda4a9b6_1_1.zip_files\\\\任务14_0405核酸检测结果截图上传\\\\徐子璇_40_odVL41ICELI_1DO02rVT-CtLk12U',\n",
       " 'C:\\\\Users\\\\刘佳琦\\\\Desktop\\\\18交规班0405核酸检测\\\\核酸检测结果截图\\\\62373f5e63426d7fcda4a9b6_1_1.zip_files\\\\任务14_0405核酸检测结果截图上传\\\\戚美晨_12_odVL41Go_90pLy-55WLGuQyvZ7hY',\n",
       " 'C:\\\\Users\\\\刘佳琦\\\\Desktop\\\\18交规班0405核酸检测\\\\核酸检测结果截图\\\\62373f5e63426d7fcda4a9b6_1_1.zip_files\\\\任务14_0405核酸检测结果截图上传\\\\李兆祥_24_odVL41H9S1a7JkLabCuZRB_epwlU',\n",
       " 'C:\\\\Users\\\\刘佳琦\\\\Desktop\\\\18交规班0405核酸检测\\\\核酸检测结果截图\\\\62373f5e63426d7fcda4a9b6_1_1.zip_files\\\\任务14_0405核酸检测结果截图上传\\\\李振铭_23_odVL41Gh28rjk-AVYQRJ5tzEPdN8',\n",
       " 'C:\\\\Users\\\\刘佳琦\\\\Desktop\\\\18交规班0405核酸检测\\\\核酸检测结果截图\\\\62373f5e63426d7fcda4a9b6_1_1.zip_files\\\\任务14_0405核酸检测结果截图上传\\\\李晟_43_odVL41Gf_Yl8HoUE3EtdSc4FlqZk',\n",
       " 'C:\\\\Users\\\\刘佳琦\\\\Desktop\\\\18交规班0405核酸检测\\\\核酸检测结果截图\\\\62373f5e63426d7fcda4a9b6_1_1.zip_files\\\\任务14_0405核酸检测结果截图上传\\\\樊庶_19_odVL41Ciq8twIIxNNYhSXnPq6vzU',\n",
       " 'C:\\\\Users\\\\刘佳琦\\\\Desktop\\\\18交规班0405核酸检测\\\\核酸检测结果截图\\\\62373f5e63426d7fcda4a9b6_1_1.zip_files\\\\任务14_0405核酸检测结果截图上传\\\\罗冠培_22_odVL41FoRc6NjpDvrB-i6Jo0Tf0U',\n",
       " 'C:\\\\Users\\\\刘佳琦\\\\Desktop\\\\18交规班0405核酸检测\\\\核酸检测结果截图\\\\62373f5e63426d7fcda4a9b6_1_1.zip_files\\\\任务14_0405核酸检测结果截图上传\\\\苏浩文_27_odVL41KYie-hyneYroA3hUZ3uMmA',\n",
       " 'C:\\\\Users\\\\刘佳琦\\\\Desktop\\\\18交规班0405核酸检测\\\\核酸检测结果截图\\\\62373f5e63426d7fcda4a9b6_1_1.zip_files\\\\任务14_0405核酸检测结果截图上传\\\\蔡依林_8_odVL41BbxXP9NR-6mnEt56nnq9QQ',\n",
       " 'C:\\\\Users\\\\刘佳琦\\\\Desktop\\\\18交规班0405核酸检测\\\\核酸检测结果截图\\\\62373f5e63426d7fcda4a9b6_1_1.zip_files\\\\任务14_0405核酸检测结果截图上传\\\\蔡晋书_32_odVL41ACfslUBptlKmSSumZiRaIA',\n",
       " 'C:\\\\Users\\\\刘佳琦\\\\Desktop\\\\18交规班0405核酸检测\\\\核酸检测结果截图\\\\62373f5e63426d7fcda4a9b6_1_1.zip_files\\\\任务14_0405核酸检测结果截图上传\\\\赵东虎_37_odVL41AcaRgmVq4TSvBtfCkXVY3o',\n",
       " 'C:\\\\Users\\\\刘佳琦\\\\Desktop\\\\18交规班0405核酸检测\\\\核酸检测结果截图\\\\62373f5e63426d7fcda4a9b6_1_1.zip_files\\\\任务14_0405核酸检测结果截图上传\\\\金筱语_10_odVL41DM9Fnqx8ZxDEsawVl_YgVI',\n",
       " 'C:\\\\Users\\\\刘佳琦\\\\Desktop\\\\18交规班0405核酸检测\\\\核酸检测结果截图\\\\62373f5e63426d7fcda4a9b6_1_1.zip_files\\\\任务14_0405核酸检测结果截图上传\\\\马保贵_36_odVL41MoGlNtenEqoNX_d70yLBG8',\n",
       " 'C:\\\\Users\\\\刘佳琦\\\\Desktop\\\\18交规班0405核酸检测\\\\核酸检测结果截图\\\\62373f5e63426d7fcda4a9b6_1_1.zip_files\\\\任务14_0405核酸检测结果截图上传\\\\马旭_21_odVL41ErsUCH85MK159D4fsMlyOE',\n",
       " 'C:\\\\Users\\\\刘佳琦\\\\Desktop\\\\18交规班0405核酸检测\\\\核酸检测结果截图\\\\62373f5e63426d7fcda4a9b6_1_2.zip_files\\\\任务14_0405核酸检测结果截图上传\\\\丛诺_28_odVL41LAEWy7I06cUgqiyiHzqrY0',\n",
       " 'C:\\\\Users\\\\刘佳琦\\\\Desktop\\\\18交规班0405核酸检测\\\\核酸检测结果截图\\\\62373f5e63426d7fcda4a9b6_1_2.zip_files\\\\任务14_0405核酸检测结果截图上传\\\\余韵婧_33_odVL41Ieu1j-GNSRboPX74MldWDo',\n",
       " 'C:\\\\Users\\\\刘佳琦\\\\Desktop\\\\18交规班0405核酸检测\\\\核酸检测结果截图\\\\62373f5e63426d7fcda4a9b6_1_2.zip_files\\\\任务14_0405核酸检测结果截图上传\\\\冷帅_14_odVL41J2Zy30PuW9n9Wyr4d5Jce4',\n",
       " 'C:\\\\Users\\\\刘佳琦\\\\Desktop\\\\18交规班0405核酸检测\\\\核酸检测结果截图\\\\62373f5e63426d7fcda4a9b6_1_2.zip_files\\\\任务14_0405核酸检测结果截图上传\\\\刘佳琦_2_odVL41MRcusZfle1KbSVq452cEiw',\n",
       " 'C:\\\\Users\\\\刘佳琦\\\\Desktop\\\\18交规班0405核酸检测\\\\核酸检测结果截图\\\\62373f5e63426d7fcda4a9b6_1_2.zip_files\\\\任务14_0405核酸检测结果截图上传\\\\刘岳朋_7_odVL41IoM1UKGvIKloRc2e29EOLY',\n",
       " 'C:\\\\Users\\\\刘佳琦\\\\Desktop\\\\18交规班0405核酸检测\\\\核酸检测结果截图\\\\62373f5e63426d7fcda4a9b6_1_2.zip_files\\\\任务14_0405核酸检测结果截图上传\\\\叶倪瑄_15_odVL41F7WwFxOtRKt_c7gmeCtIU4',\n",
       " 'C:\\\\Users\\\\刘佳琦\\\\Desktop\\\\18交规班0405核酸检测\\\\核酸检测结果截图\\\\62373f5e63426d7fcda4a9b6_1_2.zip_files\\\\任务14_0405核酸检测结果截图上传\\\\周洋_42_odVL41GpBUM2Bu2A2LQgQxzqvVa4',\n",
       " 'C:\\\\Users\\\\刘佳琦\\\\Desktop\\\\18交规班0405核酸检测\\\\核酸检测结果截图\\\\62373f5e63426d7fcda4a9b6_1_2.zip_files\\\\任务14_0405核酸检测结果截图上传\\\\朱紫钰_41_odVL41H_30u7zttNXAIoQ1x2ypmQ',\n",
       " 'C:\\\\Users\\\\刘佳琦\\\\Desktop\\\\18交规班0405核酸检测\\\\核酸检测结果截图\\\\62373f5e63426d7fcda4a9b6_1_2.zip_files\\\\任务14_0405核酸检测结果截图上传\\\\李佳欣_9_odVL41EnmbM0mEP9cpngeOgdyw7A',\n",
       " 'C:\\\\Users\\\\刘佳琦\\\\Desktop\\\\18交规班0405核酸检测\\\\核酸检测结果截图\\\\62373f5e63426d7fcda4a9b6_1_2.zip_files\\\\任务14_0405核酸检测结果截图上传\\\\李庆涛_3_odVL41HrZJ-k2RocUrXR2C3omBX0',\n",
       " 'C:\\\\Users\\\\刘佳琦\\\\Desktop\\\\18交规班0405核酸检测\\\\核酸检测结果截图\\\\62373f5e63426d7fcda4a9b6_1_2.zip_files\\\\任务14_0405核酸检测结果截图上传\\\\樊孟奇_17_odVL41A245SjJjNXjq-88_6xIRtQ',\n",
       " 'C:\\\\Users\\\\刘佳琦\\\\Desktop\\\\18交规班0405核酸检测\\\\核酸检测结果截图\\\\62373f5e63426d7fcda4a9b6_1_2.zip_files\\\\任务14_0405核酸检测结果截图上传\\\\王思涵_25_odVL41KokPNE1dM0C2saGHGkRURU',\n",
       " 'C:\\\\Users\\\\刘佳琦\\\\Desktop\\\\18交规班0405核酸检测\\\\核酸检测结果截图\\\\62373f5e63426d7fcda4a9b6_1_2.zip_files\\\\任务14_0405核酸检测结果截图上传\\\\王思澄_6_odVL41A7DxKeVCCe8iMPztWwpH-g',\n",
       " 'C:\\\\Users\\\\刘佳琦\\\\Desktop\\\\18交规班0405核酸检测\\\\核酸检测结果截图\\\\62373f5e63426d7fcda4a9b6_1_2.zip_files\\\\任务14_0405核酸检测结果截图上传\\\\王晨杨_16_odVL41GW8K4gFeCREbFrz8cAUojg',\n",
       " 'C:\\\\Users\\\\刘佳琦\\\\Desktop\\\\18交规班0405核酸检测\\\\核酸检测结果截图\\\\62373f5e63426d7fcda4a9b6_1_2.zip_files\\\\任务14_0405核酸检测结果截图上传\\\\简子涵_31_odVL41AIu3CyqCqgBOcmOrr38PVw',\n",
       " 'C:\\\\Users\\\\刘佳琦\\\\Desktop\\\\18交规班0405核酸检测\\\\核酸检测结果截图\\\\62373f5e63426d7fcda4a9b6_1_2.zip_files\\\\任务14_0405核酸检测结果截图上传\\\\胡佳炜_18_odVL41LBZjy6VmORHJSVL3PalFdk',\n",
       " 'C:\\\\Users\\\\刘佳琦\\\\Desktop\\\\18交规班0405核酸检测\\\\核酸检测结果截图\\\\62373f5e63426d7fcda4a9b6_1_2.zip_files\\\\任务14_0405核酸检测结果截图上传\\\\胡雨辰_11_odVL41MSGpnyWOhMP7te1ooFznc0',\n",
       " 'C:\\\\Users\\\\刘佳琦\\\\Desktop\\\\18交规班0405核酸检测\\\\核酸检测结果截图\\\\62373f5e63426d7fcda4a9b6_1_2.zip_files\\\\任务14_0405核酸检测结果截图上传\\\\袁弋鸿_30_odVL41D7_u4r81HaiSsjeHvftZgk',\n",
       " 'C:\\\\Users\\\\刘佳琦\\\\Desktop\\\\18交规班0405核酸检测\\\\核酸检测结果截图\\\\62373f5e63426d7fcda4a9b6_1_2.zip_files\\\\任务14_0405核酸检测结果截图上传\\\\赵启晨_34_odVL41BRZNer00ZudE2GxEE5MIoI',\n",
       " 'C:\\\\Users\\\\刘佳琦\\\\Desktop\\\\18交规班0405核酸检测\\\\核酸检测结果截图\\\\62373f5e63426d7fcda4a9b6_1_2.zip_files\\\\任务14_0405核酸检测结果截图上传\\\\邓骞_35_odVL41AHhSDmEjQGwysQYNL1giI4',\n",
       " 'C:\\\\Users\\\\刘佳琦\\\\Desktop\\\\18交规班0405核酸检测\\\\核酸检测结果截图\\\\62373f5e63426d7fcda4a9b6_1_3.zip_files\\\\任务14_0405核酸检测结果截图上传\\\\梁星_4_odVL41M5f3oGKPF9wKVMotVYBPnU',\n",
       " 'C:\\\\Users\\\\刘佳琦\\\\Desktop\\\\18交规班0405核酸检测\\\\核酸检测结果截图\\\\62373f5e63426d7fcda4a9b6_1_3.zip_files\\\\任务14_0405核酸检测结果截图上传\\\\王砚轩_26_odVL41NY_Y2f2XhtqrW-ERNk5m9M']"
      ]
     },
     "execution_count": 42,
     "metadata": {},
     "output_type": "execute_result"
    }
   ],
   "source": [
    "pic_list"
   ]
  },
  {
   "cell_type": "markdown",
   "id": "0b19661e-c3f5-4d69-a32c-8951d491e5df",
   "metadata": {},
   "source": [
    "## 获得性别等其他信息"
   ]
  },
  {
   "cell_type": "code",
   "execution_count": 11,
   "id": "3a7feab5-1254-4b10-bb03-6086667177b1",
   "metadata": {},
   "outputs": [],
   "source": [
    "#获得性别等信息\n",
    "file_info = r'D:\\desktop\\规划班工作文件\\同学信息\\18级交规班同学通讯录.xlsx'"
   ]
  },
  {
   "cell_type": "code",
   "execution_count": 13,
   "id": "7078fdbd-6139-483f-9408-a9755dfca555",
   "metadata": {},
   "outputs": [],
   "source": [
    "df = pd.read_excel(file_info)"
   ]
  },
  {
   "cell_type": "code",
   "execution_count": 14,
   "id": "ef9e9299-c176-4b23-8dfe-f771c6abe513",
   "metadata": {},
   "outputs": [
    {
     "data": {
      "text/html": [
       "<div>\n",
       "<style scoped>\n",
       "    .dataframe tbody tr th:only-of-type {\n",
       "        vertical-align: middle;\n",
       "    }\n",
       "\n",
       "    .dataframe tbody tr th {\n",
       "        vertical-align: top;\n",
       "    }\n",
       "\n",
       "    .dataframe thead th {\n",
       "        text-align: right;\n",
       "    }\n",
       "</style>\n",
       "<table border=\"1\" class=\"dataframe\">\n",
       "  <thead>\n",
       "    <tr style=\"text-align: right;\">\n",
       "      <th></th>\n",
       "      <th>序号</th>\n",
       "      <th>学号</th>\n",
       "      <th>姓名</th>\n",
       "      <th>性别</th>\n",
       "      <th>籍贯</th>\n",
       "      <th>民族</th>\n",
       "      <th>寝室号</th>\n",
       "      <th>手机号码</th>\n",
       "    </tr>\n",
       "  </thead>\n",
       "  <tbody>\n",
       "    <tr>\n",
       "      <th>0</th>\n",
       "      <td>1</td>\n",
       "      <td>1750485</td>\n",
       "      <td>马保贵</td>\n",
       "      <td>男</td>\n",
       "      <td>宁夏省固原市</td>\n",
       "      <td>回族</td>\n",
       "      <td>8-609</td>\n",
       "      <td>17795360329</td>\n",
       "    </tr>\n",
       "    <tr>\n",
       "      <th>1</th>\n",
       "      <td>2</td>\n",
       "      <td>1751545</td>\n",
       "      <td>李庆涛</td>\n",
       "      <td>男</td>\n",
       "      <td>安徽省蚌埠市</td>\n",
       "      <td>汉族</td>\n",
       "      <td>8-345</td>\n",
       "      <td>17765191367</td>\n",
       "    </tr>\n",
       "    <tr>\n",
       "      <th>2</th>\n",
       "      <td>3</td>\n",
       "      <td>1752804</td>\n",
       "      <td>朱紫钰</td>\n",
       "      <td>女</td>\n",
       "      <td>陕西省渭南市</td>\n",
       "      <td>汉族</td>\n",
       "      <td>10-610</td>\n",
       "      <td>17317812457</td>\n",
       "    </tr>\n",
       "    <tr>\n",
       "      <th>3</th>\n",
       "      <td>4</td>\n",
       "      <td>1850275</td>\n",
       "      <td>刘岳朋</td>\n",
       "      <td>男</td>\n",
       "      <td>山西省临汾市</td>\n",
       "      <td>汉族</td>\n",
       "      <td>6-402</td>\n",
       "      <td>15935709264</td>\n",
       "    </tr>\n",
       "    <tr>\n",
       "      <th>4</th>\n",
       "      <td>5</td>\n",
       "      <td>1850580</td>\n",
       "      <td>赵东虎</td>\n",
       "      <td>男</td>\n",
       "      <td>河南省南阳市</td>\n",
       "      <td>汉族</td>\n",
       "      <td>6-306</td>\n",
       "      <td>18317201101</td>\n",
       "    </tr>\n",
       "  </tbody>\n",
       "</table>\n",
       "</div>"
      ],
      "text/plain": [
       "   序号       学号   姓名 性别      籍贯  民族     寝室号         手机号码\n",
       "0   1  1750485  马保贵  男  宁夏省固原市  回族   8-609  17795360329\n",
       "1   2  1751545  李庆涛  男  安徽省蚌埠市  汉族   8-345  17765191367\n",
       "2   3  1752804  朱紫钰  女  陕西省渭南市  汉族  10-610  17317812457\n",
       "3   4  1850275  刘岳朋  男  山西省临汾市  汉族   6-402  15935709264\n",
       "4   5  1850580  赵东虎  男  河南省南阳市  汉族   6-306  18317201101"
      ]
     },
     "execution_count": 14,
     "metadata": {},
     "output_type": "execute_result"
    }
   ],
   "source": [
    "df.head()"
   ]
  },
  {
   "cell_type": "code",
   "execution_count": 16,
   "id": "d8e70b68-3009-43a8-aa93-dfd24df8105d",
   "metadata": {},
   "outputs": [],
   "source": [
    "dic_gender = {}\n",
    "for i in range(len(df)):\n",
    "    dic_gender[df['学号'].iloc[i]] = df['性别'].iloc[i]"
   ]
  },
  {
   "cell_type": "code",
   "execution_count": 18,
   "id": "a7383cec-7a17-4d13-8b39-41365cc45a17",
   "metadata": {},
   "outputs": [],
   "source": []
  },
  {
   "cell_type": "code",
   "execution_count": null,
   "id": "7f5c0ebe-24ff-4d5a-8e83-960351ef1d0a",
   "metadata": {},
   "outputs": [],
   "source": []
  }
 ],
 "metadata": {
  "kernelspec": {
   "display_name": "Python 3 (ipykernel)",
   "language": "python",
   "name": "python3"
  },
  "language_info": {
   "codemirror_mode": {
    "name": "ipython",
    "version": 3
   },
   "file_extension": ".py",
   "mimetype": "text/x-python",
   "name": "python",
   "nbconvert_exporter": "python",
   "pygments_lexer": "ipython3",
   "version": "3.9.7"
  }
 },
 "nbformat": 4,
 "nbformat_minor": 5
}
