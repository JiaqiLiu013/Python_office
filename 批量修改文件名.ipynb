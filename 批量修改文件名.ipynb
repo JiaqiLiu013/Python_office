{
 "cells": [
  {
   "cell_type": "code",
   "execution_count": 5,
   "metadata": {},
   "outputs": [],
   "source": [
    "dic1={ 1751545: '李庆涛',\n",
    "      1752804: '朱紫钰', 1850275: '刘岳朋', 1850580: '赵东虎',\n",
    "      1850588: '蔡晋书', 1850630: '樊庶', \n",
    "      1850702: '王思涵', 1850926: '金筱语', 1850927: '李振铭', \n",
    "      1850933: '梁星', 1851179: '李晟', 1851317: '蔡依林', \n",
    "      1851318: '汪芷瑶', 1851338: '何佳萌', 1851655: '余韵婧',\n",
    "      1851744: '叶倪瑄', 1851870: '丛诺', 1851872: '李兆祥', \n",
    "      1851878: '赵启晨', 1851923: '吕辰杰', 1852010: '戚美晨', \n",
    "      1852428: '刘旭东',  1852516: '简子涵', \n",
    "      1852544: '罗冠培', 1852823: '邓骞', 1852830: '王晨杨', \n",
    "      1852845: '孙颖聪', 1852885: '马旭', 1853234: '冷帅', \n",
    "      1853241: '李佳欣', 1853280: '胡雨辰',  \n",
    "      1853363: '周洋', 1853430: '孙乙月', 1853447: '苏浩文', \n",
    "      1853566: '袁弋鸿', 1853699: '胡佳炜', 1853804: '王思澄', \n",
    "      1853823: '王砚轩', 1853838: '徐子璇', 1853932: '刘佳琦', \n",
    "      1853937: '樊孟奇', 1854161: '张雪晨', 1854171: '孙思薇',\n",
    "     1851688:'施致远',1853527:'张佳伟',1853270:'马沅辰'}  #所有学生的学号+姓名构成的字典"
   ]
  },
  {
   "cell_type": "code",
   "execution_count": 6,
   "metadata": {},
   "outputs": [
    {
     "name": "stdout",
     "output_type": "stream",
     "text": [
      "['1751545+李庆涛+运筹学作业7.pdf', '1850588 蔡晋书 下（7）.pdf', '1850630 樊庶 第七次作业.pdf', '1850702王思涵第7次作业.pdf', '1850933梁星第七次作业.pdf', '1851179李晟第7次作业.pdf', '1851317-蔡依林-运筹学下作业7.pdf', '1851338 何佳萌 第七次作业 运筹学.pdf', '1851655 余韵婧 作业7.pdf', '1851688 施致远.pdf', '1851744叶倪瑄.pdf', '1851870丛诺7.pdf', '1851878 赵启晨 运筹学作业7.pdf', '1851923 吕辰杰 运筹学下第七次作业.pdf', '1852010 戚美晨.pdf', '1852428 刘旭东.pdf', '1852516-简子涵-运筹学第七次作业.pdf', '1852544-罗冠培.pdf', '1852823 邓骞 第七次作业.pdf', '1852830 王晨杨 第七次作业.pdf', '1852845孙颖聪 第七次作业.pdf', '1852885-马旭-运筹学下第七次作业.pdf', '1853234 冷帅.pdf', '1853241李佳欣.pdf', '1853280胡雨辰-第七次作业.pdf', '1853430孙乙月作业7.pdf', '1853447 苏浩文.pdf', '1853527张佳伟运筹下7.pdf', '1853566袁弋鸿.pdf', '1853699 胡佳炜.pdf', '1853804 王思澄 第7次作业.pdf', '1853823王砚轩第七次作业.pdf', '1853932 刘佳琦运筹学第七次作业.pdf', '1853937 樊孟奇 第7次作业.pdf', '1854161 张雪晨 运筹学（下）第七次作业.pdf', '1854171 孙思薇.pdf', '朱紫钰1752804作业7.pdf', '李兆祥1851872作业7.pdf', '第七次1853838徐子璇.pdf', '第七次作业-1850927-李振铭.pdf', '第七次作业1850926金筱语.pdf', '运筹学下作业7 刘岳朋 1850275.pdf', '运筹学下第七次作业-1853363-周洋.pdf', '运筹学作业 马沅辰 1853270.pdf', '运筹学第7次作业1851318汪芷瑶.pdf', '运筹学第七次作业1850580赵东虎.pdf']\n"
     ]
    }
   ],
   "source": [
    "import os\n",
    "import re\n",
    "spath =r'C:\\Users\\刘佳琦\\Desktop\\运筹学第七次作业-改'\n",
    "\n",
    "lists_names=[]\n",
    "n=0#记录原文件数\n",
    "t1=0#记录修改文件数\n",
    "t2=0\n",
    "for list_name in os.listdir(spath):    #用os库查看该文件目录下所有的文件名称\n",
    "    lists_names.append(list_name)\n",
    "    n+=1\n",
    "print(lists_names)\n",
    "xiugai=[]"
   ]
  },
  {
   "cell_type": "code",
   "execution_count": 7,
   "metadata": {},
   "outputs": [
    {
     "name": "stdout",
     "output_type": "stream",
     "text": [
      "C:\\Users\\刘佳琦\\Desktop\\运筹学第七次作业-改\\1751545+李庆涛+运筹学作业7.pdf ======> C:\\Users\\刘佳琦\\Desktop\\运筹学第七次作业-改\\1751545李庆涛7.pdf\n",
      "C:\\Users\\刘佳琦\\Desktop\\运筹学第七次作业-改\\1850588 蔡晋书 下（7）.pdf ======> C:\\Users\\刘佳琦\\Desktop\\运筹学第七次作业-改\\1850588蔡晋书7.pdf\n",
      "C:\\Users\\刘佳琦\\Desktop\\运筹学第七次作业-改\\1850630 樊庶 第七次作业.pdf ======> C:\\Users\\刘佳琦\\Desktop\\运筹学第七次作业-改\\1850630樊庶7.pdf\n",
      "C:\\Users\\刘佳琦\\Desktop\\运筹学第七次作业-改\\1850702王思涵第7次作业.pdf ======> C:\\Users\\刘佳琦\\Desktop\\运筹学第七次作业-改\\1850702王思涵7.pdf\n",
      "C:\\Users\\刘佳琦\\Desktop\\运筹学第七次作业-改\\1850933梁星第七次作业.pdf ======> C:\\Users\\刘佳琦\\Desktop\\运筹学第七次作业-改\\1850933梁星7.pdf\n",
      "C:\\Users\\刘佳琦\\Desktop\\运筹学第七次作业-改\\1851179李晟第7次作业.pdf ======> C:\\Users\\刘佳琦\\Desktop\\运筹学第七次作业-改\\1851179李晟7.pdf\n",
      "C:\\Users\\刘佳琦\\Desktop\\运筹学第七次作业-改\\1851317-蔡依林-运筹学下作业7.pdf ======> C:\\Users\\刘佳琦\\Desktop\\运筹学第七次作业-改\\1851317蔡依林7.pdf\n",
      "C:\\Users\\刘佳琦\\Desktop\\运筹学第七次作业-改\\1851338 何佳萌 第七次作业 运筹学.pdf ======> C:\\Users\\刘佳琦\\Desktop\\运筹学第七次作业-改\\1851338何佳萌7.pdf\n",
      "C:\\Users\\刘佳琦\\Desktop\\运筹学第七次作业-改\\1851655 余韵婧 作业7.pdf ======> C:\\Users\\刘佳琦\\Desktop\\运筹学第七次作业-改\\1851655余韵婧7.pdf\n",
      "C:\\Users\\刘佳琦\\Desktop\\运筹学第七次作业-改\\1851688 施致远.pdf ======> C:\\Users\\刘佳琦\\Desktop\\运筹学第七次作业-改\\1851688施致远7.pdf\n",
      "C:\\Users\\刘佳琦\\Desktop\\运筹学第七次作业-改\\1851744叶倪瑄.pdf ======> C:\\Users\\刘佳琦\\Desktop\\运筹学第七次作业-改\\1851744叶倪瑄7.pdf\n",
      "C:\\Users\\刘佳琦\\Desktop\\运筹学第七次作业-改\\1851870丛诺7.pdf ======> C:\\Users\\刘佳琦\\Desktop\\运筹学第七次作业-改\\1851870丛诺7.pdf\n",
      "C:\\Users\\刘佳琦\\Desktop\\运筹学第七次作业-改\\1851878 赵启晨 运筹学作业7.pdf ======> C:\\Users\\刘佳琦\\Desktop\\运筹学第七次作业-改\\1851878赵启晨7.pdf\n",
      "C:\\Users\\刘佳琦\\Desktop\\运筹学第七次作业-改\\1851923 吕辰杰 运筹学下第七次作业.pdf ======> C:\\Users\\刘佳琦\\Desktop\\运筹学第七次作业-改\\1851923吕辰杰7.pdf\n",
      "C:\\Users\\刘佳琦\\Desktop\\运筹学第七次作业-改\\1852010 戚美晨.pdf ======> C:\\Users\\刘佳琦\\Desktop\\运筹学第七次作业-改\\1852010戚美晨7.pdf\n",
      "C:\\Users\\刘佳琦\\Desktop\\运筹学第七次作业-改\\1852428 刘旭东.pdf ======> C:\\Users\\刘佳琦\\Desktop\\运筹学第七次作业-改\\1852428刘旭东7.pdf\n",
      "C:\\Users\\刘佳琦\\Desktop\\运筹学第七次作业-改\\1852516-简子涵-运筹学第七次作业.pdf ======> C:\\Users\\刘佳琦\\Desktop\\运筹学第七次作业-改\\1852516简子涵7.pdf\n",
      "C:\\Users\\刘佳琦\\Desktop\\运筹学第七次作业-改\\1852544-罗冠培.pdf ======> C:\\Users\\刘佳琦\\Desktop\\运筹学第七次作业-改\\1852544罗冠培7.pdf\n",
      "C:\\Users\\刘佳琦\\Desktop\\运筹学第七次作业-改\\1852823 邓骞 第七次作业.pdf ======> C:\\Users\\刘佳琦\\Desktop\\运筹学第七次作业-改\\1852823邓骞7.pdf\n",
      "C:\\Users\\刘佳琦\\Desktop\\运筹学第七次作业-改\\1852830 王晨杨 第七次作业.pdf ======> C:\\Users\\刘佳琦\\Desktop\\运筹学第七次作业-改\\1852830王晨杨7.pdf\n",
      "C:\\Users\\刘佳琦\\Desktop\\运筹学第七次作业-改\\1852845孙颖聪 第七次作业.pdf ======> C:\\Users\\刘佳琦\\Desktop\\运筹学第七次作业-改\\1852845孙颖聪7.pdf\n",
      "C:\\Users\\刘佳琦\\Desktop\\运筹学第七次作业-改\\1852885-马旭-运筹学下第七次作业.pdf ======> C:\\Users\\刘佳琦\\Desktop\\运筹学第七次作业-改\\1852885马旭7.pdf\n",
      "C:\\Users\\刘佳琦\\Desktop\\运筹学第七次作业-改\\1853234 冷帅.pdf ======> C:\\Users\\刘佳琦\\Desktop\\运筹学第七次作业-改\\1853234冷帅7.pdf\n",
      "C:\\Users\\刘佳琦\\Desktop\\运筹学第七次作业-改\\1853241李佳欣.pdf ======> C:\\Users\\刘佳琦\\Desktop\\运筹学第七次作业-改\\1853241李佳欣7.pdf\n",
      "C:\\Users\\刘佳琦\\Desktop\\运筹学第七次作业-改\\1853280胡雨辰-第七次作业.pdf ======> C:\\Users\\刘佳琦\\Desktop\\运筹学第七次作业-改\\1853280胡雨辰7.pdf\n",
      "C:\\Users\\刘佳琦\\Desktop\\运筹学第七次作业-改\\1853430孙乙月作业7.pdf ======> C:\\Users\\刘佳琦\\Desktop\\运筹学第七次作业-改\\1853430孙乙月7.pdf\n",
      "C:\\Users\\刘佳琦\\Desktop\\运筹学第七次作业-改\\1853447 苏浩文.pdf ======> C:\\Users\\刘佳琦\\Desktop\\运筹学第七次作业-改\\1853447苏浩文7.pdf\n",
      "C:\\Users\\刘佳琦\\Desktop\\运筹学第七次作业-改\\1853527张佳伟运筹下7.pdf ======> C:\\Users\\刘佳琦\\Desktop\\运筹学第七次作业-改\\1853527张佳伟7.pdf\n",
      "C:\\Users\\刘佳琦\\Desktop\\运筹学第七次作业-改\\1853566袁弋鸿.pdf ======> C:\\Users\\刘佳琦\\Desktop\\运筹学第七次作业-改\\1853566袁弋鸿7.pdf\n",
      "C:\\Users\\刘佳琦\\Desktop\\运筹学第七次作业-改\\1853699 胡佳炜.pdf ======> C:\\Users\\刘佳琦\\Desktop\\运筹学第七次作业-改\\1853699胡佳炜7.pdf\n",
      "C:\\Users\\刘佳琦\\Desktop\\运筹学第七次作业-改\\1853804 王思澄 第7次作业.pdf ======> C:\\Users\\刘佳琦\\Desktop\\运筹学第七次作业-改\\1853804王思澄7.pdf\n",
      "C:\\Users\\刘佳琦\\Desktop\\运筹学第七次作业-改\\1853823王砚轩第七次作业.pdf ======> C:\\Users\\刘佳琦\\Desktop\\运筹学第七次作业-改\\1853823王砚轩7.pdf\n",
      "C:\\Users\\刘佳琦\\Desktop\\运筹学第七次作业-改\\1853932 刘佳琦运筹学第七次作业.pdf ======> C:\\Users\\刘佳琦\\Desktop\\运筹学第七次作业-改\\1853932刘佳琦7.pdf\n",
      "C:\\Users\\刘佳琦\\Desktop\\运筹学第七次作业-改\\1853937 樊孟奇 第7次作业.pdf ======> C:\\Users\\刘佳琦\\Desktop\\运筹学第七次作业-改\\1853937樊孟奇7.pdf\n",
      "C:\\Users\\刘佳琦\\Desktop\\运筹学第七次作业-改\\1854161 张雪晨 运筹学（下）第七次作业.pdf ======> C:\\Users\\刘佳琦\\Desktop\\运筹学第七次作业-改\\1854161张雪晨7.pdf\n",
      "C:\\Users\\刘佳琦\\Desktop\\运筹学第七次作业-改\\1854171 孙思薇.pdf ======> C:\\Users\\刘佳琦\\Desktop\\运筹学第七次作业-改\\1854171孙思薇7.pdf\n",
      "C:\\Users\\刘佳琦\\Desktop\\运筹学第七次作业-改\\朱紫钰1752804作业7.pdf ======> C:\\Users\\刘佳琦\\Desktop\\运筹学第七次作业-改\\1752804朱紫钰7.pdf\n",
      "C:\\Users\\刘佳琦\\Desktop\\运筹学第七次作业-改\\李兆祥1851872作业7.pdf ======> C:\\Users\\刘佳琦\\Desktop\\运筹学第七次作业-改\\1851872李兆祥7.pdf\n",
      "C:\\Users\\刘佳琦\\Desktop\\运筹学第七次作业-改\\第七次1853838徐子璇.pdf ======> C:\\Users\\刘佳琦\\Desktop\\运筹学第七次作业-改\\1853838徐子璇7.pdf\n",
      "C:\\Users\\刘佳琦\\Desktop\\运筹学第七次作业-改\\第七次作业-1850927-李振铭.pdf ======> C:\\Users\\刘佳琦\\Desktop\\运筹学第七次作业-改\\1850927李振铭7.pdf\n",
      "C:\\Users\\刘佳琦\\Desktop\\运筹学第七次作业-改\\第七次作业1850926金筱语.pdf ======> C:\\Users\\刘佳琦\\Desktop\\运筹学第七次作业-改\\1850926金筱语7.pdf\n",
      "C:\\Users\\刘佳琦\\Desktop\\运筹学第七次作业-改\\运筹学下作业7 刘岳朋 1850275.pdf ======> C:\\Users\\刘佳琦\\Desktop\\运筹学第七次作业-改\\1850275刘岳朋7.pdf\n",
      "C:\\Users\\刘佳琦\\Desktop\\运筹学第七次作业-改\\运筹学下第七次作业-1853363-周洋.pdf ======> C:\\Users\\刘佳琦\\Desktop\\运筹学第七次作业-改\\1853363周洋7.pdf\n",
      "C:\\Users\\刘佳琦\\Desktop\\运筹学第七次作业-改\\运筹学作业 马沅辰 1853270.pdf ======> C:\\Users\\刘佳琦\\Desktop\\运筹学第七次作业-改\\1853270马沅辰7.pdf\n",
      "C:\\Users\\刘佳琦\\Desktop\\运筹学第七次作业-改\\运筹学第7次作业1851318汪芷瑶.pdf ======> C:\\Users\\刘佳琦\\Desktop\\运筹学第七次作业-改\\1851318汪芷瑶7.pdf\n",
      "C:\\Users\\刘佳琦\\Desktop\\运筹学第七次作业-改\\运筹学第七次作业1850580赵东虎.pdf ======> C:\\Users\\刘佳琦\\Desktop\\运筹学第七次作业-改\\1850580赵东虎7.pdf\n",
      "46 46 0\n"
     ]
    }
   ],
   "source": [
    "no=7\n",
    "for name in lists_names:   \n",
    "    l=re.findall(r\"\\d+\\.?\\d*\",name)\n",
    "    for i in l:\n",
    "        if float(i)>1000000:\n",
    "            xuehao=(int(float(i)))\n",
    "            if xuehao not in xiugai:\n",
    "                xiugai.append(xuehao)\n",
    "                try:\n",
    "\n",
    "                    #设置旧文件名（就是路径+文件名）\n",
    "                    oldname=spath+ os.sep + name  # os.sep添加系统分隔符\n",
    "                    xiugai.append(xuehao)\n",
    "\n",
    "                    #设置新文件名\n",
    "                    \n",
    "                    newname=spath+ os.sep +str(xuehao)+dic1[xuehao]+str(no)+'.pdf'\n",
    "\n",
    "                    os.rename(oldname,newname)   #用os模块中的rename方法对文件改名\n",
    "                    print(oldname,'======>',newname)\n",
    "\n",
    "                    t1+=1\n",
    "                except:\n",
    "                    print(\"%s修改失败\"%dic1[xuehao])\n",
    "                    continue\n",
    "            else:\n",
    "                try:\n",
    "\n",
    "                    #设置旧文件名（就是路径+文件名）\n",
    "                    oldname=spath+ os.sep + name  # os.sep添加系统分隔符\n",
    "                    xiugai.append(xuehao)\n",
    "\n",
    "                    #设置新文件名\n",
    "                    newname=spath+ os.sep +str(xuehao)+ dic1[xuehao]+'2'+'.pdf'\n",
    "\n",
    "                    os.rename(oldname,newname)   #用os模块中的rename方法对文件改名\n",
    "                    print(oldname,'======>',newname)\n",
    "\n",
    "                    t2+=1\n",
    "                except:\n",
    "                    continue\n",
    "            \n",
    "print(n,t1,t2)    "
   ]
  },
  {
   "cell_type": "code",
   "execution_count": null,
   "metadata": {},
   "outputs": [],
   "source": []
  }
 ],
 "metadata": {
  "kernelspec": {
   "display_name": "Python 3 (ipykernel)",
   "language": "python",
   "name": "python3"
  },
  "language_info": {
   "codemirror_mode": {
    "name": "ipython",
    "version": 3
   },
   "file_extension": ".py",
   "mimetype": "text/x-python",
   "name": "python",
   "nbconvert_exporter": "python",
   "pygments_lexer": "ipython3",
   "version": "3.9.7"
  }
 },
 "nbformat": 4,
 "nbformat_minor": 4
}
